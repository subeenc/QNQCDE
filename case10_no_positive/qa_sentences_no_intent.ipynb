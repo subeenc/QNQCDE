{
 "cells": [
  {
   "cell_type": "code",
   "execution_count": 1,
   "metadata": {},
   "outputs": [],
   "source": [
    "import pandas as pd\n",
    "from tqdm import tqdm\n",
    "import random\n"
   ]
  },
  {
   "cell_type": "markdown",
   "metadata": {},
   "source": [
    "### 원본 데이터에서 시작"
   ]
  },
  {
   "cell_type": "code",
   "execution_count": 2,
   "metadata": {},
   "outputs": [],
   "source": [
    "datasetname = 'metalwoz' # metalwoz, mwoz, selfdialog, sgd\n",
    "column_names = ['turn', 'dialogue', 'label']\n",
    "path = '/home/jihyeon41/research_dial_embedding/dial2vec_git/dial2vec/datasets/'\n",
    "\n",
    "train_df = pd.read_csv(f'{path}{datasetname}/train.tsv', sep = '\\t', header=None, names=column_names)\n"
   ]
  },
  {
   "cell_type": "code",
   "execution_count": 3,
   "metadata": {},
   "outputs": [
    {
     "data": {
      "text/plain": [
       "['Hello how may I help you? name?',\n",
       " 'new contact add',\n",
       " 'name',\n",
       " 'john',\n",
       " 'email',\n",
       " 'john@email',\n",
       " 'ade? age?',\n",
       " '45',\n",
       " 'height?',\n",
       " \"5''1'\",\n",
       " 'eye color',\n",
       " 'blue|Hello how may I help you?',\n",
       " 'new contact add',\n",
       " 'It did have an earlier opening, but the wrong address was put on the permit. So they are delayed until all the paperwork is in order',\n",
       " 'john',\n",
       " 'The one with the dentist?',\n",
       " 'john@email',\n",
       " 'Sure, what is your question about text adventures of Zork?',\n",
       " '45',\n",
       " 'Hello how may I help you?',\n",
       " \"5''1'\",\n",
       " 'That is playing at 6 8 and 10',\n",
       " 'blue|The tickets are 35 a piece',\n",
       " 'new contact add',\n",
       " 'They are now deleted Anything else you need help with?',\n",
       " 'john',\n",
       " 'Are you being paid a fair amount?',\n",
       " 'john@email',\n",
       " 'When would you like the reminder set?',\n",
       " '45',\n",
       " 'Michael Phelps',\n",
       " \"5''1'\",\n",
       " 'You should try the Purina Dog brand',\n",
       " 'blue|Hello how may I help you?',\n",
       " 'new contact add',\n",
       " 'Hello how may I help you?',\n",
       " 'john',\n",
       " 'It seems that the storm moved south instead of north.',\n",
       " 'john@email',\n",
       " 'Okay. Which book?',\n",
       " '45',\n",
       " 'Hello how may I help you?',\n",
       " \"5''1'\",\n",
       " 'Ok, goodbye!',\n",
       " 'blue|The 3D IMAX is 1250 $12.50',\n",
       " 'new contact add',\n",
       " 'Alright. Your alarm is set for 7 AM.',\n",
       " 'john',\n",
       " 'Yes, those are the only two pet stores within your vicinity',\n",
       " 'john@email',\n",
       " 'Yes, Mice and Men will be showing right after.',\n",
       " '45',\n",
       " 'Hello how may I help you?',\n",
       " \"5''1'\",\n",
       " 'I \\'m very sorry for that. I will erase the contact of \"My Love\" right now.',\n",
       " 'blue|OK how can I help you with? Do you me to edit or add some contacts for you? want',\n",
       " 'new contact add',\n",
       " 'Which contact?',\n",
       " 'john',\n",
       " 'everything but water damage. water damage is not covered.',\n",
       " 'john@email',\n",
       " 'what is it',\n",
       " '45',\n",
       " \"You're welcome!\",\n",
       " \"5''1'\",\n",
       " 'Okay what days',\n",
       " 'blue|Hello how may I help you?',\n",
       " 'new contact add',\n",
       " 'The Company will not accept return products.',\n",
       " 'john',\n",
       " 'Still nothing, sorry.',\n",
       " 'john@email',\n",
       " 'If I delete your contact Jane Doe the information will be lost. This cannot be undone. Are you sure you want to delete Contact Jane Doe?',\n",
       " '45',\n",
       " \"Alright, I'll book you five tickets for the football game this Sunday.\",\n",
       " \"5''1'\",\n",
       " 'Okay',\n",
       " 'blue|Hello how may I help you?',\n",
       " 'new contact add',\n",
       " 'how many pies and what kinds?',\n",
       " 'john',\n",
       " 'So pepperoni and sausage?',\n",
       " 'john@email',\n",
       " 'Alright.',\n",
       " '45',\n",
       " 'Hello how may I help you?',\n",
       " \"5''1'\",\n",
       " 'Im sorry',\n",
       " 'blue|That question is really hard to answer. For each destination, there are many different costs. It is hard to judge easily which will cost more.',\n",
       " 'new contact add',\n",
       " 'PUBG',\n",
       " 'john',\n",
       " \"Sure, I'd be happy to help you out!\",\n",
       " 'john@email',\n",
       " 'Sure',\n",
       " '45',\n",
       " 'For a three year old baby girl, I would suggest a teddy bear for her to snuggle with.',\n",
       " \"5''1'\",\n",
       " \"It doesn't appear to be\",\n",
       " 'blue|Those shows run for another 2 weeks',\n",
       " 'new contact add',\n",
       " 'Sure, which one?',\n",
       " 'john',\n",
       " \"MJ's Thriller at 22 mill copies.\",\n",
       " 'john@email',\n",
       " 'Sure. Which world record were you interested in?',\n",
       " '45',\n",
       " 'Okay. The sound has been set on all of your alarms.',\n",
       " \"5''1'\",\n",
       " 'Okay, both of those appointments are already in your calendar. I can set a reminder alarm in the morning before each of those appointments if that would be helpful, or I can set the alarm for the day before to remind you.',\n",
       " 'blue']"
      ]
     },
     "execution_count": 3,
     "metadata": {},
     "output_type": "execute_result"
    }
   ],
   "source": [
    "train_df['dialogue'][0].split('#')"
   ]
  },
  {
   "cell_type": "code",
   "execution_count": 4,
   "metadata": {},
   "outputs": [
    {
     "data": {
      "text/plain": [
       "[\"Hello how may I help you? name?#new contact add#name#john#email#john@email#ade? age?#45#height?#5''1'#eye color#blue\",\n",
       " \"Hello how may I help you?#new contact add#It did have an earlier opening, but the wrong address was put on the permit. So they are delayed until all the paperwork is in order#john#The one with the dentist?#john@email#Sure, what is your question about text adventures of Zork?#45#Hello how may I help you?#5''1'#That is playing at 6 8 and 10#blue\",\n",
       " \"The tickets are 35 a piece#new contact add#They are now deleted Anything else you need help with?#john#Are you being paid a fair amount?#john@email#When would you like the reminder set?#45#Michael Phelps#5''1'#You should try the Purina Dog brand#blue\",\n",
       " \"Hello how may I help you?#new contact add#Hello how may I help you?#john#It seems that the storm moved south instead of north.#john@email#Okay. Which book?#45#Hello how may I help you?#5''1'#Ok, goodbye!#blue\",\n",
       " 'The 3D IMAX is 1250 $12.50#new contact add#Alright. Your alarm is set for 7 AM.#john#Yes, those are the only two pet stores within your vicinity#john@email#Yes, Mice and Men will be showing right after.#45#Hello how may I help you?#5\\'\\'1\\'#I \\'m very sorry for that. I will erase the contact of \"My Love\" right now.#blue',\n",
       " \"OK how can I help you with? Do you me to edit or add some contacts for you? want#new contact add#Which contact?#john#everything but water damage. water damage is not covered.#john@email#what is it#45#You're welcome!#5''1'#Okay what days#blue\",\n",
       " \"Hello how may I help you?#new contact add#The Company will not accept return products.#john#Still nothing, sorry.#john@email#If I delete your contact Jane Doe the information will be lost. This cannot be undone. Are you sure you want to delete Contact Jane Doe?#45#Alright, I'll book you five tickets for the football game this Sunday.#5''1'#Okay#blue\",\n",
       " \"Hello how may I help you?#new contact add#how many pies and what kinds?#john#So pepperoni and sausage?#john@email#Alright.#45#Hello how may I help you?#5''1'#Im sorry#blue\",\n",
       " \"That question is really hard to answer. For each destination, there are many different costs. It is hard to judge easily which will cost more.#new contact add#PUBG#john#Sure, I'd be happy to help you out!#john@email#Sure#45#For a three year old baby girl, I would suggest a teddy bear for her to snuggle with.#5''1'#It doesn't appear to be#blue\",\n",
       " \"Those shows run for another 2 weeks#new contact add#Sure, which one?#john#MJ's Thriller at 22 mill copies.#john@email#Sure. Which world record were you interested in?#45#Okay. The sound has been set on all of your alarms.#5''1'#Okay, both of those appointments are already in your calendar. I can set a reminder alarm in the morning before each of those appointments if that would be helpful, or I can set the alarm for the day before to remind you.#blue\"]"
      ]
     },
     "execution_count": 4,
     "metadata": {},
     "output_type": "execute_result"
    }
   ],
   "source": [
    "# train_df = train_df.head(5)\n",
    "train_df['dial_split'] = train_df['dialogue'].str.split('|').tolist()\n",
    "train_df['dial_split'][0]"
   ]
  },
  {
   "cell_type": "code",
   "execution_count": 5,
   "metadata": {},
   "outputs": [
    {
     "data": {
      "text/html": [
       "<div>\n",
       "<style scoped>\n",
       "    .dataframe tbody tr th:only-of-type {\n",
       "        vertical-align: middle;\n",
       "    }\n",
       "\n",
       "    .dataframe tbody tr th {\n",
       "        vertical-align: top;\n",
       "    }\n",
       "\n",
       "    .dataframe thead th {\n",
       "        text-align: right;\n",
       "    }\n",
       "</style>\n",
       "<table border=\"1\" class=\"dataframe\">\n",
       "  <thead>\n",
       "    <tr style=\"text-align: right;\">\n",
       "      <th></th>\n",
       "      <th>turn</th>\n",
       "      <th>dialogue</th>\n",
       "      <th>label</th>\n",
       "      <th>dial_split</th>\n",
       "    </tr>\n",
       "  </thead>\n",
       "  <tbody>\n",
       "    <tr>\n",
       "      <th>0</th>\n",
       "      <td>010101010101</td>\n",
       "      <td>Hello how may I help you? name?#new contact ad...</td>\n",
       "      <td>0</td>\n",
       "      <td>[Hello how may I help you? name?#new contact a...</td>\n",
       "    </tr>\n",
       "    <tr>\n",
       "      <th>1</th>\n",
       "      <td>0101010101010</td>\n",
       "      <td>Hello how may I help you?#Can you help me add ...</td>\n",
       "      <td>0</td>\n",
       "      <td>[Hello how may I help you?#Can you help me add...</td>\n",
       "    </tr>\n",
       "    <tr>\n",
       "      <th>2</th>\n",
       "      <td>01010101010</td>\n",
       "      <td>Hello how may I help you?#Hello I am trying to...</td>\n",
       "      <td>0</td>\n",
       "      <td>[Hello how may I help you?#Hello I am trying t...</td>\n",
       "    </tr>\n",
       "  </tbody>\n",
       "</table>\n",
       "</div>"
      ],
      "text/plain": [
       "            turn                                           dialogue  label  \\\n",
       "0   010101010101  Hello how may I help you? name?#new contact ad...      0   \n",
       "1  0101010101010  Hello how may I help you?#Can you help me add ...      0   \n",
       "2    01010101010  Hello how may I help you?#Hello I am trying to...      0   \n",
       "\n",
       "                                          dial_split  \n",
       "0  [Hello how may I help you? name?#new contact a...  \n",
       "1  [Hello how may I help you?#Can you help me add...  \n",
       "2  [Hello how may I help you?#Hello I am trying t...  "
      ]
     },
     "execution_count": 5,
     "metadata": {},
     "output_type": "execute_result"
    }
   ],
   "source": [
    "train_df.head(3)"
   ]
  },
  {
   "cell_type": "markdown",
   "metadata": {},
   "source": [
    "### 질문, 대답 리스트 만들기"
   ]
  },
  {
   "cell_type": "code",
   "execution_count": 6,
   "metadata": {},
   "outputs": [],
   "source": [
    "import re\n",
    "import warnings\n",
    "warnings.filterwarnings(\"ignore\")\n",
    "\n",
    "def add_sep_to_turn(turn):\n",
    "    # 문장 구분을 위한 정규표현식\n",
    "    # sentence_pattern = re.compile(r'([.!?])\\s+(?=[A-Z])')\n",
    "    sentence_pattern = re.compile(r'(?<!\\w\\.\\w.)(?<![A-Z][a-z]\\.)(?<=\\.|\\!|\\?)\\s')  # U.S.A., Mr. 등 배제\n",
    "    \n",
    "    # 문장 구분자를 추가할 턴\n",
    "    new_turn = \"\"\n",
    "    sentences = re.split(sentence_pattern, turn)\n",
    "    for i, sentence in enumerate(sentences):\n",
    "        if not sentence.strip():\n",
    "            continue\n",
    "        \n",
    "        new_turn += sentence\n",
    "        # 마지막 문장이 아니면서 다음 문자가 대문자인 경우 [sep] 추가\n",
    "        if i < len(sentences) - 1 and sentences[i + 1] and sentences[i + 1][0].isupper():\n",
    "            new_turn += \"[sep]\"\n",
    "    \n",
    "    return new_turn"
   ]
  },
  {
   "cell_type": "code",
   "execution_count": 7,
   "metadata": {},
   "outputs": [],
   "source": [
    "# 대화를 턴 단위로 구분하여 문장 구분자 [sep] 추가\n",
    "def add_sep_to_dialogue(dialogue):\n",
    "    turns = dialogue.split('#')\n",
    "    new_dialogue = \"\"\n",
    "    for i, turn in enumerate(turns):\n",
    "        new_turn = add_sep_to_turn(turn)\n",
    "        new_dialogue += new_turn\n",
    "        if i < len(turns) - 1:\n",
    "            new_dialogue += \"#\"\n",
    "    \n",
    "    return new_dialogue"
   ]
  },
  {
   "cell_type": "code",
   "execution_count": 8,
   "metadata": {},
   "outputs": [
    {
     "name": "stderr",
     "output_type": "stream",
     "text": [
      "100%|██████████| 60614/60614 [00:29<00:00, 2032.67it/s]\n"
     ]
    },
    {
     "data": {
      "text/plain": [
       "[\"Hello how may I help you?name?#new contact add#name#john#email#john@email#ade?age?#45#height?#5''1'#eye color#blue\",\n",
       " \"Hello how may I help you?#new contact add#It did have an earlier opening, but the wrong address was put on the permit.[sep]So they are delayed until all the paperwork is in order#john#The one with the dentist?#john@email#Sure, what is your question about text adventures of Zork?#45#Hello how may I help you?#5''1'#That is playing at 6 8 and 10#blue\",\n",
       " \"The tickets are 35 a piece#new contact add#They are now deleted Anything else you need help with?#john#Are you being paid a fair amount?#john@email#When would you like the reminder set?#45#Michael Phelps#5''1'#You should try the Purina Dog brand#blue\",\n",
       " \"Hello how may I help you?#new contact add#Hello how may I help you?#john#It seems that the storm moved south instead of north.#john@email#Okay.[sep]Which book?#45#Hello how may I help you?#5''1'#Ok, goodbye!#blue\",\n",
       " 'The 3D IMAX is 1250 $12.50#new contact add#Alright.[sep]Your alarm is set for 7 AM.#john#Yes, those are the only two pet stores within your vicinity#john@email#Yes, Mice and Men will be showing right after.#45#Hello how may I help you?#5\\'\\'1\\'#I \\'m very sorry for that.[sep]I will erase the contact of \"My Love\" right now.#blue',\n",
       " \"OK how can I help you with?[sep]Do you me to edit or add some contacts for you?want#new contact add#Which contact?#john#everything but water damage.water damage is not covered.#john@email#what is it#45#You're welcome!#5''1'#Okay what days#blue\",\n",
       " \"Hello how may I help you?#new contact add#The Company will not accept return products.#john#Still nothing, sorry.#john@email#If I delete your contact Jane Doe the information will be lost.[sep]This cannot be undone.[sep]Are you sure you want to delete Contact Jane Doe?#45#Alright, I'll book you five tickets for the football game this Sunday.#5''1'#Okay#blue\",\n",
       " \"Hello how may I help you?#new contact add#how many pies and what kinds?#john#So pepperoni and sausage?#john@email#Alright.#45#Hello how may I help you?#5''1'#Im sorry#blue\",\n",
       " \"That question is really hard to answer.[sep]For each destination, there are many different costs.[sep]It is hard to judge easily which will cost more.#new contact add#PUBG#john#Sure, I'd be happy to help you out!#john@email#Sure#45#For a three year old baby girl, I would suggest a teddy bear for her to snuggle with.#5''1'#It doesn't appear to be#blue\",\n",
       " \"Those shows run for another 2 weeks#new contact add#Sure, which one?#john#MJ's Thriller at 22 mill copies.#john@email#Sure.[sep]Which world record were you interested in?#45#Okay.[sep]The sound has been set on all of your alarms.#5''1'#Okay, both of those appointments are already in your calendar.[sep]I can set a reminder alarm in the morning before each of those appointments if that would be helpful, or I can set the alarm for the day before to remind you.#blue\"]"
      ]
     },
     "metadata": {},
     "output_type": "display_data"
    }
   ],
   "source": [
    "# 턴을 문장 단위로 구분하여 [sep] 구분자 추가\n",
    "for i, dial_split in tqdm(enumerate(train_df['dial_split']), total=len(train_df['dial_split'])):\n",
    "    new_dial_split = [add_sep_to_dialogue(turn) for turn in dial_split]\n",
    "    train_df['dial_split'][i] = new_dial_split\n",
    "\n",
    "display(train_df['dial_split'][0])"
   ]
  },
  {
   "cell_type": "code",
   "execution_count": 9,
   "metadata": {},
   "outputs": [
    {
     "name": "stderr",
     "output_type": "stream",
     "text": [
      "  0%|          | 0/60614 [00:00<?, ?it/s]"
     ]
    },
    {
     "name": "stderr",
     "output_type": "stream",
     "text": [
      "100%|██████████| 60614/60614 [00:00<00:00, 110234.09it/s]\n"
     ]
    }
   ],
   "source": [
    "# 질문과 대답 리스트 생성\n",
    "q_list = []\n",
    "a_list = []\n",
    "question_keywords = re.compile(r'^(who|what|why|when|where|how|is|are|does|did|do|can|could|will|would|shall|should|might|must|may|won\\'t|can\\'t|isn\\'t|aren\\'t|was|were|has|haven\\'t|had|shall|whom|whose|which)\\b',re.IGNORECASE)\n",
    "# intent_keywords = re.compile(r'\\b(like|need|help|want|book|pick|think)\\b', re.IGNORECASE)\n",
    "\n",
    "for dial_split in tqdm(train_df['dial_split'], total=len(train_df['dial_split'])):\n",
    "    dial = dial_split[0]\n",
    "    turns = dial.split('#')\n",
    "    for turn in turns:\n",
    "        if '[sep]' in turn:\n",
    "            sentences = turn.split('[sep]')  # [sep]로 분리된 문장\n",
    "            for sentence in sentences:\n",
    "                if '?' in sentence or question_keywords.match(sentence.strip()):\n",
    "                    q_list.append(sentence)\n",
    "                else:\n",
    "                    a_list.append(sentence)\n",
    "        else:\n",
    "            if '?' in turn or question_keywords.match(turn.lower().strip()):\n",
    "                q_list.append(turn)\n",
    "            else:\n",
    "                a_list.append(turn) ;''"
   ]
  },
  {
   "cell_type": "code",
   "execution_count": 10,
   "metadata": {},
   "outputs": [],
   "source": [
    "q_list = list(set(q_list))\n",
    "a_list = list(set(a_list))"
   ]
  },
  {
   "cell_type": "code",
   "execution_count": 11,
   "metadata": {},
   "outputs": [
    {
     "name": "stdout",
     "output_type": "stream",
     "text": [
      "q_list: 81839\n",
      "a_list: 173352\n"
     ]
    }
   ],
   "source": [
    "print(\"q_list:\", len(q_list))\n",
    "# display(q_list)\n",
    "\n",
    "print(\"a_list:\", len(a_list))\n",
    "# display(a_list)"
   ]
  },
  {
   "cell_type": "markdown",
   "metadata": {},
   "source": [
    "### 턴 단위의 대화를 문장 단위로 구분, turn도 문장 단위로 변경하되 동일한 턴은 같은 숫자 부여"
   ]
  },
  {
   "cell_type": "code",
   "execution_count": 12,
   "metadata": {},
   "outputs": [],
   "source": [
    "# 기존 negative samples를 활용하지 않을 경우\n",
    "train_df['dialogue'] = train_df['dialogue'].str.split('|').str[0]\n",
    "train_df.drop(columns=['dial_split'], inplace=True)"
   ]
  },
  {
   "cell_type": "code",
   "execution_count": 13,
   "metadata": {},
   "outputs": [
    {
     "name": "stderr",
     "output_type": "stream",
     "text": [
      "100%|██████████| 60614/60614 [00:10<00:00, 6014.70it/s]\n"
     ]
    }
   ],
   "source": [
    "# 턴을 문장 단위로 구분하여 [sep] 구분자 추가\n",
    "train_df['sep_dial'] = ''\n",
    "for i, dial in tqdm(enumerate(train_df['dialogue']), total=len(train_df['dialogue'])):\n",
    "    sep_dial = add_sep_to_dialogue(dial)\n",
    "    train_df['sep_dial'][i] = sep_dial"
   ]
  },
  {
   "cell_type": "code",
   "execution_count": 14,
   "metadata": {},
   "outputs": [],
   "source": [
    "# [sep] 구분자 개수 세는 함수\n",
    "def count_sep_per_turn(text):\n",
    "    turns = text.split('#')  # #로 대화 턴 분리\n",
    "    sep_counts = [turn.count('[sep]')+1 for turn in turns]  # 각 턴에서 [sep]을 이용해서 문장 개수 세기\n",
    "    return sep_counts"
   ]
  },
  {
   "cell_type": "code",
   "execution_count": 15,
   "metadata": {},
   "outputs": [],
   "source": [
    "train_df['sep_counts_per_turn'] = train_df['sep_dial'].apply(count_sep_per_turn)"
   ]
  },
  {
   "cell_type": "code",
   "execution_count": 16,
   "metadata": {},
   "outputs": [
    {
     "data": {
      "text/html": [
       "<div>\n",
       "<style scoped>\n",
       "    .dataframe tbody tr th:only-of-type {\n",
       "        vertical-align: middle;\n",
       "    }\n",
       "\n",
       "    .dataframe tbody tr th {\n",
       "        vertical-align: top;\n",
       "    }\n",
       "\n",
       "    .dataframe thead th {\n",
       "        text-align: right;\n",
       "    }\n",
       "</style>\n",
       "<table border=\"1\" class=\"dataframe\">\n",
       "  <thead>\n",
       "    <tr style=\"text-align: right;\">\n",
       "      <th></th>\n",
       "      <th>turn</th>\n",
       "      <th>dialogue</th>\n",
       "      <th>label</th>\n",
       "      <th>sep_dial</th>\n",
       "      <th>sep_counts_per_turn</th>\n",
       "    </tr>\n",
       "  </thead>\n",
       "  <tbody>\n",
       "    <tr>\n",
       "      <th>0</th>\n",
       "      <td>010101010101</td>\n",
       "      <td>Hello how may I help you? name?#new contact ad...</td>\n",
       "      <td>0</td>\n",
       "      <td>Hello how may I help you?name?#new contact add...</td>\n",
       "      <td>[1, 1, 1, 1, 1, 1, 1, 1, 1, 1, 1, 1]</td>\n",
       "    </tr>\n",
       "    <tr>\n",
       "      <th>1</th>\n",
       "      <td>0101010101010</td>\n",
       "      <td>Hello how may I help you?#Can you help me add ...</td>\n",
       "      <td>0</td>\n",
       "      <td>Hello how may I help you?#Can you help me add ...</td>\n",
       "      <td>[1, 1, 2, 1, 2, 1, 2, 1, 1, 1, 3, 1, 1]</td>\n",
       "    </tr>\n",
       "    <tr>\n",
       "      <th>2</th>\n",
       "      <td>01010101010</td>\n",
       "      <td>Hello how may I help you?#Hello I am trying to...</td>\n",
       "      <td>0</td>\n",
       "      <td>Hello how may I help you?#Hello I am trying to...</td>\n",
       "      <td>[1, 2, 2, 3, 2, 2, 1, 2, 2, 1, 2]</td>\n",
       "    </tr>\n",
       "  </tbody>\n",
       "</table>\n",
       "</div>"
      ],
      "text/plain": [
       "            turn                                           dialogue  label  \\\n",
       "0   010101010101  Hello how may I help you? name?#new contact ad...      0   \n",
       "1  0101010101010  Hello how may I help you?#Can you help me add ...      0   \n",
       "2    01010101010  Hello how may I help you?#Hello I am trying to...      0   \n",
       "\n",
       "                                            sep_dial  \\\n",
       "0  Hello how may I help you?name?#new contact add...   \n",
       "1  Hello how may I help you?#Can you help me add ...   \n",
       "2  Hello how may I help you?#Hello I am trying to...   \n",
       "\n",
       "                       sep_counts_per_turn  \n",
       "0     [1, 1, 1, 1, 1, 1, 1, 1, 1, 1, 1, 1]  \n",
       "1  [1, 1, 2, 1, 2, 1, 2, 1, 1, 1, 3, 1, 1]  \n",
       "2        [1, 2, 2, 3, 2, 2, 1, 2, 2, 1, 2]  "
      ]
     },
     "execution_count": 16,
     "metadata": {},
     "output_type": "execute_result"
    }
   ],
   "source": [
    "train_df.head(3)"
   ]
  },
  {
   "cell_type": "code",
   "execution_count": 17,
   "metadata": {},
   "outputs": [],
   "source": [
    "# 문장 단위로 turn 수정\n",
    "\n",
    "# 1과 0이 번갈아가며 이루어진 리스트 생성 함수\n",
    "def generate_turn_list(sep_counts_per_turn):\n",
    "    turn_list = []\n",
    "    for i, count in enumerate(sep_counts_per_turn):\n",
    "        if i % 2 == 0:  # 짝수번째\n",
    "            turn_list.extend([1] * count)\n",
    "        else:  # 홀수번째\n",
    "            turn_list.extend([0] * count)\n",
    "    return turn_list\n",
    "\n",
    "train_df['turn'] = train_df['sep_counts_per_turn'].apply(generate_turn_list)"
   ]
  },
  {
   "cell_type": "code",
   "execution_count": 18,
   "metadata": {},
   "outputs": [],
   "source": [
    "def convert_to_binary(turn_list):\n",
    "    turn_str = ''.join(map(str, turn_list))\n",
    "    return turn_str\n",
    "\n",
    "train_df['turn'] = train_df['turn'].apply(convert_to_binary)"
   ]
  },
  {
   "cell_type": "code",
   "execution_count": 19,
   "metadata": {},
   "outputs": [
    {
     "data": {
      "text/html": [
       "<div>\n",
       "<style scoped>\n",
       "    .dataframe tbody tr th:only-of-type {\n",
       "        vertical-align: middle;\n",
       "    }\n",
       "\n",
       "    .dataframe tbody tr th {\n",
       "        vertical-align: top;\n",
       "    }\n",
       "\n",
       "    .dataframe thead th {\n",
       "        text-align: right;\n",
       "    }\n",
       "</style>\n",
       "<table border=\"1\" class=\"dataframe\">\n",
       "  <thead>\n",
       "    <tr style=\"text-align: right;\">\n",
       "      <th></th>\n",
       "      <th>turn</th>\n",
       "      <th>dialogue</th>\n",
       "      <th>label</th>\n",
       "      <th>sep_dial</th>\n",
       "      <th>sep_counts_per_turn</th>\n",
       "    </tr>\n",
       "  </thead>\n",
       "  <tbody>\n",
       "    <tr>\n",
       "      <th>0</th>\n",
       "      <td>101010101010</td>\n",
       "      <td>Hello how may I help you? name?#new contact ad...</td>\n",
       "      <td>0</td>\n",
       "      <td>Hello how may I help you?name?#new contact add...</td>\n",
       "      <td>[1, 1, 1, 1, 1, 1, 1, 1, 1, 1, 1, 1]</td>\n",
       "    </tr>\n",
       "    <tr>\n",
       "      <th>1</th>\n",
       "      <td>101101101101011101</td>\n",
       "      <td>Hello how may I help you?#Can you help me add ...</td>\n",
       "      <td>0</td>\n",
       "      <td>Hello how may I help you?#Can you help me add ...</td>\n",
       "      <td>[1, 1, 2, 1, 2, 1, 2, 1, 1, 1, 3, 1, 1]</td>\n",
       "    </tr>\n",
       "    <tr>\n",
       "      <th>2</th>\n",
       "      <td>10011000110010011011</td>\n",
       "      <td>Hello how may I help you?#Hello I am trying to...</td>\n",
       "      <td>0</td>\n",
       "      <td>Hello how may I help you?#Hello I am trying to...</td>\n",
       "      <td>[1, 2, 2, 3, 2, 2, 1, 2, 2, 1, 2]</td>\n",
       "    </tr>\n",
       "  </tbody>\n",
       "</table>\n",
       "</div>"
      ],
      "text/plain": [
       "                   turn                                           dialogue  \\\n",
       "0          101010101010  Hello how may I help you? name?#new contact ad...   \n",
       "1    101101101101011101  Hello how may I help you?#Can you help me add ...   \n",
       "2  10011000110010011011  Hello how may I help you?#Hello I am trying to...   \n",
       "\n",
       "   label                                           sep_dial  \\\n",
       "0      0  Hello how may I help you?name?#new contact add...   \n",
       "1      0  Hello how may I help you?#Can you help me add ...   \n",
       "2      0  Hello how may I help you?#Hello I am trying to...   \n",
       "\n",
       "                       sep_counts_per_turn  \n",
       "0     [1, 1, 1, 1, 1, 1, 1, 1, 1, 1, 1, 1]  \n",
       "1  [1, 1, 2, 1, 2, 1, 2, 1, 1, 1, 3, 1, 1]  \n",
       "2        [1, 2, 2, 3, 2, 2, 1, 2, 2, 1, 2]  "
      ]
     },
     "execution_count": 19,
     "metadata": {},
     "output_type": "execute_result"
    }
   ],
   "source": [
    "train_df.head(3)"
   ]
  },
  {
   "cell_type": "code",
   "execution_count": 20,
   "metadata": {},
   "outputs": [],
   "source": [
    "# [sep]구분자도 모두 #으로 변경하여 문장 단위의 구분으로 dialogue 저장\n",
    "\n",
    "train_df['dialogue'] = train_df['sep_dial'].str.replace('[sep]', '#')\n",
    "train_df.drop(columns=['sep_dial', 'sep_counts_per_turn'], inplace=True)"
   ]
  },
  {
   "cell_type": "code",
   "execution_count": 21,
   "metadata": {},
   "outputs": [
    {
     "data": {
      "text/html": [
       "<div>\n",
       "<style scoped>\n",
       "    .dataframe tbody tr th:only-of-type {\n",
       "        vertical-align: middle;\n",
       "    }\n",
       "\n",
       "    .dataframe tbody tr th {\n",
       "        vertical-align: top;\n",
       "    }\n",
       "\n",
       "    .dataframe thead th {\n",
       "        text-align: right;\n",
       "    }\n",
       "</style>\n",
       "<table border=\"1\" class=\"dataframe\">\n",
       "  <thead>\n",
       "    <tr style=\"text-align: right;\">\n",
       "      <th></th>\n",
       "      <th>turn</th>\n",
       "      <th>dialogue</th>\n",
       "      <th>label</th>\n",
       "    </tr>\n",
       "  </thead>\n",
       "  <tbody>\n",
       "    <tr>\n",
       "      <th>0</th>\n",
       "      <td>101010101010</td>\n",
       "      <td>Hello how may I help you?name?#new contact add...</td>\n",
       "      <td>0</td>\n",
       "    </tr>\n",
       "    <tr>\n",
       "      <th>1</th>\n",
       "      <td>101101101101011101</td>\n",
       "      <td>Hello how may I help you?#Can you help me add ...</td>\n",
       "      <td>0</td>\n",
       "    </tr>\n",
       "    <tr>\n",
       "      <th>2</th>\n",
       "      <td>10011000110010011011</td>\n",
       "      <td>Hello how may I help you?#Hello I am trying to...</td>\n",
       "      <td>0</td>\n",
       "    </tr>\n",
       "  </tbody>\n",
       "</table>\n",
       "</div>"
      ],
      "text/plain": [
       "                   turn                                           dialogue  \\\n",
       "0          101010101010  Hello how may I help you?name?#new contact add...   \n",
       "1    101101101101011101  Hello how may I help you?#Can you help me add ...   \n",
       "2  10011000110010011011  Hello how may I help you?#Hello I am trying to...   \n",
       "\n",
       "   label  \n",
       "0      0  \n",
       "1      0  \n",
       "2      0  "
      ]
     },
     "execution_count": 21,
     "metadata": {},
     "output_type": "execute_result"
    }
   ],
   "source": [
    "train_df.head(3)"
   ]
  },
  {
   "cell_type": "markdown",
   "metadata": {},
   "source": [
    "### qa_turn 생성\n",
    "- 질문 문장(1), 질문이 아닌 문장(0)"
   ]
  },
  {
   "cell_type": "code",
   "execution_count": 22,
   "metadata": {},
   "outputs": [],
   "source": [
    "# 포함 여부로 qa_turn 생성\n",
    "# 질문 판단을 위한 조건 추가 시, 이 부분에서 코드 수정\n",
    "question_keywords = re.compile(r'^(who|what|why|when|where|how|is|are|does|did|do|can|could|will|would|shall|should|might|must|may|won\\'t|can\\'t|isn\\'t|aren\\'t|was|were|has|haven\\'t|had|shall|whom|whose|which)\\b',re.IGNORECASE)\n",
    "# intent_keywords = re.compile(r'\\b(like|need|help|want|book|pick|think)\\b', re.IGNORECASE)\n",
    "\n",
    "def get_qa_turn(dialogue):\n",
    "    qa_turn = []\n",
    "    for sentence in dialogue.split('#'):\n",
    "        if '?' in sentence or question_keywords.match(sentence.strip()):\n",
    "            qa_turn.append(1)\n",
    "        else:\n",
    "            qa_turn.append(0)\n",
    "    return qa_turn\n",
    "\n",
    "train_df['qa_turn'] = train_df['dialogue'].apply(get_qa_turn)\n",
    "train_df['qa_turn'] = train_df['qa_turn'].apply(convert_to_binary)"
   ]
  },
  {
   "cell_type": "code",
   "execution_count": 23,
   "metadata": {},
   "outputs": [
    {
     "data": {
      "text/html": [
       "<div>\n",
       "<style scoped>\n",
       "    .dataframe tbody tr th:only-of-type {\n",
       "        vertical-align: middle;\n",
       "    }\n",
       "\n",
       "    .dataframe tbody tr th {\n",
       "        vertical-align: top;\n",
       "    }\n",
       "\n",
       "    .dataframe thead th {\n",
       "        text-align: right;\n",
       "    }\n",
       "</style>\n",
       "<table border=\"1\" class=\"dataframe\">\n",
       "  <thead>\n",
       "    <tr style=\"text-align: right;\">\n",
       "      <th></th>\n",
       "      <th>turn</th>\n",
       "      <th>dialogue</th>\n",
       "      <th>label</th>\n",
       "      <th>qa_turn</th>\n",
       "    </tr>\n",
       "  </thead>\n",
       "  <tbody>\n",
       "    <tr>\n",
       "      <th>0</th>\n",
       "      <td>101010101010</td>\n",
       "      <td>Hello how may I help you?name?#new contact add...</td>\n",
       "      <td>0</td>\n",
       "      <td>100000101000</td>\n",
       "    </tr>\n",
       "    <tr>\n",
       "      <th>1</th>\n",
       "      <td>101101101101011101</td>\n",
       "      <td>Hello how may I help you?#Can you help me add ...</td>\n",
       "      <td>0</td>\n",
       "      <td>110100100100000100</td>\n",
       "    </tr>\n",
       "    <tr>\n",
       "      <th>2</th>\n",
       "      <td>10011000110010011011</td>\n",
       "      <td>Hello how may I help you?#Hello I am trying to...</td>\n",
       "      <td>0</td>\n",
       "      <td>10101000111010001000</td>\n",
       "    </tr>\n",
       "  </tbody>\n",
       "</table>\n",
       "</div>"
      ],
      "text/plain": [
       "                   turn                                           dialogue  \\\n",
       "0          101010101010  Hello how may I help you?name?#new contact add...   \n",
       "1    101101101101011101  Hello how may I help you?#Can you help me add ...   \n",
       "2  10011000110010011011  Hello how may I help you?#Hello I am trying to...   \n",
       "\n",
       "   label               qa_turn  \n",
       "0      0          100000101000  \n",
       "1      0    110100100100000100  \n",
       "2      0  10101000111010001000  "
      ]
     },
     "execution_count": 23,
     "metadata": {},
     "output_type": "execute_result"
    }
   ],
   "source": [
    "train_df.head(3)"
   ]
  },
  {
   "cell_type": "markdown",
   "metadata": {},
   "source": [
    "### qan_turn 생성\n",
    "- 대답 문장(0), 질문 문장(1), 질문도 대답도 아닌 문장(2)"
   ]
  },
  {
   "cell_type": "code",
   "execution_count": 24,
   "metadata": {},
   "outputs": [],
   "source": [
    "def generate_qan_turn(dialogue):\n",
    "    qan_turn = []\n",
    "    previous_has_question = False\n",
    "\n",
    "    for sentence in dialogue.split('#'):\n",
    "        if '?' in sentence or question_keywords.match(sentence.strip()):\n",
    "            # 현재 문장이 질문 문장일 경우\n",
    "            qan_turn.append(1)\n",
    "            previous_has_question = True\n",
    "        elif previous_has_question:\n",
    "            # 질문 문장이 아니고 이전 문장에 질문이 있었을 경우\n",
    "            qan_turn.append(0)\n",
    "            previous_has_question = False\n",
    "        else:\n",
    "            # 질문 문장도 아니고 이전 문장에 질문이 없을 경우\n",
    "            qan_turn.append(2)\n",
    "            previous_has_question = False\n",
    "\n",
    "    return qan_turn"
   ]
  },
  {
   "cell_type": "code",
   "execution_count": 25,
   "metadata": {},
   "outputs": [],
   "source": [
    "train_df['qan_turn'] = train_df['dialogue'].apply(generate_qan_turn)\n",
    "train_df['qan_turn'] = train_df['qan_turn'].apply(convert_to_binary)"
   ]
  },
  {
   "cell_type": "code",
   "execution_count": 26,
   "metadata": {},
   "outputs": [
    {
     "data": {
      "text/html": [
       "<div>\n",
       "<style scoped>\n",
       "    .dataframe tbody tr th:only-of-type {\n",
       "        vertical-align: middle;\n",
       "    }\n",
       "\n",
       "    .dataframe tbody tr th {\n",
       "        vertical-align: top;\n",
       "    }\n",
       "\n",
       "    .dataframe thead th {\n",
       "        text-align: right;\n",
       "    }\n",
       "</style>\n",
       "<table border=\"1\" class=\"dataframe\">\n",
       "  <thead>\n",
       "    <tr style=\"text-align: right;\">\n",
       "      <th></th>\n",
       "      <th>turn</th>\n",
       "      <th>dialogue</th>\n",
       "      <th>label</th>\n",
       "      <th>qa_turn</th>\n",
       "      <th>qan_turn</th>\n",
       "    </tr>\n",
       "  </thead>\n",
       "  <tbody>\n",
       "    <tr>\n",
       "      <th>0</th>\n",
       "      <td>101010101010</td>\n",
       "      <td>Hello how may I help you?name?#new contact add...</td>\n",
       "      <td>0</td>\n",
       "      <td>100000101000</td>\n",
       "      <td>102222101022</td>\n",
       "    </tr>\n",
       "    <tr>\n",
       "      <th>1</th>\n",
       "      <td>101101101101011101</td>\n",
       "      <td>Hello how may I help you?#Can you help me add ...</td>\n",
       "      <td>0</td>\n",
       "      <td>110100100100000100</td>\n",
       "      <td>110102102102222102</td>\n",
       "    </tr>\n",
       "    <tr>\n",
       "      <th>2</th>\n",
       "      <td>10011000110010011011</td>\n",
       "      <td>Hello how may I help you?#Hello I am trying to...</td>\n",
       "      <td>0</td>\n",
       "      <td>10101000111010001000</td>\n",
       "      <td>10101022111010221022</td>\n",
       "    </tr>\n",
       "  </tbody>\n",
       "</table>\n",
       "</div>"
      ],
      "text/plain": [
       "                   turn                                           dialogue  \\\n",
       "0          101010101010  Hello how may I help you?name?#new contact add...   \n",
       "1    101101101101011101  Hello how may I help you?#Can you help me add ...   \n",
       "2  10011000110010011011  Hello how may I help you?#Hello I am trying to...   \n",
       "\n",
       "   label               qa_turn              qan_turn  \n",
       "0      0          100000101000          102222101022  \n",
       "1      0    110100100100000100    110102102102222102  \n",
       "2      0  10101000111010001000  10101022111010221022  "
      ]
     },
     "execution_count": 26,
     "metadata": {},
     "output_type": "execute_result"
    }
   ],
   "source": [
    "train_df.head(3)"
   ]
  },
  {
   "cell_type": "markdown",
   "metadata": {},
   "source": [
    "### negtive sample 생성: 질문 문장 대체 4개, 질문이 아닌 문장 대체 4개"
   ]
  },
  {
   "cell_type": "code",
   "execution_count": 27,
   "metadata": {},
   "outputs": [],
   "source": [
    "def generate_que_negatives(dialogue, q_list):\n",
    "    neg_samples = []\n",
    "    for _ in range(4):\n",
    "        neg_sample = []\n",
    "        for sentence in dialogue.split('#'):\n",
    "            if '?' in sentence or question_keywords.match(sentence.strip()):\n",
    "                # 질문 문장이면 랜덤으로 q_list에서 문장을 선택하여 대체\n",
    "                neg_sample.append(random.choice(q_list))\n",
    "            else:\n",
    "                neg_sample.append(sentence)\n",
    "        # 리스트를 문자열로 변환하여 negative sample에 추가\n",
    "        neg_samples.append('#'.join(neg_sample))\n",
    "    # negative samples를 '|'로 구분하여 이어붙여서 반환\n",
    "    return '|'.join(neg_samples)"
   ]
  },
  {
   "cell_type": "code",
   "execution_count": 28,
   "metadata": {},
   "outputs": [],
   "source": [
    "def generate_notque_negatives(dialogue, a_list):\n",
    "    neg_samples = []\n",
    "    for _ in range(4):\n",
    "        neg_sample = []\n",
    "        for sentence in dialogue.split('#'):\n",
    "            if '?' not in sentence and (not question_keywords.match(sentence.strip())):\n",
    "                #  문장이면 랜덤으로 a_list에서 문장을 선택하여 대체\n",
    "                neg_sample.append(random.choice(a_list))\n",
    "            else:\n",
    "                neg_sample.append(sentence)\n",
    "        # 리스트를 문자열로 변환하여 negative sample에 추가\n",
    "        neg_samples.append('#'.join(neg_sample))\n",
    "    # negative samples를 '|'로 구분하여 이어붙여서 반환\n",
    "    return '|'.join(neg_samples)"
   ]
  },
  {
   "cell_type": "code",
   "execution_count": 29,
   "metadata": {},
   "outputs": [],
   "source": [
    "train_df['qa_que_negs'] = train_df['dialogue'].apply(lambda x: generate_que_negatives(x, q_list))\n",
    "train_df['qa_quenot_negs'] = train_df['dialogue'].apply(lambda x: generate_notque_negatives(x, a_list))\n"
   ]
  },
  {
   "cell_type": "code",
   "execution_count": 30,
   "metadata": {},
   "outputs": [],
   "source": [
    "train_df['qa_dialogue'] = train_df['dialogue'] + '|' + train_df['qa_que_negs']\n",
    "train_df['qa_dialogue'] = train_df['qa_dialogue'] + '|' + train_df['qa_quenot_negs']\n",
    "\n",
    "train_df.drop(columns=['qa_que_negs', 'qa_quenot_negs'], inplace=True)"
   ]
  },
  {
   "cell_type": "code",
   "execution_count": 31,
   "metadata": {},
   "outputs": [
    {
     "data": {
      "text/html": [
       "<div>\n",
       "<style scoped>\n",
       "    .dataframe tbody tr th:only-of-type {\n",
       "        vertical-align: middle;\n",
       "    }\n",
       "\n",
       "    .dataframe tbody tr th {\n",
       "        vertical-align: top;\n",
       "    }\n",
       "\n",
       "    .dataframe thead th {\n",
       "        text-align: right;\n",
       "    }\n",
       "</style>\n",
       "<table border=\"1\" class=\"dataframe\">\n",
       "  <thead>\n",
       "    <tr style=\"text-align: right;\">\n",
       "      <th></th>\n",
       "      <th>turn</th>\n",
       "      <th>dialogue</th>\n",
       "      <th>label</th>\n",
       "      <th>qa_turn</th>\n",
       "      <th>qan_turn</th>\n",
       "      <th>qa_dialogue</th>\n",
       "    </tr>\n",
       "  </thead>\n",
       "  <tbody>\n",
       "    <tr>\n",
       "      <th>0</th>\n",
       "      <td>101010101010</td>\n",
       "      <td>Hello how may I help you?name?#new contact add...</td>\n",
       "      <td>0</td>\n",
       "      <td>100000101000</td>\n",
       "      <td>102222101022</td>\n",
       "      <td>Hello how may I help you?name?#new contact add...</td>\n",
       "    </tr>\n",
       "    <tr>\n",
       "      <th>1</th>\n",
       "      <td>101101101101011101</td>\n",
       "      <td>Hello how may I help you?#Can you help me add ...</td>\n",
       "      <td>0</td>\n",
       "      <td>110100100100000100</td>\n",
       "      <td>110102102102222102</td>\n",
       "      <td>Hello how may I help you?#Can you help me add ...</td>\n",
       "    </tr>\n",
       "    <tr>\n",
       "      <th>2</th>\n",
       "      <td>10011000110010011011</td>\n",
       "      <td>Hello how may I help you?#Hello I am trying to...</td>\n",
       "      <td>0</td>\n",
       "      <td>10101000111010001000</td>\n",
       "      <td>10101022111010221022</td>\n",
       "      <td>Hello how may I help you?#Hello I am trying to...</td>\n",
       "    </tr>\n",
       "  </tbody>\n",
       "</table>\n",
       "</div>"
      ],
      "text/plain": [
       "                   turn                                           dialogue  \\\n",
       "0          101010101010  Hello how may I help you?name?#new contact add...   \n",
       "1    101101101101011101  Hello how may I help you?#Can you help me add ...   \n",
       "2  10011000110010011011  Hello how may I help you?#Hello I am trying to...   \n",
       "\n",
       "   label               qa_turn              qan_turn  \\\n",
       "0      0          100000101000          102222101022   \n",
       "1      0    110100100100000100    110102102102222102   \n",
       "2      0  10101000111010001000  10101022111010221022   \n",
       "\n",
       "                                         qa_dialogue  \n",
       "0  Hello how may I help you?name?#new contact add...  \n",
       "1  Hello how may I help you?#Can you help me add ...  \n",
       "2  Hello how may I help you?#Hello I am trying to...  "
      ]
     },
     "execution_count": 31,
     "metadata": {},
     "output_type": "execute_result"
    }
   ],
   "source": [
    "train_df.head(3)"
   ]
  },
  {
   "cell_type": "code",
   "execution_count": 32,
   "metadata": {},
   "outputs": [
    {
     "data": {
      "text/plain": [
       "9"
      ]
     },
     "execution_count": 32,
     "metadata": {},
     "output_type": "execute_result"
    }
   ],
   "source": [
    "len(train_df['qa_dialogue'][0].split('|'))"
   ]
  },
  {
   "cell_type": "markdown",
   "metadata": {},
   "source": [
    "### negtive sample 생성: 질문 문장 대체 4개 + 대답 문장 대체 4개"
   ]
  },
  {
   "cell_type": "code",
   "execution_count": 33,
   "metadata": {},
   "outputs": [],
   "source": [
    "# 대답 문장(0)과 질문도 대답도 아닌 문장(2)를 구분하여, 대답 문장만 다른 문장으로 대체\n",
    "def generate_ans_negatives(dialogue, a_list):\n",
    "    neg_samples = []\n",
    "    previous_has_question = False\n",
    "    for _ in range(4):\n",
    "        neg_sample = []\n",
    "        for sentence in dialogue.split('#'):\n",
    "            if '?' in sentence or question_keywords.match(sentence.strip()):\n",
    "                # 현재 문장이 질문 문장일 경우(1)\n",
    "                previous_has_question = True\n",
    "                neg_sample.append(sentence)\n",
    "            elif previous_has_question:\n",
    "                # 질문 문장이 아니고 이전 문장에 질문이 있었을 경우 -> 대답 문장(0)\n",
    "                previous_has_question = False\n",
    "                neg_sample.append(random.choice(a_list))\n",
    "            else:\n",
    "                # 질문 문장도 아니고 이전 문장에 질문이 없을 경우 -> 질문도 대답도 아닌 문장(2)\n",
    "                neg_sample.append(sentence)\n",
    "                \n",
    "        # 리스트를 문자열로 변환하여 negative sample에 추가\n",
    "        neg_samples.append('#'.join(neg_sample))\n",
    "    # negative samples를 '|'로 구분하여 이어붙여서 반환\n",
    "    return '|'.join(neg_samples)"
   ]
  },
  {
   "cell_type": "code",
   "execution_count": 34,
   "metadata": {},
   "outputs": [],
   "source": [
    "train_df['qa_que_negs'] = train_df['dialogue'].apply(lambda x: generate_que_negatives(x, q_list))\n",
    "train_df['qa_ans_negs'] = train_df['dialogue'].apply(lambda x: generate_ans_negatives(x, a_list))"
   ]
  },
  {
   "cell_type": "code",
   "execution_count": 35,
   "metadata": {},
   "outputs": [],
   "source": [
    "train_df['qan_dialogue'] = train_df['dialogue'] + '|' + train_df['qa_que_negs']\n",
    "train_df['qan_dialogue'] = train_df['qan_dialogue'] + '|' + train_df['qa_ans_negs']\n",
    "\n",
    "train_df.drop(columns=['qa_que_negs', 'qa_ans_negs'], inplace=True)"
   ]
  },
  {
   "cell_type": "code",
   "execution_count": 36,
   "metadata": {},
   "outputs": [
    {
     "data": {
      "text/html": [
       "<div>\n",
       "<style scoped>\n",
       "    .dataframe tbody tr th:only-of-type {\n",
       "        vertical-align: middle;\n",
       "    }\n",
       "\n",
       "    .dataframe tbody tr th {\n",
       "        vertical-align: top;\n",
       "    }\n",
       "\n",
       "    .dataframe thead th {\n",
       "        text-align: right;\n",
       "    }\n",
       "</style>\n",
       "<table border=\"1\" class=\"dataframe\">\n",
       "  <thead>\n",
       "    <tr style=\"text-align: right;\">\n",
       "      <th></th>\n",
       "      <th>turn</th>\n",
       "      <th>dialogue</th>\n",
       "      <th>label</th>\n",
       "      <th>qa_turn</th>\n",
       "      <th>qan_turn</th>\n",
       "      <th>qa_dialogue</th>\n",
       "      <th>qan_dialogue</th>\n",
       "    </tr>\n",
       "  </thead>\n",
       "  <tbody>\n",
       "    <tr>\n",
       "      <th>0</th>\n",
       "      <td>101010101010</td>\n",
       "      <td>Hello how may I help you?name?#new contact add...</td>\n",
       "      <td>0</td>\n",
       "      <td>100000101000</td>\n",
       "      <td>102222101022</td>\n",
       "      <td>Hello how may I help you?name?#new contact add...</td>\n",
       "      <td>Hello how may I help you?name?#new contact add...</td>\n",
       "    </tr>\n",
       "    <tr>\n",
       "      <th>1</th>\n",
       "      <td>101101101101011101</td>\n",
       "      <td>Hello how may I help you?#Can you help me add ...</td>\n",
       "      <td>0</td>\n",
       "      <td>110100100100000100</td>\n",
       "      <td>110102102102222102</td>\n",
       "      <td>Hello how may I help you?#Can you help me add ...</td>\n",
       "      <td>Hello how may I help you?#Can you help me add ...</td>\n",
       "    </tr>\n",
       "    <tr>\n",
       "      <th>2</th>\n",
       "      <td>10011000110010011011</td>\n",
       "      <td>Hello how may I help you?#Hello I am trying to...</td>\n",
       "      <td>0</td>\n",
       "      <td>10101000111010001000</td>\n",
       "      <td>10101022111010221022</td>\n",
       "      <td>Hello how may I help you?#Hello I am trying to...</td>\n",
       "      <td>Hello how may I help you?#Hello I am trying to...</td>\n",
       "    </tr>\n",
       "  </tbody>\n",
       "</table>\n",
       "</div>"
      ],
      "text/plain": [
       "                   turn                                           dialogue  \\\n",
       "0          101010101010  Hello how may I help you?name?#new contact add...   \n",
       "1    101101101101011101  Hello how may I help you?#Can you help me add ...   \n",
       "2  10011000110010011011  Hello how may I help you?#Hello I am trying to...   \n",
       "\n",
       "   label               qa_turn              qan_turn  \\\n",
       "0      0          100000101000          102222101022   \n",
       "1      0    110100100100000100    110102102102222102   \n",
       "2      0  10101000111010001000  10101022111010221022   \n",
       "\n",
       "                                         qa_dialogue  \\\n",
       "0  Hello how may I help you?name?#new contact add...   \n",
       "1  Hello how may I help you?#Can you help me add ...   \n",
       "2  Hello how may I help you?#Hello I am trying to...   \n",
       "\n",
       "                                        qan_dialogue  \n",
       "0  Hello how may I help you?name?#new contact add...  \n",
       "1  Hello how may I help you?#Can you help me add ...  \n",
       "2  Hello how may I help you?#Hello I am trying to...  "
      ]
     },
     "execution_count": 36,
     "metadata": {},
     "output_type": "execute_result"
    }
   ],
   "source": [
    "train_df.head(3)"
   ]
  },
  {
   "cell_type": "code",
   "execution_count": 37,
   "metadata": {},
   "outputs": [
    {
     "data": {
      "text/plain": [
       "9"
      ]
     },
     "execution_count": 37,
     "metadata": {},
     "output_type": "execute_result"
    }
   ],
   "source": [
    "len(train_df['qan_dialogue'][0].split('|'))"
   ]
  },
  {
   "cell_type": "markdown",
   "metadata": {},
   "source": [
    "### trainset 정리\n",
    "\n",
    "칼럼명\n",
    "- turn: turn을 반영(대화자1의 turn에 2개의 문장이 있을 경우 11로 할당)\n",
    "- dialogue: 원본 대화 1개\n",
    "- label: .\n",
    "- qa_turn: 질문 문장이면 1, 질문 문장이 아니면 0을 할당\n",
    "- qan_turn: 질문 문장이면 1, 대답 문장이면 0, 질문도 대답도 아닌 문장이면 2를 할당\n",
    "- qa_dialogue: qa_turn을 기반으로, 원본 대화 1개와 질문 문장을 대체한 4개 대화와 질문이 아닌 문장을 대체한 4개 대화로 구성\n",
    "- qan_dialogue: qan_turn을 기반으로, 원본 대화 1개와 질문 문장을 대체한 4개 대화와 대답 문장을 대체한 4개 대화로 구성\n"
   ]
  },
  {
   "cell_type": "code",
   "execution_count": 38,
   "metadata": {},
   "outputs": [
    {
     "data": {
      "text/html": [
       "<div>\n",
       "<style scoped>\n",
       "    .dataframe tbody tr th:only-of-type {\n",
       "        vertical-align: middle;\n",
       "    }\n",
       "\n",
       "    .dataframe tbody tr th {\n",
       "        vertical-align: top;\n",
       "    }\n",
       "\n",
       "    .dataframe thead th {\n",
       "        text-align: right;\n",
       "    }\n",
       "</style>\n",
       "<table border=\"1\" class=\"dataframe\">\n",
       "  <thead>\n",
       "    <tr style=\"text-align: right;\">\n",
       "      <th></th>\n",
       "      <th>turn</th>\n",
       "      <th>dialogue</th>\n",
       "      <th>label</th>\n",
       "      <th>qa_turn</th>\n",
       "      <th>qan_turn</th>\n",
       "      <th>qa_dialogue</th>\n",
       "      <th>qan_dialogue</th>\n",
       "    </tr>\n",
       "  </thead>\n",
       "  <tbody>\n",
       "    <tr>\n",
       "      <th>0</th>\n",
       "      <td>101010101010</td>\n",
       "      <td>Hello how may I help you?name?#new contact add...</td>\n",
       "      <td>0</td>\n",
       "      <td>100000101000</td>\n",
       "      <td>102222101022</td>\n",
       "      <td>Hello how may I help you?name?#new contact add...</td>\n",
       "      <td>Hello how may I help you?name?#new contact add...</td>\n",
       "    </tr>\n",
       "    <tr>\n",
       "      <th>1</th>\n",
       "      <td>101101101101011101</td>\n",
       "      <td>Hello how may I help you?#Can you help me add ...</td>\n",
       "      <td>0</td>\n",
       "      <td>110100100100000100</td>\n",
       "      <td>110102102102222102</td>\n",
       "      <td>Hello how may I help you?#Can you help me add ...</td>\n",
       "      <td>Hello how may I help you?#Can you help me add ...</td>\n",
       "    </tr>\n",
       "    <tr>\n",
       "      <th>2</th>\n",
       "      <td>10011000110010011011</td>\n",
       "      <td>Hello how may I help you?#Hello I am trying to...</td>\n",
       "      <td>0</td>\n",
       "      <td>10101000111010001000</td>\n",
       "      <td>10101022111010221022</td>\n",
       "      <td>Hello how may I help you?#Hello I am trying to...</td>\n",
       "      <td>Hello how may I help you?#Hello I am trying to...</td>\n",
       "    </tr>\n",
       "  </tbody>\n",
       "</table>\n",
       "</div>"
      ],
      "text/plain": [
       "                   turn                                           dialogue  \\\n",
       "0          101010101010  Hello how may I help you?name?#new contact add...   \n",
       "1    101101101101011101  Hello how may I help you?#Can you help me add ...   \n",
       "2  10011000110010011011  Hello how may I help you?#Hello I am trying to...   \n",
       "\n",
       "   label               qa_turn              qan_turn  \\\n",
       "0      0          100000101000          102222101022   \n",
       "1      0    110100100100000100    110102102102222102   \n",
       "2      0  10101000111010001000  10101022111010221022   \n",
       "\n",
       "                                         qa_dialogue  \\\n",
       "0  Hello how may I help you?name?#new contact add...   \n",
       "1  Hello how may I help you?#Can you help me add ...   \n",
       "2  Hello how may I help you?#Hello I am trying to...   \n",
       "\n",
       "                                        qan_dialogue  \n",
       "0  Hello how may I help you?name?#new contact add...  \n",
       "1  Hello how may I help you?#Can you help me add ...  \n",
       "2  Hello how may I help you?#Hello I am trying to...  "
      ]
     },
     "execution_count": 38,
     "metadata": {},
     "output_type": "execute_result"
    }
   ],
   "source": [
    "train_df.head(3)"
   ]
  },
  {
   "cell_type": "markdown",
   "metadata": {},
   "source": [
    "### QA 결합: 불균형 해소"
   ]
  },
  {
   "cell_type": "code",
   "execution_count": 39,
   "metadata": {},
   "outputs": [
    {
     "name": "stderr",
     "output_type": "stream",
     "text": [
      "100%|█████████▉| 60613/60614 [00:02<00:00, 24469.16it/s]\n"
     ]
    }
   ],
   "source": [
    "# QA 결합\n",
    "from tqdm import tqdm\n",
    "\n",
    "def comb_qa(df):\n",
    "    new_samples = []\n",
    "    new_turns = []\n",
    "    for qa_turn, sample in zip(df['qa_turn'],tqdm(df['qa_dialogue'])):\n",
    "        dials = sample.split(\"|\")\n",
    "        new_sample = \"\"\n",
    "        for dial in dials:\n",
    "            sentences = dial.split(\"#\")\n",
    "            new_sentences = sentences[0]\n",
    "            new_qa_turn = qa_turn[0]\n",
    "            \n",
    "            for i in range(1, len(qa_turn)):\n",
    "                if qa_turn[i] != qa_turn[i-1]:\n",
    "                    new_qa_turn += qa_turn[i]\n",
    "                    new_sentences += \"#\" + sentences[i]\n",
    "                else:\n",
    "                    new_sentences += \" \" + sentences[i]\n",
    "            new_sample += \"|\" + new_sentences\n",
    "\n",
    "        new_samples.append(new_sample[1:])\n",
    "        new_turns.append(new_qa_turn)\n",
    "\n",
    "    return new_samples, new_turns\n",
    "\n",
    "train_new_samples, train_new_turns = comb_qa(train_df)\n",
    "train_df['comb_qa_dialogue'] = train_new_samples\n",
    "train_df['comb_qa_turn'] = train_new_turns"
   ]
  },
  {
   "cell_type": "code",
   "execution_count": 40,
   "metadata": {},
   "outputs": [
    {
     "data": {
      "text/html": [
       "<div>\n",
       "<style scoped>\n",
       "    .dataframe tbody tr th:only-of-type {\n",
       "        vertical-align: middle;\n",
       "    }\n",
       "\n",
       "    .dataframe tbody tr th {\n",
       "        vertical-align: top;\n",
       "    }\n",
       "\n",
       "    .dataframe thead th {\n",
       "        text-align: right;\n",
       "    }\n",
       "</style>\n",
       "<table border=\"1\" class=\"dataframe\">\n",
       "  <thead>\n",
       "    <tr style=\"text-align: right;\">\n",
       "      <th></th>\n",
       "      <th>comb_qa_turn</th>\n",
       "      <th>dialogue</th>\n",
       "      <th>label</th>\n",
       "    </tr>\n",
       "  </thead>\n",
       "  <tbody>\n",
       "    <tr>\n",
       "      <th>0</th>\n",
       "      <td>101010</td>\n",
       "      <td>Hello how may I help you?name?#new contact add...</td>\n",
       "      <td>0</td>\n",
       "    </tr>\n",
       "    <tr>\n",
       "      <th>1</th>\n",
       "      <td>1010101010</td>\n",
       "      <td>Hello how may I help you? Can you help me add ...</td>\n",
       "      <td>0</td>\n",
       "    </tr>\n",
       "    <tr>\n",
       "      <th>2</th>\n",
       "      <td>101010101010</td>\n",
       "      <td>Hello how may I help you?#Hello I am trying to...</td>\n",
       "      <td>0</td>\n",
       "    </tr>\n",
       "    <tr>\n",
       "      <th>3</th>\n",
       "      <td>1010101010</td>\n",
       "      <td>Hello how may I help you?#I want some informat...</td>\n",
       "      <td>0</td>\n",
       "    </tr>\n",
       "    <tr>\n",
       "      <th>4</th>\n",
       "      <td>101010</td>\n",
       "      <td>Hello how may I help you?#I have a really sill...</td>\n",
       "      <td>0</td>\n",
       "    </tr>\n",
       "    <tr>\n",
       "      <th>...</th>\n",
       "      <td>...</td>\n",
       "      <td>...</td>\n",
       "      <td>...</td>\n",
       "    </tr>\n",
       "    <tr>\n",
       "      <th>60609</th>\n",
       "      <td>10101010</td>\n",
       "      <td>Hello how may I help you?#I want to know is my...</td>\n",
       "      <td>0</td>\n",
       "    </tr>\n",
       "    <tr>\n",
       "      <th>60610</th>\n",
       "      <td>10101010</td>\n",
       "      <td>Hello how may I help you?#Hi, I have some triv...</td>\n",
       "      <td>0</td>\n",
       "    </tr>\n",
       "    <tr>\n",
       "      <th>60611</th>\n",
       "      <td>1010</td>\n",
       "      <td>Hello how may I help you? Is this US Bank? Yes...</td>\n",
       "      <td>0</td>\n",
       "    </tr>\n",
       "    <tr>\n",
       "      <th>60612</th>\n",
       "      <td>101010</td>\n",
       "      <td>Hello how may I help you?#I need you to go int...</td>\n",
       "      <td>0</td>\n",
       "    </tr>\n",
       "    <tr>\n",
       "      <th>60613</th>\n",
       "      <td>10101010</td>\n",
       "      <td>Hello how may I help you?#Hi!#What do you need...</td>\n",
       "      <td>0</td>\n",
       "    </tr>\n",
       "  </tbody>\n",
       "</table>\n",
       "<p>60614 rows × 3 columns</p>\n",
       "</div>"
      ],
      "text/plain": [
       "       comb_qa_turn                                           dialogue  label\n",
       "0            101010  Hello how may I help you?name?#new contact add...      0\n",
       "1        1010101010  Hello how may I help you? Can you help me add ...      0\n",
       "2      101010101010  Hello how may I help you?#Hello I am trying to...      0\n",
       "3        1010101010  Hello how may I help you?#I want some informat...      0\n",
       "4            101010  Hello how may I help you?#I have a really sill...      0\n",
       "...             ...                                                ...    ...\n",
       "60609      10101010  Hello how may I help you?#I want to know is my...      0\n",
       "60610      10101010  Hello how may I help you?#Hi, I have some triv...      0\n",
       "60611          1010  Hello how may I help you? Is this US Bank? Yes...      0\n",
       "60612        101010  Hello how may I help you?#I need you to go int...      0\n",
       "60613      10101010  Hello how may I help you?#Hi!#What do you need...      0\n",
       "\n",
       "[60614 rows x 3 columns]"
      ]
     },
     "execution_count": 40,
     "metadata": {},
     "output_type": "execute_result"
    }
   ],
   "source": [
    "comb_qa_train_df = pd.DataFrame({\n",
    "    'comb_qa_turn': train_new_turns,\n",
    "    'dialogue': train_new_samples,\n",
    "    'label': train_df['label'].to_list()\n",
    "})\n",
    "comb_qa_train_df"
   ]
  },
  {
   "cell_type": "code",
   "execution_count": 41,
   "metadata": {},
   "outputs": [],
   "source": [
    "# 전체 샘플 9개 확인\n",
    "for i in comb_qa_train_df['dialogue']:\n",
    "    if len(i.split(\"|\")) != 9:\n",
    "        print(i)"
   ]
  },
  {
   "cell_type": "markdown",
   "metadata": {},
   "source": [
    "#### 16개 이상 turn 개수 분석\n",
    "- sgd: 2197개 중 1241개로 여전히 많음(56%)\n",
    "- mwoz: 16698개 중 4998개 30%\n",
    "- selfdialog: 38662개 중 3792개 10%\n",
    "- metalwoz: 60614개 중 270개 0.04%\n",
    "\n",
    "#### intention X\n",
    "- sgd: 1163개\n",
    "- mwoz: 3614개\n",
    "- selfdialog: 2578개\n",
    "- metalwoz: 232개"
   ]
  },
  {
   "cell_type": "code",
   "execution_count": 42,
   "metadata": {},
   "outputs": [
    {
     "data": {
      "text/html": [
       "<div>\n",
       "<style scoped>\n",
       "    .dataframe tbody tr th:only-of-type {\n",
       "        vertical-align: middle;\n",
       "    }\n",
       "\n",
       "    .dataframe tbody tr th {\n",
       "        vertical-align: top;\n",
       "    }\n",
       "\n",
       "    .dataframe thead th {\n",
       "        text-align: right;\n",
       "    }\n",
       "</style>\n",
       "<table border=\"1\" class=\"dataframe\">\n",
       "  <thead>\n",
       "    <tr style=\"text-align: right;\">\n",
       "      <th></th>\n",
       "      <th>comb_qa_turn</th>\n",
       "      <th>dialogue</th>\n",
       "      <th>label</th>\n",
       "      <th>num_turns</th>\n",
       "    </tr>\n",
       "  </thead>\n",
       "  <tbody>\n",
       "    <tr>\n",
       "      <th>979</th>\n",
       "      <td>1010101010101010</td>\n",
       "      <td>Hello how may I help you?#Yo, bot, I want to k...</td>\n",
       "      <td>0</td>\n",
       "      <td>16</td>\n",
       "    </tr>\n",
       "    <tr>\n",
       "      <th>1750</th>\n",
       "      <td>10101010101010101010</td>\n",
       "      <td>Hello how may I help you?#i need help with som...</td>\n",
       "      <td>0</td>\n",
       "      <td>20</td>\n",
       "    </tr>\n",
       "    <tr>\n",
       "      <th>1929</th>\n",
       "      <td>10101010101010101010</td>\n",
       "      <td>Hello how may I help you?#I'm trying to search...</td>\n",
       "      <td>0</td>\n",
       "      <td>20</td>\n",
       "    </tr>\n",
       "    <tr>\n",
       "      <th>2033</th>\n",
       "      <td>10101010101010101010</td>\n",
       "      <td>Hello how may I help you?#I need some help Ok,...</td>\n",
       "      <td>0</td>\n",
       "      <td>20</td>\n",
       "    </tr>\n",
       "    <tr>\n",
       "      <th>2333</th>\n",
       "      <td>101010101010101010101010</td>\n",
       "      <td>Hello how may I help you? Hey, I need help wit...</td>\n",
       "      <td>0</td>\n",
       "      <td>24</td>\n",
       "    </tr>\n",
       "    <tr>\n",
       "      <th>...</th>\n",
       "      <td>...</td>\n",
       "      <td>...</td>\n",
       "      <td>...</td>\n",
       "      <td>...</td>\n",
       "    </tr>\n",
       "    <tr>\n",
       "      <th>60117</th>\n",
       "      <td>1010101010101010</td>\n",
       "      <td>Hello how may I help you?#Hi. I need help with...</td>\n",
       "      <td>0</td>\n",
       "      <td>16</td>\n",
       "    </tr>\n",
       "    <tr>\n",
       "      <th>60150</th>\n",
       "      <td>10101010101010101010101010</td>\n",
       "      <td>Hello how may I help you?#Hi, I need to do som...</td>\n",
       "      <td>0</td>\n",
       "      <td>26</td>\n",
       "    </tr>\n",
       "    <tr>\n",
       "      <th>60171</th>\n",
       "      <td>10101010101010101010101010</td>\n",
       "      <td>Hello how may I help you?#Need help finding so...</td>\n",
       "      <td>0</td>\n",
       "      <td>26</td>\n",
       "    </tr>\n",
       "    <tr>\n",
       "      <th>60334</th>\n",
       "      <td>1010101010101010</td>\n",
       "      <td>Hello how may I help you?#I need help with a d...</td>\n",
       "      <td>0</td>\n",
       "      <td>16</td>\n",
       "    </tr>\n",
       "    <tr>\n",
       "      <th>60583</th>\n",
       "      <td>1010101010101010</td>\n",
       "      <td>Hello how may I help you?#i need pet help Sure...</td>\n",
       "      <td>0</td>\n",
       "      <td>16</td>\n",
       "    </tr>\n",
       "  </tbody>\n",
       "</table>\n",
       "<p>232 rows × 4 columns</p>\n",
       "</div>"
      ],
      "text/plain": [
       "                     comb_qa_turn  \\\n",
       "979              1010101010101010   \n",
       "1750         10101010101010101010   \n",
       "1929         10101010101010101010   \n",
       "2033         10101010101010101010   \n",
       "2333     101010101010101010101010   \n",
       "...                           ...   \n",
       "60117            1010101010101010   \n",
       "60150  10101010101010101010101010   \n",
       "60171  10101010101010101010101010   \n",
       "60334            1010101010101010   \n",
       "60583            1010101010101010   \n",
       "\n",
       "                                                dialogue  label  num_turns  \n",
       "979    Hello how may I help you?#Yo, bot, I want to k...      0         16  \n",
       "1750   Hello how may I help you?#i need help with som...      0         20  \n",
       "1929   Hello how may I help you?#I'm trying to search...      0         20  \n",
       "2033   Hello how may I help you?#I need some help Ok,...      0         20  \n",
       "2333   Hello how may I help you? Hey, I need help wit...      0         24  \n",
       "...                                                  ...    ...        ...  \n",
       "60117  Hello how may I help you?#Hi. I need help with...      0         16  \n",
       "60150  Hello how may I help you?#Hi, I need to do som...      0         26  \n",
       "60171  Hello how may I help you?#Need help finding so...      0         26  \n",
       "60334  Hello how may I help you?#I need help with a d...      0         16  \n",
       "60583  Hello how may I help you?#i need pet help Sure...      0         16  \n",
       "\n",
       "[232 rows x 4 columns]"
      ]
     },
     "execution_count": 42,
     "metadata": {},
     "output_type": "execute_result"
    }
   ],
   "source": [
    "comb_qa_train_df['num_turns'] = comb_qa_train_df['comb_qa_turn'].apply(len)\n",
    "comb_qa_train_df[comb_qa_train_df['num_turns'] >= 16]  # ['dialogue'].iloc[0]"
   ]
  },
  {
   "cell_type": "code",
   "execution_count": 43,
   "metadata": {},
   "outputs": [
    {
     "name": "stdout",
     "output_type": "stream",
     "text": [
      "Folder '0531_metalwoz_comb_qa_no_it' created successfully.\n"
     ]
    }
   ],
   "source": [
    "import os\n",
    "\n",
    "# dataset 폴더 생성\n",
    "# case1_folder_path = \"0511_qa_st\"\n",
    "# if not os.path.exists(case1_folder_path):\n",
    "#     os.makedirs(case1_folder_path)\n",
    "#     print(f\"Folder '{case1_folder_path}' created successfully.\")\n",
    "# else:\n",
    "#     print(f\"Folder '{case1_folder_path}' already exists.\")\n",
    "    \n",
    "# case2_folder_path = \"0510_qan_st\"\n",
    "# if not os.path.exists(case2_folder_path):\n",
    "#     os.makedirs(case2_folder_path)\n",
    "#     print(f\"Folder '{case2_folder_path}' created successfully.\")\n",
    "# else:\n",
    "#     print(f\"Folder '{case2_folder_path}' already exists.\")\n",
    "\n",
    "# case3_folder_path = f\"0511_{datasetname}_comb_qa\"\n",
    "# if not os.path.exists(case3_folder_path):\n",
    "#     os.makedirs(case3_folder_path)\n",
    "#     print(f\"Folder '{case3_folder_path}' created successfully.\")\n",
    "# else:\n",
    "#     print(f\"Folder '{case3_folder_path}' already exists.\")\n",
    "\n",
    "case5_folder_path = f\"0531_{datasetname}_comb_qa_no_it\"\n",
    "if not os.path.exists(case5_folder_path):\n",
    "    os.makedirs(case5_folder_path)\n",
    "    print(f\"Folder '{case5_folder_path}' created successfully.\")\n",
    "else:\n",
    "    print(f\"Folder '{case5_folder_path}' already exists.\")"
   ]
  },
  {
   "cell_type": "code",
   "execution_count": 44,
   "metadata": {},
   "outputs": [],
   "source": [
    "# case1: \n",
    "# train_case1 = train_df[['turn', 'qa_dialogue', 'label', 'qa_turn']]\n",
    "# train_case1.to_csv(f\"{case1_folder_path}/train.tsv\", sep=\"\\t\", index=False, header=False)\n",
    "\n",
    "# case2: \n",
    "# train_case2 = train_df[['turn', 'qan_dialogue', 'label', 'qan_turn']]\n",
    "# train_case2.to_csv(f\"{case2_folder_path}/train.tsv\", sep=\"\\t\", index=False, header=False)\n",
    "\n",
    "# case3: qa turn 결합\n",
    "train_case5 = comb_qa_train_df[['comb_qa_turn', 'dialogue', 'label']]\n",
    "train_case5.to_csv(f\"{case5_folder_path}/train.tsv\", sep=\"\\t\", index=False, header=False)"
   ]
  },
  {
   "cell_type": "markdown",
   "metadata": {},
   "source": [
    "### dev, test 생성"
   ]
  },
  {
   "cell_type": "code",
   "execution_count": 45,
   "metadata": {},
   "outputs": [],
   "source": [
    "datasetname = 'metalwoz' # metalwoz, mwoz, selfdialog, sgd\n",
    "column_names = ['turn', 'dialogue', 'label']\n",
    "path = '/home/jihyeon41/research_dial_embedding/dial2vec_git/dial2vec/datasets/'\n",
    "\n",
    "dev_df = pd.read_csv(f'{path}/{datasetname}/clustering_dev.tsv', sep = '\\t', header=None, names=column_names)\n",
    "test_df = pd.read_csv(f'{path}/{datasetname}/clustering_test.tsv', sep = '\\t', header=None, names=column_names)"
   ]
  },
  {
   "cell_type": "code",
   "execution_count": 46,
   "metadata": {},
   "outputs": [
    {
     "data": {
      "text/html": [
       "<div>\n",
       "<style scoped>\n",
       "    .dataframe tbody tr th:only-of-type {\n",
       "        vertical-align: middle;\n",
       "    }\n",
       "\n",
       "    .dataframe tbody tr th {\n",
       "        vertical-align: top;\n",
       "    }\n",
       "\n",
       "    .dataframe thead th {\n",
       "        text-align: right;\n",
       "    }\n",
       "</style>\n",
       "<table border=\"1\" class=\"dataframe\">\n",
       "  <thead>\n",
       "    <tr style=\"text-align: right;\">\n",
       "      <th></th>\n",
       "      <th>turn</th>\n",
       "      <th>dialogue</th>\n",
       "      <th>label</th>\n",
       "    </tr>\n",
       "  </thead>\n",
       "  <tbody>\n",
       "    <tr>\n",
       "      <th>0</th>\n",
       "      <td>01010101010</td>\n",
       "      <td>Hello how may I help you?#I just got back from...</td>\n",
       "      <td>1</td>\n",
       "    </tr>\n",
       "    <tr>\n",
       "      <th>1</th>\n",
       "      <td>01010101010</td>\n",
       "      <td>Hello how may I help you?#Hi there, I need som...</td>\n",
       "      <td>1</td>\n",
       "    </tr>\n",
       "  </tbody>\n",
       "</table>\n",
       "</div>"
      ],
      "text/plain": [
       "          turn                                           dialogue  label\n",
       "0  01010101010  Hello how may I help you?#I just got back from...      1\n",
       "1  01010101010  Hello how may I help you?#Hi there, I need som...      1"
      ]
     },
     "execution_count": 46,
     "metadata": {},
     "output_type": "execute_result"
    }
   ],
   "source": [
    "dev_df.head(2)"
   ]
  },
  {
   "cell_type": "code",
   "execution_count": 47,
   "metadata": {},
   "outputs": [
    {
     "name": "stderr",
     "output_type": "stream",
     "text": [
      " 16%|█▋        | 618/3788 [00:00<00:00, 6174.07it/s]"
     ]
    },
    {
     "name": "stderr",
     "output_type": "stream",
     "text": [
      "100%|██████████| 3788/3788 [00:00<00:00, 6091.30it/s]\n",
      "100%|██████████| 3789/3789 [00:00<00:00, 6105.26it/s]\n"
     ]
    }
   ],
   "source": [
    "# dev, test의 dialogue 역시 문장 단위로 #구분자로 구분되도록 변경\n",
    "# turn도 문장단위로 변경하되, 동일한 턴은 같은 숫자 부여\n",
    "def sep_sent(df):\n",
    "    df['dialogue'] = df['dialogue'].str.split('|').str[0]\n",
    "\n",
    "    df['sep_dial'] = ''\n",
    "    for i, dial in tqdm(enumerate(df['dialogue']), total=len(df['dialogue'])):\n",
    "        sep_dial = add_sep_to_dialogue(dial)\n",
    "        df['sep_dial'][i] = sep_dial\n",
    "        \n",
    "    df['sep_counts_per_turn'] = df['sep_dial'].apply(count_sep_per_turn)\n",
    "    df['turn'] = df['sep_counts_per_turn'].apply(generate_turn_list)\n",
    "    df['turn'] = df['turn'].apply(convert_to_binary)\n",
    "        \n",
    "    df['dialogue'] = df['sep_dial'].str.replace('[sep]', '#')\n",
    "    df.drop(columns=['sep_dial', 'sep_counts_per_turn'], inplace=True)\n",
    "    return df\n",
    "\n",
    "dev_df = sep_sent(dev_df)\n",
    "test_df = sep_sent(test_df)"
   ]
  },
  {
   "cell_type": "code",
   "execution_count": 48,
   "metadata": {},
   "outputs": [
    {
     "data": {
      "text/html": [
       "<div>\n",
       "<style scoped>\n",
       "    .dataframe tbody tr th:only-of-type {\n",
       "        vertical-align: middle;\n",
       "    }\n",
       "\n",
       "    .dataframe tbody tr th {\n",
       "        vertical-align: top;\n",
       "    }\n",
       "\n",
       "    .dataframe thead th {\n",
       "        text-align: right;\n",
       "    }\n",
       "</style>\n",
       "<table border=\"1\" class=\"dataframe\">\n",
       "  <thead>\n",
       "    <tr style=\"text-align: right;\">\n",
       "      <th></th>\n",
       "      <th>turn</th>\n",
       "      <th>dialogue</th>\n",
       "      <th>label</th>\n",
       "    </tr>\n",
       "  </thead>\n",
       "  <tbody>\n",
       "    <tr>\n",
       "      <th>0</th>\n",
       "      <td>101010101101</td>\n",
       "      <td>Hello how may I help you?#I just got back from...</td>\n",
       "      <td>1</td>\n",
       "    </tr>\n",
       "    <tr>\n",
       "      <th>1</th>\n",
       "      <td>1010001000100101</td>\n",
       "      <td>Hello how may I help you?#Hi there, I need som...</td>\n",
       "      <td>1</td>\n",
       "    </tr>\n",
       "    <tr>\n",
       "      <th>2</th>\n",
       "      <td>1001001110010010110001</td>\n",
       "      <td>Hello how may I help you?#Hi there.#I wish to ...</td>\n",
       "      <td>1</td>\n",
       "    </tr>\n",
       "  </tbody>\n",
       "</table>\n",
       "</div>"
      ],
      "text/plain": [
       "                     turn                                           dialogue  \\\n",
       "0            101010101101  Hello how may I help you?#I just got back from...   \n",
       "1        1010001000100101  Hello how may I help you?#Hi there, I need som...   \n",
       "2  1001001110010010110001  Hello how may I help you?#Hi there.#I wish to ...   \n",
       "\n",
       "   label  \n",
       "0      1  \n",
       "1      1  \n",
       "2      1  "
      ]
     },
     "execution_count": 48,
     "metadata": {},
     "output_type": "execute_result"
    }
   ],
   "source": [
    "dev_df.head(3)"
   ]
  },
  {
   "cell_type": "code",
   "execution_count": 49,
   "metadata": {},
   "outputs": [],
   "source": [
    "dev_df['qa_turn'] = dev_df['dialogue'].apply(get_qa_turn)\n",
    "dev_df['qa_turn'] = dev_df['qa_turn'].apply(convert_to_binary)\n",
    "\n",
    "test_df['qa_turn'] = test_df['dialogue'].apply(get_qa_turn)\n",
    "test_df['qa_turn'] = test_df['qa_turn'].apply(convert_to_binary)"
   ]
  },
  {
   "cell_type": "code",
   "execution_count": 50,
   "metadata": {},
   "outputs": [],
   "source": [
    "dev_df['qan_turn'] = dev_df['dialogue'].apply(generate_qan_turn)\n",
    "dev_df['qan_turn'] = dev_df['qan_turn'].apply(convert_to_binary)\n",
    "\n",
    "test_df['qan_turn'] = test_df['dialogue'].apply(generate_qan_turn)\n",
    "test_df['qan_turn'] = test_df['qan_turn'].apply(convert_to_binary)"
   ]
  },
  {
   "cell_type": "code",
   "execution_count": 51,
   "metadata": {},
   "outputs": [],
   "source": [
    "# dialogue 9개 반복\n",
    "dev_df['dialogue'] = dev_df['dialogue'].apply(lambda x: '|'.join([x] * 9))\n",
    "test_df['dialogue'] = test_df['dialogue'].apply(lambda x: '|'.join([x] * 9))"
   ]
  },
  {
   "cell_type": "code",
   "execution_count": 52,
   "metadata": {},
   "outputs": [
    {
     "data": {
      "text/html": [
       "<div>\n",
       "<style scoped>\n",
       "    .dataframe tbody tr th:only-of-type {\n",
       "        vertical-align: middle;\n",
       "    }\n",
       "\n",
       "    .dataframe tbody tr th {\n",
       "        vertical-align: top;\n",
       "    }\n",
       "\n",
       "    .dataframe thead th {\n",
       "        text-align: right;\n",
       "    }\n",
       "</style>\n",
       "<table border=\"1\" class=\"dataframe\">\n",
       "  <thead>\n",
       "    <tr style=\"text-align: right;\">\n",
       "      <th></th>\n",
       "      <th>turn</th>\n",
       "      <th>dialogue</th>\n",
       "      <th>label</th>\n",
       "      <th>qa_turn</th>\n",
       "      <th>qan_turn</th>\n",
       "    </tr>\n",
       "  </thead>\n",
       "  <tbody>\n",
       "    <tr>\n",
       "      <th>0</th>\n",
       "      <td>10101010101</td>\n",
       "      <td>Hello how may I help you?#Do you that I am a g...</td>\n",
       "      <td>1</td>\n",
       "      <td>11000100100</td>\n",
       "      <td>11022102102</td>\n",
       "    </tr>\n",
       "    <tr>\n",
       "      <th>1</th>\n",
       "      <td>101011010101</td>\n",
       "      <td>Hello how may I help you?#hey guess what?#Okay...</td>\n",
       "      <td>1</td>\n",
       "      <td>111100100100</td>\n",
       "      <td>111102102102</td>\n",
       "    </tr>\n",
       "    <tr>\n",
       "      <th>2</th>\n",
       "      <td>1010101011010</td>\n",
       "      <td>Hello how may I help you?#hey there#Welcome!#w...</td>\n",
       "      <td>1</td>\n",
       "      <td>1001100001000</td>\n",
       "      <td>1021102221022</td>\n",
       "    </tr>\n",
       "  </tbody>\n",
       "</table>\n",
       "</div>"
      ],
      "text/plain": [
       "            turn                                           dialogue  label  \\\n",
       "0    10101010101  Hello how may I help you?#Do you that I am a g...      1   \n",
       "1   101011010101  Hello how may I help you?#hey guess what?#Okay...      1   \n",
       "2  1010101011010  Hello how may I help you?#hey there#Welcome!#w...      1   \n",
       "\n",
       "         qa_turn       qan_turn  \n",
       "0    11000100100    11022102102  \n",
       "1   111100100100   111102102102  \n",
       "2  1001100001000  1021102221022  "
      ]
     },
     "execution_count": 52,
     "metadata": {},
     "output_type": "execute_result"
    }
   ],
   "source": [
    "test_df.head(3)"
   ]
  },
  {
   "cell_type": "code",
   "execution_count": 53,
   "metadata": {},
   "outputs": [
    {
     "data": {
      "text/plain": [
       "9"
      ]
     },
     "execution_count": 53,
     "metadata": {},
     "output_type": "execute_result"
    }
   ],
   "source": [
    "len(test_df['dialogue'][0].split('|'))\n",
    "len(dev_df['dialogue'][0].split('|'))"
   ]
  },
  {
   "cell_type": "code",
   "execution_count": 54,
   "metadata": {},
   "outputs": [
    {
     "name": "stderr",
     "output_type": "stream",
     "text": [
      "100%|█████████▉| 3787/3788 [00:00<00:00, 28061.27it/s]\n",
      "100%|█████████▉| 3788/3789 [00:00<00:00, 28345.05it/s]\n"
     ]
    }
   ],
   "source": [
    "# QA 결합\n",
    "from tqdm import tqdm\n",
    "\n",
    "def comb_qa(df):\n",
    "    new_samples = []\n",
    "    new_turns = []\n",
    "    for qa_turn, sample in zip(df['qa_turn'],tqdm(df['dialogue'])):\n",
    "        dials = sample.split(\"|\")\n",
    "        new_sample = \"\"\n",
    "        for dial in dials:\n",
    "            sentences = dial.split(\"#\")\n",
    "            new_sentences = sentences[0]\n",
    "            new_qa_turn = qa_turn[0]\n",
    "            \n",
    "            for i in range(1, len(qa_turn)):\n",
    "                if qa_turn[i] != qa_turn[i-1]:\n",
    "                    new_qa_turn += qa_turn[i]\n",
    "                    new_sentences += \"#\" + sentences[i]\n",
    "                else:\n",
    "                    new_sentences += \" \" + sentences[i]\n",
    "            new_sample += \"|\" + new_sentences\n",
    "\n",
    "        new_samples.append(new_sample[1:])\n",
    "        new_turns.append(new_qa_turn)\n",
    "\n",
    "    return new_samples, new_turns\n",
    "\n",
    "dev_new_samples, dev_new_turns = comb_qa(dev_df)\n",
    "dev_df['comb_qa_dialogue'] = dev_new_samples\n",
    "dev_df['comb_qa_turn'] = dev_new_turns\n",
    "\n",
    "test_new_samples, test_new_turns = comb_qa(test_df)\n",
    "test_df['comb_qa_dialogue'] = test_new_samples\n",
    "test_df['comb_qa_turn'] = test_new_turns"
   ]
  },
  {
   "cell_type": "code",
   "execution_count": 55,
   "metadata": {},
   "outputs": [
    {
     "name": "stdout",
     "output_type": "stream",
     "text": [
      "Folder '0531_metalwoz_comb_qa_no_it' already exists.\n"
     ]
    }
   ],
   "source": [
    "import os\n",
    "\n",
    "# dataset 폴더 생성\n",
    "# case1_folder_path = \"0511_qa_st\"\n",
    "# if not os.path.exists(case1_folder_path):\n",
    "#     os.makedirs(case1_folder_path)\n",
    "#     print(f\"Folder '{case1_folder_path}' created successfully.\")\n",
    "# else:\n",
    "#     print(f\"Folder '{case1_folder_path}' already exists.\")\n",
    "    \n",
    "# case2_folder_path = \"0510_qan_st\"\n",
    "# if not os.path.exists(case2_folder_path):\n",
    "#     os.makedirs(case2_folder_path)\n",
    "#     print(f\"Folder '{case2_folder_path}' created successfully.\")\n",
    "# else:\n",
    "#     print(f\"Folder '{case2_folder_path}' already exists.\")\n",
    "\n",
    "# case3_folder_path = f\"0511_{datasetname}_comb_qa\"\n",
    "# if not os.path.exists(case3_folder_path):\n",
    "#     os.makedirs(case3_folder_path)\n",
    "#     print(f\"Folder '{case3_folder_path}' created successfully.\")\n",
    "# else:\n",
    "#     print(f\"Folder '{case3_folder_path}' already exists.\")\n",
    "    \n",
    "case5_folder_path = f\"0531_{datasetname}_comb_qa_no_it\"\n",
    "if not os.path.exists(case5_folder_path):\n",
    "    os.makedirs(case5_folder_path)\n",
    "    print(f\"Folder '{case5_folder_path}' created successfully.\")\n",
    "else:\n",
    "    print(f\"Folder '{case5_folder_path}' already exists.\")"
   ]
  },
  {
   "cell_type": "code",
   "execution_count": 56,
   "metadata": {},
   "outputs": [],
   "source": [
    "# 데이터 저장\n",
    "# case1: 0510_qa_st\n",
    "# dev_case1 = dev_df[['turn', 'dialogue', 'label', 'qa_turn']]\n",
    "# dev_case1.to_csv(f\"{case1_folder_path}/clustering_dev.tsv\", sep=\"\\t\", index=False, header=False)\n",
    "\n",
    "# test_case1 = test_df[['turn', 'dialogue', 'label', 'qa_turn']]\n",
    "# test_case1.to_csv(f\"{case1_folder_path}/clustering_test.tsv\", sep=\"\\t\", index=False, header=False)\n",
    "\n",
    "# # case2: 0510_qan_st\n",
    "# dev_case2 = dev_df[['turn', 'dialogue', 'label', 'qan_turn']]\n",
    "# dev_case2.to_csv(f\"{case2_folder_path}/clustering_dev.tsv\", sep=\"\\t\", index=False, header=False)\n",
    "\n",
    "# test_case2 = test_df[['turn', 'dialogue', 'label', 'qan_turn']]\n",
    "# test_case2.to_csv(f\"{case2_folder_path}/clustering_test.tsv\", sep=\"\\t\", index=False, header=False)\n",
    "\n",
    "# case3: 0511_comb_qa\n",
    "# dev_case3 = dev_df[['comb_qa_turn', 'comb_qa_dialogue', 'label']]\n",
    "# dev_case3.to_csv(f\"{case3_folder_path}/clustering_dev.tsv\", sep=\"\\t\", index=False, header=False)\n",
    "\n",
    "# test_case3 = test_df[['comb_qa_turn', 'comb_qa_dialogue', 'label']]\n",
    "# test_case3.to_csv(f\"{case3_folder_path}/clustering_test.tsv\", sep=\"\\t\", index=False, header=False)\n",
    "\n",
    "# case5: 0520_sgd_comb_qa, 0520_mwoz_comb_qa\n",
    "dev_case5 = dev_df[['comb_qa_turn', 'comb_qa_dialogue', 'label']]\n",
    "dev_case5.to_csv(f\"{case5_folder_path}/clustering_dev.tsv\", sep=\"\\t\", index=False, header=False)\n",
    "\n",
    "test_case5 = test_df[['comb_qa_turn', 'comb_qa_dialogue', 'label']]\n",
    "test_case5.to_csv(f\"{case5_folder_path}/clustering_test.tsv\", sep=\"\\t\", index=False, header=False)"
   ]
  },
  {
   "cell_type": "code",
   "execution_count": 57,
   "metadata": {},
   "outputs": [
    {
     "data": {
      "text/html": [
       "<div>\n",
       "<style scoped>\n",
       "    .dataframe tbody tr th:only-of-type {\n",
       "        vertical-align: middle;\n",
       "    }\n",
       "\n",
       "    .dataframe tbody tr th {\n",
       "        vertical-align: top;\n",
       "    }\n",
       "\n",
       "    .dataframe thead th {\n",
       "        text-align: right;\n",
       "    }\n",
       "</style>\n",
       "<table border=\"1\" class=\"dataframe\">\n",
       "  <thead>\n",
       "    <tr style=\"text-align: right;\">\n",
       "      <th></th>\n",
       "      <th>comb_qa_turn</th>\n",
       "      <th>comb_qa_dialogue</th>\n",
       "      <th>label</th>\n",
       "    </tr>\n",
       "  </thead>\n",
       "  <tbody>\n",
       "    <tr>\n",
       "      <th>0</th>\n",
       "      <td>101010</td>\n",
       "      <td>Hello how may I help you? Do you that I am a g...</td>\n",
       "      <td>1</td>\n",
       "    </tr>\n",
       "    <tr>\n",
       "      <th>1</th>\n",
       "      <td>101010</td>\n",
       "      <td>Hello how may I help you? hey guess what? Okay...</td>\n",
       "      <td>1</td>\n",
       "    </tr>\n",
       "    <tr>\n",
       "      <th>2</th>\n",
       "      <td>101010</td>\n",
       "      <td>Hello how may I help you?#hey there Welcome!#w...</td>\n",
       "      <td>1</td>\n",
       "    </tr>\n",
       "    <tr>\n",
       "      <th>3</th>\n",
       "      <td>10101010</td>\n",
       "      <td>Hello how may I help you?#i have to tell you#W...</td>\n",
       "      <td>1</td>\n",
       "    </tr>\n",
       "    <tr>\n",
       "      <th>4</th>\n",
       "      <td>10</td>\n",
       "      <td>Hello how may I help you?#The earth is flat Fl...</td>\n",
       "      <td>1</td>\n",
       "    </tr>\n",
       "    <tr>\n",
       "      <th>...</th>\n",
       "      <td>...</td>\n",
       "      <td>...</td>\n",
       "      <td>...</td>\n",
       "    </tr>\n",
       "    <tr>\n",
       "      <th>3784</th>\n",
       "      <td>10101010</td>\n",
       "      <td>Hello how may I help you?#I want to remember s...</td>\n",
       "      <td>47</td>\n",
       "    </tr>\n",
       "    <tr>\n",
       "      <th>3785</th>\n",
       "      <td>101010101</td>\n",
       "      <td>Hello how may I help you?#I need some help rem...</td>\n",
       "      <td>47</td>\n",
       "    </tr>\n",
       "    <tr>\n",
       "      <th>3786</th>\n",
       "      <td>1010101</td>\n",
       "      <td>Hello how may I help you? Are you good with bo...</td>\n",
       "      <td>47</td>\n",
       "    </tr>\n",
       "    <tr>\n",
       "      <th>3787</th>\n",
       "      <td>1010101010</td>\n",
       "      <td>Hello how may I help you?#I need some help#wha...</td>\n",
       "      <td>47</td>\n",
       "    </tr>\n",
       "    <tr>\n",
       "      <th>3788</th>\n",
       "      <td>101010101010</td>\n",
       "      <td>Hello how may I help you?#There's this thing.....</td>\n",
       "      <td>47</td>\n",
       "    </tr>\n",
       "  </tbody>\n",
       "</table>\n",
       "<p>3789 rows × 3 columns</p>\n",
       "</div>"
      ],
      "text/plain": [
       "      comb_qa_turn                                   comb_qa_dialogue  label\n",
       "0           101010  Hello how may I help you? Do you that I am a g...      1\n",
       "1           101010  Hello how may I help you? hey guess what? Okay...      1\n",
       "2           101010  Hello how may I help you?#hey there Welcome!#w...      1\n",
       "3         10101010  Hello how may I help you?#i have to tell you#W...      1\n",
       "4               10  Hello how may I help you?#The earth is flat Fl...      1\n",
       "...            ...                                                ...    ...\n",
       "3784      10101010  Hello how may I help you?#I want to remember s...     47\n",
       "3785     101010101  Hello how may I help you?#I need some help rem...     47\n",
       "3786       1010101  Hello how may I help you? Are you good with bo...     47\n",
       "3787    1010101010  Hello how may I help you?#I need some help#wha...     47\n",
       "3788  101010101010  Hello how may I help you?#There's this thing.....     47\n",
       "\n",
       "[3789 rows x 3 columns]"
      ]
     },
     "execution_count": 57,
     "metadata": {},
     "output_type": "execute_result"
    }
   ],
   "source": [
    "test_case5"
   ]
  },
  {
   "cell_type": "markdown",
   "metadata": {},
   "source": [
    "---"
   ]
  },
  {
   "cell_type": "markdown",
   "metadata": {},
   "source": [
    "### 질문 턴의 위치를 바꾼 positive 생성"
   ]
  },
  {
   "cell_type": "code",
   "execution_count": 59,
   "metadata": {},
   "outputs": [],
   "source": [
    "datasetname = '0531_metalwoz_comb_qa_no_it' # metalwoz, mwoz, selfdialog, sgd\n",
    "column_names = ['qa_turn', 'dialogue', 'label']\n",
    "path = '/home/jihyeon41/research_dial_embedding/dial2vec_git/dial2vec/datasets/'\n",
    "\n",
    "train_df = pd.read_csv(f'{path}{datasetname}/train.tsv', sep = '\\t', header=None, names=column_names)"
   ]
  },
  {
   "cell_type": "code",
   "execution_count": 60,
   "metadata": {},
   "outputs": [
    {
     "data": {
      "text/plain": [
       "9"
      ]
     },
     "execution_count": 60,
     "metadata": {},
     "output_type": "execute_result"
    }
   ],
   "source": [
    "len(train_df['dialogue'][0].split('|'))"
   ]
  },
  {
   "cell_type": "code",
   "execution_count": 61,
   "metadata": {},
   "outputs": [],
   "source": [
    "def shuffle_questions(df):\n",
    "    # 첫 번째 대화 추출\n",
    "    anchor = df['dialogue'].split('|')[0]\n",
    "    turns = anchor.split('#')\n",
    "    qa_turns = df['qa_turn']\n",
    "    \n",
    "    # 질문 턴과 대답 턴 분리\n",
    "    questions = []\n",
    "    answers = []\n",
    "    for i, turn in enumerate(turns):\n",
    "        if qa_turns[i] == '1':\n",
    "            questions.append(turn)\n",
    "        else:\n",
    "            answers.append(turn)\n",
    "            \n",
    "    # 질문 턴 섞기\n",
    "    random.shuffle(questions)\n",
    "    \n",
    "    # 섞인 질문 턴과 대답 턴 다시 조합\n",
    "    shuffled_turns = []\n",
    "    q_index = 0\n",
    "    a_index = 0\n",
    "    for i in range(len(turns)):\n",
    "        if qa_turns[i] == '1':\n",
    "            shuffled_turns.append(questions[q_index])\n",
    "            q_index += 1\n",
    "        else:\n",
    "            shuffled_turns.append(answers[a_index])\n",
    "            a_index += 1\n",
    "            \n",
    "    # 섞인 대화 다시 조합\n",
    "    shuffled_dialogue = '#'.join(shuffled_turns)\n",
    "    \n",
    "    # 첫 번째 대화와 두 번째 대화 사이에 삽입\n",
    "    dialogues = df['dialogue'].split('|')\n",
    "    updated_dialogue = '|'.join([dialogues[0], shuffled_dialogue] + dialogues[1:])\n",
    "    \n",
    "    return updated_dialogue"
   ]
  },
  {
   "cell_type": "code",
   "execution_count": 62,
   "metadata": {},
   "outputs": [],
   "source": [
    "train_df['dialogue'] = train_df.apply(shuffle_questions, axis=1)"
   ]
  },
  {
   "cell_type": "code",
   "execution_count": 63,
   "metadata": {},
   "outputs": [
    {
     "data": {
      "text/plain": [
       "10"
      ]
     },
     "execution_count": 63,
     "metadata": {},
     "output_type": "execute_result"
    }
   ],
   "source": [
    "len(train_df['dialogue'][0].split('|'))"
   ]
  },
  {
   "cell_type": "code",
   "execution_count": 65,
   "metadata": {},
   "outputs": [
    {
     "name": "stdout",
     "output_type": "stream",
     "text": [
      "Folder '0531_metalwoz_anc_q_shuffle_no_it' created successfully.\n"
     ]
    }
   ],
   "source": [
    "import os\n",
    "\n",
    "case4_folder_path = f\"0531_metalwoz_anc_q_shuffle_no_it\" # 폴더명 변경 필요\n",
    "if not os.path.exists(case4_folder_path):\n",
    "    os.makedirs(case4_folder_path)\n",
    "    print(f\"Folder '{case4_folder_path}' created successfully.\")\n",
    "else:\n",
    "    print(f\"Folder '{case4_folder_path}' already exists.\")"
   ]
  },
  {
   "cell_type": "code",
   "execution_count": 66,
   "metadata": {},
   "outputs": [],
   "source": [
    "train_df.to_csv(f\"{case4_folder_path}/train.tsv\", sep=\"\\t\", index=False, header=False)"
   ]
  },
  {
   "cell_type": "code",
   "execution_count": 67,
   "metadata": {},
   "outputs": [],
   "source": [
    "# dev, test도 데이터 10개로 다시 수정\n",
    "\n",
    "dev_df = pd.read_csv(f'{path}{datasetname}/clustering_dev.tsv', sep = '\\t', header=None, names=column_names)\n",
    "test_df = pd.read_csv(f'{path}{datasetname}/clustering_test.tsv', sep = '\\t', header=None, names=column_names)"
   ]
  },
  {
   "cell_type": "code",
   "execution_count": 68,
   "metadata": {},
   "outputs": [
    {
     "data": {
      "text/plain": [
       "9"
      ]
     },
     "execution_count": 68,
     "metadata": {},
     "output_type": "execute_result"
    }
   ],
   "source": [
    "len(dev_df['dialogue'][0].split('|'))"
   ]
  },
  {
   "cell_type": "code",
   "execution_count": 69,
   "metadata": {},
   "outputs": [],
   "source": [
    "def repeat_dialogue(df):\n",
    "    dialogues = df.split('|')\n",
    "    dialogues.append(dialogues[0])  # 같은 대화를 하나 더 추가\n",
    "    updated_dialogue = '|'.join(dialogues)\n",
    "    return updated_dialogue"
   ]
  },
  {
   "cell_type": "code",
   "execution_count": 70,
   "metadata": {},
   "outputs": [],
   "source": [
    "dev_df['dialogue'] = dev_df['dialogue'].apply(repeat_dialogue)\n",
    "test_df['dialogue'] = test_df['dialogue'].apply(repeat_dialogue)"
   ]
  },
  {
   "cell_type": "code",
   "execution_count": 71,
   "metadata": {},
   "outputs": [
    {
     "data": {
      "text/plain": [
       "10"
      ]
     },
     "execution_count": 71,
     "metadata": {},
     "output_type": "execute_result"
    }
   ],
   "source": [
    "len(dev_df['dialogue'][0].split('|'))"
   ]
  },
  {
   "cell_type": "code",
   "execution_count": 73,
   "metadata": {},
   "outputs": [],
   "source": [
    "dev_df.to_csv(f\"{case4_folder_path}/clustering_dev.tsv\", sep=\"\\t\", index=False, header=False)\n",
    "test_df.to_csv(f\"{case4_folder_path}/clustering_test.tsv\", sep=\"\\t\", index=False, header=False)"
   ]
  }
 ],
 "metadata": {
  "kernelspec": {
   "display_name": "kosimcse",
   "language": "python",
   "name": "python3"
  },
  "language_info": {
   "codemirror_mode": {
    "name": "ipython",
    "version": 3
   },
   "file_extension": ".py",
   "mimetype": "text/x-python",
   "name": "python",
   "nbconvert_exporter": "python",
   "pygments_lexer": "ipython3",
   "version": "3.8.18"
  }
 },
 "nbformat": 4,
 "nbformat_minor": 2
}
