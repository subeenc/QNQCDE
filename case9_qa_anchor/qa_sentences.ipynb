{
 "cells": [
  {
   "cell_type": "code",
   "execution_count": 2,
   "metadata": {},
   "outputs": [],
   "source": [
    "import pandas as pd\n",
    "from tqdm import tqdm\n",
    "import random\n"
   ]
  },
  {
   "cell_type": "markdown",
   "metadata": {},
   "source": [
    "### 원본 데이터에서 시작"
   ]
  },
  {
   "cell_type": "code",
   "execution_count": 3,
   "metadata": {},
   "outputs": [],
   "source": [
    "datasetname = 'mwoz' # metalwoz, mwoz, selfdialog, sgd\n",
    "column_names = ['turn', 'dialogue', 'label']\n",
    "path = '/home/jihyeon41/research_dial_embedding/dial2vec_git/dial2vec/datasets/'\n",
    "\n",
    "train_df = pd.read_csv(f'{path}{datasetname}/train.tsv', sep = '\\t', header=None, names=column_names)\n"
   ]
  },
  {
   "cell_type": "code",
   "execution_count": 4,
   "metadata": {},
   "outputs": [
    {
     "data": {
      "text/plain": [
       "[\"I need lodgings, and I'd like to stay in an expensive guesthouse.\",\n",
       " \"Our database doesn't list an expensive guesthouse, would you like me to try something else?\",\n",
       " 'I would like a 4 star hotel, in an expensive guesthouse please. Thanks!',\n",
       " \"I don't have anything in that area that meets those criteria. Can I try searching something else?\",\n",
       " 'What about a moderate priced one instead?',\n",
       " 'I have 11 results. Do you prefer to stay in a particular area of town?',\n",
       " \"I don't have an area preference.\",\n",
       " 'I located avalon guesthouse located north, is a 4 and moderately priced. Would you like me to book a room for how many guest, days and starting on what day?',\n",
       " 'Do you know what area that is in and whether they have internet?',\n",
       " 'They are wifi capable and in the north area, would you like more information or a booking?',\n",
       " 'Can I please have the address along with post code?',\n",
       " 'Sure, the address is 62 Gilbert Road and the postcode is cb43pd.',\n",
       " 'Thanks, that takes care of everything for me. Have a good one!',\n",
       " \"Have a great time on your trip.|I need lodgings, and I'd like to stay in an expensive guesthouse.\",\n",
       " 'They can accommodate you! Here is your reference number BS2C1Q5X . Is there anything else I can do to help you?',\n",
       " 'I would like a 4 star hotel, in an expensive guesthouse please. Thanks!',\n",
       " \"I suggest Byard art. The address, postcode, and area are 14 king's parade, cb21sj, and it is located in the south.\",\n",
       " 'What about a moderate priced one instead?',\n",
       " 'Your booking was successful, your reference number is 8JYOL10R . Is there anything else I can help you with?',\n",
       " \"I don't have an area preference.\",\n",
       " 'Booking was successful. Your reference number is KLDPGQ5D . Will that be all?',\n",
       " 'Do you know what area that is in and whether they have internet?',\n",
       " 'I will get that for you now.',\n",
       " 'Can I please have the address along with post code?',\n",
       " 'Where you travel to and from?',\n",
       " 'Thanks, that takes care of everything for me. Have a good one!',\n",
       " \"I was able to get you rooms at the Alexander Bed & Breakfast. Reference number is : HREOM15W . Can I be of further assistance today?|I need lodgings, and I'd like to stay in an expensive guesthouse.\",\n",
       " 'The arrival time is 13:32. The train ID is TR3158. And the travel time for this route is 60 minutes. Anything else I can do for you?',\n",
       " 'I would like a 4 star hotel, in an expensive guesthouse please. Thanks!',\n",
       " 'Travel time is a mere 17 minutes, and the per person price is 4.4 GBP. Would you like tickets, or is there something else I can help with?',\n",
       " 'What about a moderate priced one instead?',\n",
       " 'Yes, there are a number of options. Would you like to narrow it down by area of town?',\n",
       " \"I don't have an area preference.\",\n",
       " \"I'm sorry, there was misunderstanding. There is only one hotel and it's unfortunately full. However, I can try to book you a room in guesthouse?\",\n",
       " 'Do you know what area that is in and whether they have internet?',\n",
       " 'There are 356 restaurants can you narrow it down ?',\n",
       " 'Can I please have the address along with post code?',\n",
       " 'I want to confirm the train has not been booked. Thank you for using Cambridge TownInfo centre. Goodbye.',\n",
       " 'Thanks, that takes care of everything for me. Have a good one!',\n",
       " \"I have found some restaurants. They serve asian oriental, british, chinese, european, gastropub, international, italian, lebanese, modern european, spanish, and turkish.|I need lodgings, and I'd like to stay in an expensive guesthouse.\",\n",
       " 'Do you need any help with any thing else?',\n",
       " 'I would like a 4 star hotel, in an expensive guesthouse please. Thanks!',\n",
       " 'Booking was not successful book another day or time slot please',\n",
       " 'What about a moderate priced one instead?',\n",
       " 'Sure, do you prefer a guesthouse or a hotel?',\n",
       " \"I don't have an area preference.\",\n",
       " \"There are a lot to choose from! There's Hughes Hall and Jesus College in the centre of town, Magdalene College and Queen's College in the west, and many others.\",\n",
       " 'Do you know what area that is in and whether they have internet?',\n",
       " \"You're welcome. Enjoy your stay\",\n",
       " 'Can I please have the address along with post code?',\n",
       " \"You're taxi is all set. It will be a red Ford. The contact number is 07979547936. Is there anything else I can assist you with?\",\n",
       " 'Thanks, that takes care of everything for me. Have a good one!',\n",
       " \"Can you give me a day, as well?|I need lodgings, and I'd like to stay in an expensive guesthouse.\",\n",
       " 'Yes I can make the booking for you. How many people will be traveling?',\n",
       " 'I would like a 4 star hotel, in an expensive guesthouse please. Thanks!',\n",
       " 'You are welcome. Anytime.',\n",
       " 'What about a moderate priced one instead?',\n",
       " 'Ok. Where are you going?',\n",
       " \"I don't have an area preference.\",\n",
       " \"Absolutely! It's 01223338901. Is there anything else I can do for you?\",\n",
       " 'Do you know what area that is in and whether they have internet?',\n",
       " 'The address is wandlebury ring, gog magog hills, babraham.',\n",
       " 'Can I please have the address along with post code?',\n",
       " 'Glad I could help.',\n",
       " 'Thanks, that takes care of everything for me. Have a good one!',\n",
       " \"It's a 50-minute ride. Can I help you with anything else?|I need lodgings, and I'd like to stay in an expensive guesthouse.\",\n",
       " 'I can help with that. Can you tell me where you will be departing from and heading to?',\n",
       " 'I would like a 4 star hotel, in an expensive guesthouse please. Thanks!',\n",
       " 'Great! How many seats will you need?',\n",
       " 'What about a moderate priced one instead?',\n",
       " \"OK, how about Cambridge Artworks, the phone number is 01223902168, the address is 5 Greens Road, the postcode is cb13ef, and it's free!\",\n",
       " \"I don't have an area preference.\",\n",
       " 'Could you choose a different check in day perhaps, or a shorter stay?',\n",
       " 'Do you know what area that is in and whether they have internet?',\n",
       " 'Ok - Thank you! Enjoy your stay!',\n",
       " 'Can I please have the address along with post code?',\n",
       " 'The ticket price is 16.60 pounds. Would you like me to book that for you?',\n",
       " 'Thanks, that takes care of everything for me. Have a good one!',\n",
       " \"Yes. The address is 732-734 newmarket road, and the postcode is cb58rs. Is there anything else I could help you with?|I need lodgings, and I'd like to stay in an expensive guesthouse.\",\n",
       " 'Ok. Thanks for calling the Cambridge TownInfo Centre. Have a great day!',\n",
       " 'I would like a 4 star hotel, in an expensive guesthouse please. Thanks!',\n",
       " 'It is a cheap place.',\n",
       " 'What about a moderate priced one instead?',\n",
       " 'Sorry, nothing before 12:01',\n",
       " \"I don't have an area preference.\",\n",
       " 'welcome all the time',\n",
       " 'Do you know what area that is in and whether they have internet?',\n",
       " 'Okay we have the de luca cucina and bar and the riverside brasserie. Which one would you like?',\n",
       " 'Can I please have the address along with post code?',\n",
       " 'It was a pleasure to help you today. Thanks for using our service. Goodbye.',\n",
       " 'Thanks, that takes care of everything for me. Have a good one!',\n",
       " \"the TR1268 will get you there by 13:07, how many tickets?|I need lodgings, and I'd like to stay in an expensive guesthouse.\",\n",
       " 'Booking was successful. Reference number is : I4AFI8ET . what else do you need?',\n",
       " 'I would like a 4 star hotel, in an expensive guesthouse please. Thanks!',\n",
       " \"You're welcome. Have a good day!\",\n",
       " 'What about a moderate priced one instead?',\n",
       " \"I'm happy to be of service, and I hope you enjoy your time in Cambridge!\",\n",
       " \"I don't have an area preference.\",\n",
       " \"Sure thing, that's 01223324600.\",\n",
       " 'Do you know what area that is in and whether they have internet?',\n",
       " \"You're welcome. Have a great day!\",\n",
       " 'Can I please have the address along with post code?',\n",
       " 'the incorrect domain was selected, please fix.',\n",
       " 'Thanks, that takes care of everything for me. Have a good one!',\n",
       " \"There are 29 options. Would you like a recommendation, or do you wish to narrow the search?|I need lodgings, and I'd like to stay in an expensive guesthouse.\",\n",
       " 'Yes there is one option here. It is little seoul. What day and time for your booking?',\n",
       " 'I would like a 4 star hotel, in an expensive guesthouse please. Thanks!',\n",
       " 'I sure can. I book a white tesla for 15:15. The reference number is 07560492867.',\n",
       " 'What about a moderate priced one instead?',\n",
       " \"Ok, I've booked at Yu Garden for 5 at 15:30 on Saturday. Your reference number is JDFXWUMM .\",\n",
       " \"I don't have an area preference.\",\n",
       " 'Sure, there are 3. Is there a particular part of town you prefer?',\n",
       " 'Do you know what area that is in and whether they have internet?',\n",
       " 'I have several. What type of food are you looking for? I have British, Chinese, Indian and Gastropub food to choose from in this price range.',\n",
       " 'Can I please have the address along with post code?',\n",
       " 'And what day do you want to travel?',\n",
       " 'Thanks, that takes care of everything for me. Have a good one!',\n",
       " \"call them through 01223217118|I need lodgings, and I'd like to stay in an expensive guesthouse.\",\n",
       " 'Reference number is : JRAO2H4A. and the price will be 30.29GBP',\n",
       " 'I would like a 4 star hotel, in an expensive guesthouse please. Thanks!',\n",
       " 'You will be picked up by a black Audi. The contact number is 07866049938. Is there anything else I can do for you?',\n",
       " 'What about a moderate priced one instead?',\n",
       " 'The acorn guest house is in the north in the moderate price range and has a 4 star rating. Would you like to book a room?',\n",
       " \"I don't have an area preference.\",\n",
       " 'There are two. The Ashley hotel and the Lovell Lodge. Both have internet and parking. Both are 2 stars.',\n",
       " 'Do you know what area that is in and whether they have internet?',\n",
       " \"Okay you're all set. Your reference number is U37O50HC . Is there anything else?\",\n",
       " 'Can I please have the address along with post code?',\n",
       " 'Sure. What time would you like to leave the restaurant?',\n",
       " 'Thanks, that takes care of everything for me. Have a good one!',\n",
       " 'The phone number is 01223245151 and the post code is CB20QQ. Is there anything else I can help you with?']"
      ]
     },
     "execution_count": 4,
     "metadata": {},
     "output_type": "execute_result"
    }
   ],
   "source": [
    "train_df['dialogue'][0].split('#')"
   ]
  },
  {
   "cell_type": "code",
   "execution_count": 5,
   "metadata": {},
   "outputs": [
    {
     "data": {
      "text/plain": [
       "[\"I need lodgings, and I'd like to stay in an expensive guesthouse.#Our database doesn't list an expensive guesthouse, would you like me to try something else?#I would like a 4 star hotel, in an expensive guesthouse please. Thanks!#I don't have anything in that area that meets those criteria. Can I try searching something else?#What about a moderate priced one instead?#I have 11 results. Do you prefer to stay in a particular area of town?#I don't have an area preference.#I located avalon guesthouse located north, is a 4 and moderately priced. Would you like me to book a room for how many guest, days and starting on what day?#Do you know what area that is in and whether they have internet?#They are wifi capable and in the north area, would you like more information or a booking?#Can I please have the address along with post code?#Sure, the address is 62 Gilbert Road and the postcode is cb43pd.#Thanks, that takes care of everything for me. Have a good one!#Have a great time on your trip.\",\n",
       " \"I need lodgings, and I'd like to stay in an expensive guesthouse.#They can accommodate you! Here is your reference number BS2C1Q5X . Is there anything else I can do to help you?#I would like a 4 star hotel, in an expensive guesthouse please. Thanks!#I suggest Byard art. The address, postcode, and area are 14 king's parade, cb21sj, and it is located in the south.#What about a moderate priced one instead?#Your booking was successful, your reference number is 8JYOL10R . Is there anything else I can help you with?#I don't have an area preference.#Booking was successful. Your reference number is KLDPGQ5D . Will that be all?#Do you know what area that is in and whether they have internet?#I will get that for you now.#Can I please have the address along with post code?#Where you travel to and from?#Thanks, that takes care of everything for me. Have a good one!#I was able to get you rooms at the Alexander Bed & Breakfast. Reference number is : HREOM15W . Can I be of further assistance today?\",\n",
       " \"I need lodgings, and I'd like to stay in an expensive guesthouse.#The arrival time is 13:32. The train ID is TR3158. And the travel time for this route is 60 minutes. Anything else I can do for you?#I would like a 4 star hotel, in an expensive guesthouse please. Thanks!#Travel time is a mere 17 minutes, and the per person price is 4.4 GBP. Would you like tickets, or is there something else I can help with?#What about a moderate priced one instead?#Yes, there are a number of options. Would you like to narrow it down by area of town?#I don't have an area preference.#I'm sorry, there was misunderstanding. There is only one hotel and it's unfortunately full. However, I can try to book you a room in guesthouse?#Do you know what area that is in and whether they have internet?#There are 356 restaurants can you narrow it down ?#Can I please have the address along with post code?#I want to confirm the train has not been booked. Thank you for using Cambridge TownInfo centre. Goodbye.#Thanks, that takes care of everything for me. Have a good one!#I have found some restaurants. They serve asian oriental, british, chinese, european, gastropub, international, italian, lebanese, modern european, spanish, and turkish.\",\n",
       " \"I need lodgings, and I'd like to stay in an expensive guesthouse.#Do you need any help with any thing else?#I would like a 4 star hotel, in an expensive guesthouse please. Thanks!#Booking was not successful book another day or time slot please#What about a moderate priced one instead?#Sure, do you prefer a guesthouse or a hotel?#I don't have an area preference.#There are a lot to choose from! There's Hughes Hall and Jesus College in the centre of town, Magdalene College and Queen's College in the west, and many others.#Do you know what area that is in and whether they have internet?#You're welcome. Enjoy your stay#Can I please have the address along with post code?#You're taxi is all set. It will be a red Ford. The contact number is 07979547936. Is there anything else I can assist you with?#Thanks, that takes care of everything for me. Have a good one!#Can you give me a day, as well?\",\n",
       " \"I need lodgings, and I'd like to stay in an expensive guesthouse.#Yes I can make the booking for you. How many people will be traveling?#I would like a 4 star hotel, in an expensive guesthouse please. Thanks!#You are welcome. Anytime.#What about a moderate priced one instead?#Ok. Where are you going?#I don't have an area preference.#Absolutely! It's 01223338901. Is there anything else I can do for you?#Do you know what area that is in and whether they have internet?#The address is wandlebury ring, gog magog hills, babraham.#Can I please have the address along with post code?#Glad I could help.#Thanks, that takes care of everything for me. Have a good one!#It's a 50-minute ride. Can I help you with anything else?\",\n",
       " \"I need lodgings, and I'd like to stay in an expensive guesthouse.#I can help with that. Can you tell me where you will be departing from and heading to?#I would like a 4 star hotel, in an expensive guesthouse please. Thanks!#Great! How many seats will you need?#What about a moderate priced one instead?#OK, how about Cambridge Artworks, the phone number is 01223902168, the address is 5 Greens Road, the postcode is cb13ef, and it's free!#I don't have an area preference.#Could you choose a different check in day perhaps, or a shorter stay?#Do you know what area that is in and whether they have internet?#Ok - Thank you! Enjoy your stay!#Can I please have the address along with post code?#The ticket price is 16.60 pounds. Would you like me to book that for you?#Thanks, that takes care of everything for me. Have a good one!#Yes. The address is 732-734 newmarket road, and the postcode is cb58rs. Is there anything else I could help you with?\",\n",
       " \"I need lodgings, and I'd like to stay in an expensive guesthouse.#Ok. Thanks for calling the Cambridge TownInfo Centre. Have a great day!#I would like a 4 star hotel, in an expensive guesthouse please. Thanks!#It is a cheap place.#What about a moderate priced one instead?#Sorry, nothing before 12:01#I don't have an area preference.#welcome all the time#Do you know what area that is in and whether they have internet?#Okay we have the de luca cucina and bar and the riverside brasserie. Which one would you like?#Can I please have the address along with post code?#It was a pleasure to help you today. Thanks for using our service. Goodbye.#Thanks, that takes care of everything for me. Have a good one!#the TR1268 will get you there by 13:07, how many tickets?\",\n",
       " \"I need lodgings, and I'd like to stay in an expensive guesthouse.#Booking was successful. Reference number is : I4AFI8ET . what else do you need?#I would like a 4 star hotel, in an expensive guesthouse please. Thanks!#You're welcome. Have a good day!#What about a moderate priced one instead?#I'm happy to be of service, and I hope you enjoy your time in Cambridge!#I don't have an area preference.#Sure thing, that's 01223324600.#Do you know what area that is in and whether they have internet?#You're welcome. Have a great day!#Can I please have the address along with post code?#the incorrect domain was selected, please fix.#Thanks, that takes care of everything for me. Have a good one!#There are 29 options. Would you like a recommendation, or do you wish to narrow the search?\",\n",
       " \"I need lodgings, and I'd like to stay in an expensive guesthouse.#Yes there is one option here. It is little seoul. What day and time for your booking?#I would like a 4 star hotel, in an expensive guesthouse please. Thanks!#I sure can. I book a white tesla for 15:15. The reference number is 07560492867.#What about a moderate priced one instead?#Ok, I've booked at Yu Garden for 5 at 15:30 on Saturday. Your reference number is JDFXWUMM .#I don't have an area preference.#Sure, there are 3. Is there a particular part of town you prefer?#Do you know what area that is in and whether they have internet?#I have several. What type of food are you looking for? I have British, Chinese, Indian and Gastropub food to choose from in this price range.#Can I please have the address along with post code?#And what day do you want to travel?#Thanks, that takes care of everything for me. Have a good one!#call them through 01223217118\",\n",
       " \"I need lodgings, and I'd like to stay in an expensive guesthouse.#Reference number is : JRAO2H4A. and the price will be 30.29GBP#I would like a 4 star hotel, in an expensive guesthouse please. Thanks!#You will be picked up by a black Audi. The contact number is 07866049938. Is there anything else I can do for you?#What about a moderate priced one instead?#The acorn guest house is in the north in the moderate price range and has a 4 star rating. Would you like to book a room?#I don't have an area preference.#There are two. The Ashley hotel and the Lovell Lodge. Both have internet and parking. Both are 2 stars.#Do you know what area that is in and whether they have internet?#Okay you're all set. Your reference number is U37O50HC . Is there anything else?#Can I please have the address along with post code?#Sure. What time would you like to leave the restaurant?#Thanks, that takes care of everything for me. Have a good one!#The phone number is 01223245151 and the post code is CB20QQ. Is there anything else I can help you with?\"]"
      ]
     },
     "execution_count": 5,
     "metadata": {},
     "output_type": "execute_result"
    }
   ],
   "source": [
    "# train_df = train_df.head(5)\n",
    "train_df['dial_split'] = train_df['dialogue'].str.split('|').tolist()\n",
    "train_df['dial_split'][0]"
   ]
  },
  {
   "cell_type": "code",
   "execution_count": 6,
   "metadata": {},
   "outputs": [
    {
     "data": {
      "text/html": [
       "<div>\n",
       "<style scoped>\n",
       "    .dataframe tbody tr th:only-of-type {\n",
       "        vertical-align: middle;\n",
       "    }\n",
       "\n",
       "    .dataframe tbody tr th {\n",
       "        vertical-align: top;\n",
       "    }\n",
       "\n",
       "    .dataframe thead th {\n",
       "        text-align: right;\n",
       "    }\n",
       "</style>\n",
       "<table border=\"1\" class=\"dataframe\">\n",
       "  <thead>\n",
       "    <tr style=\"text-align: right;\">\n",
       "      <th></th>\n",
       "      <th>turn</th>\n",
       "      <th>dialogue</th>\n",
       "      <th>label</th>\n",
       "      <th>dial_split</th>\n",
       "    </tr>\n",
       "  </thead>\n",
       "  <tbody>\n",
       "    <tr>\n",
       "      <th>0</th>\n",
       "      <td>10101010101010</td>\n",
       "      <td>I need lodgings, and I'd like to stay in an ex...</td>\n",
       "      <td>0</td>\n",
       "      <td>[I need lodgings, and I'd like to stay in an e...</td>\n",
       "    </tr>\n",
       "    <tr>\n",
       "      <th>1</th>\n",
       "      <td>1010101010101010</td>\n",
       "      <td>I'm looking for a medium priced Chinese restau...</td>\n",
       "      <td>0</td>\n",
       "      <td>[I'm looking for a medium priced Chinese resta...</td>\n",
       "    </tr>\n",
       "    <tr>\n",
       "      <th>2</th>\n",
       "      <td>101010101010</td>\n",
       "      <td>I would like to eat at an expensive european f...</td>\n",
       "      <td>0</td>\n",
       "      <td>[I would like to eat at an expensive european ...</td>\n",
       "    </tr>\n",
       "  </tbody>\n",
       "</table>\n",
       "</div>"
      ],
      "text/plain": [
       "               turn                                           dialogue  label  \\\n",
       "0    10101010101010  I need lodgings, and I'd like to stay in an ex...      0   \n",
       "1  1010101010101010  I'm looking for a medium priced Chinese restau...      0   \n",
       "2      101010101010  I would like to eat at an expensive european f...      0   \n",
       "\n",
       "                                          dial_split  \n",
       "0  [I need lodgings, and I'd like to stay in an e...  \n",
       "1  [I'm looking for a medium priced Chinese resta...  \n",
       "2  [I would like to eat at an expensive european ...  "
      ]
     },
     "execution_count": 6,
     "metadata": {},
     "output_type": "execute_result"
    }
   ],
   "source": [
    "train_df.head(3)"
   ]
  },
  {
   "cell_type": "markdown",
   "metadata": {},
   "source": [
    "### 질문, 대답 리스트 만들기"
   ]
  },
  {
   "cell_type": "code",
   "execution_count": 7,
   "metadata": {},
   "outputs": [],
   "source": [
    "import re\n",
    "import warnings\n",
    "warnings.filterwarnings(\"ignore\")\n",
    "\n",
    "def add_sep_to_turn(turn):\n",
    "    # 문장 구분을 위한 정규표현식\n",
    "    # sentence_pattern = re.compile(r'([.!?])\\s+(?=[A-Z])')\n",
    "    sentence_pattern = re.compile(r'(?<!\\w\\.\\w.)(?<![A-Z][a-z]\\.)(?<=\\.|\\!|\\?)\\s')  # U.S.A., Mr. 등 배제\n",
    "    \n",
    "    # 문장 구분자를 추가할 턴\n",
    "    new_turn = \"\"\n",
    "    sentences = re.split(sentence_pattern, turn)\n",
    "    for i, sentence in enumerate(sentences):\n",
    "        if not sentence.strip():\n",
    "            continue\n",
    "        \n",
    "        new_turn += sentence\n",
    "        # 마지막 문장이 아니면서 다음 문자가 대문자인 경우 [sep] 추가\n",
    "        if i < len(sentences) - 1 and sentences[i + 1] and sentences[i + 1][0].isupper():\n",
    "            new_turn += \"[sep]\"\n",
    "    \n",
    "    return new_turn"
   ]
  },
  {
   "cell_type": "code",
   "execution_count": 8,
   "metadata": {},
   "outputs": [],
   "source": [
    "# 대화를 턴 단위로 구분하여 문장 구분자 [sep] 추가\n",
    "def add_sep_to_dialogue(dialogue):\n",
    "    turns = dialogue.split('#')\n",
    "    new_dialogue = \"\"\n",
    "    for i, turn in enumerate(turns):\n",
    "        new_turn = add_sep_to_turn(turn)\n",
    "        new_dialogue += new_turn\n",
    "        if i < len(turns) - 1:\n",
    "            new_dialogue += \"#\"\n",
    "    \n",
    "    return new_dialogue"
   ]
  },
  {
   "cell_type": "code",
   "execution_count": 9,
   "metadata": {},
   "outputs": [
    {
     "name": "stderr",
     "output_type": "stream",
     "text": [
      "100%|██████████| 16698/16698 [00:12<00:00, 1354.16it/s]\n"
     ]
    },
    {
     "data": {
      "text/plain": [
       "[\"I need lodgings, and I'd like to stay in an expensive guesthouse.#Our database doesn't list an expensive guesthouse, would you like me to try something else?#I would like a 4 star hotel, in an expensive guesthouse please.[sep]Thanks!#I don't have anything in that area that meets those criteria.[sep]Can I try searching something else?#What about a moderate priced one instead?#I have 11 results.[sep]Do you prefer to stay in a particular area of town?#I don't have an area preference.#I located avalon guesthouse located north, is a 4 and moderately priced.[sep]Would you like me to book a room for how many guest, days and starting on what day?#Do you know what area that is in and whether they have internet?#They are wifi capable and in the north area, would you like more information or a booking?#Can I please have the address along with post code?#Sure, the address is 62 Gilbert Road and the postcode is cb43pd.#Thanks, that takes care of everything for me.[sep]Have a good one!#Have a great time on your trip.\",\n",
       " \"I need lodgings, and I'd like to stay in an expensive guesthouse.#They can accommodate you![sep]Here is your reference number BS2C1Q5X .[sep]Is there anything else I can do to help you?#I would like a 4 star hotel, in an expensive guesthouse please.[sep]Thanks!#I suggest Byard art.[sep]The address, postcode, and area are 14 king's parade, cb21sj, and it is located in the south.#What about a moderate priced one instead?#Your booking was successful, your reference number is 8JYOL10R .[sep]Is there anything else I can help you with?#I don't have an area preference.#Booking was successful.[sep]Your reference number is KLDPGQ5D .[sep]Will that be all?#Do you know what area that is in and whether they have internet?#I will get that for you now.#Can I please have the address along with post code?#Where you travel to and from?#Thanks, that takes care of everything for me.[sep]Have a good one!#I was able to get you rooms at the Alexander Bed & Breakfast.[sep]Reference number is : HREOM15W .[sep]Can I be of further assistance today?\",\n",
       " \"I need lodgings, and I'd like to stay in an expensive guesthouse.#The arrival time is 13:32.[sep]The train ID is TR3158.[sep]And the travel time for this route is 60 minutes.[sep]Anything else I can do for you?#I would like a 4 star hotel, in an expensive guesthouse please.[sep]Thanks!#Travel time is a mere 17 minutes, and the per person price is 4.4 GBP.[sep]Would you like tickets, or is there something else I can help with?#What about a moderate priced one instead?#Yes, there are a number of options.[sep]Would you like to narrow it down by area of town?#I don't have an area preference.#I'm sorry, there was misunderstanding.[sep]There is only one hotel and it's unfortunately full.[sep]However, I can try to book you a room in guesthouse?#Do you know what area that is in and whether they have internet?#There are 356 restaurants can you narrow it down ?#Can I please have the address along with post code?#I want to confirm the train has not been booked.[sep]Thank you for using Cambridge TownInfo centre.[sep]Goodbye.#Thanks, that takes care of everything for me.[sep]Have a good one!#I have found some restaurants.[sep]They serve asian oriental, british, chinese, european, gastropub, international, italian, lebanese, modern european, spanish, and turkish.\",\n",
       " \"I need lodgings, and I'd like to stay in an expensive guesthouse.#Do you need any help with any thing else?#I would like a 4 star hotel, in an expensive guesthouse please.[sep]Thanks!#Booking was not successful book another day or time slot please#What about a moderate priced one instead?#Sure, do you prefer a guesthouse or a hotel?#I don't have an area preference.#There are a lot to choose from![sep]There's Hughes Hall and Jesus College in the centre of town, Magdalene College and Queen's College in the west, and many others.#Do you know what area that is in and whether they have internet?#You're welcome.[sep]Enjoy your stay#Can I please have the address along with post code?#You're taxi is all set.[sep]It will be a red Ford.[sep]The contact number is 07979547936.[sep]Is there anything else I can assist you with?#Thanks, that takes care of everything for me.[sep]Have a good one!#Can you give me a day, as well?\",\n",
       " \"I need lodgings, and I'd like to stay in an expensive guesthouse.#Yes I can make the booking for you.[sep]How many people will be traveling?#I would like a 4 star hotel, in an expensive guesthouse please.[sep]Thanks!#You are welcome.[sep]Anytime.#What about a moderate priced one instead?#Ok. Where are you going?#I don't have an area preference.#Absolutely![sep]It's 01223338901.[sep]Is there anything else I can do for you?#Do you know what area that is in and whether they have internet?#The address is wandlebury ring, gog magog hills, babraham.#Can I please have the address along with post code?#Glad I could help.#Thanks, that takes care of everything for me.[sep]Have a good one!#It's a 50-minute ride.[sep]Can I help you with anything else?\",\n",
       " \"I need lodgings, and I'd like to stay in an expensive guesthouse.#I can help with that.[sep]Can you tell me where you will be departing from and heading to?#I would like a 4 star hotel, in an expensive guesthouse please.[sep]Thanks!#Great![sep]How many seats will you need?#What about a moderate priced one instead?#OK, how about Cambridge Artworks, the phone number is 01223902168, the address is 5 Greens Road, the postcode is cb13ef, and it's free!#I don't have an area preference.#Could you choose a different check in day perhaps, or a shorter stay?#Do you know what area that is in and whether they have internet?#Ok - Thank you![sep]Enjoy your stay!#Can I please have the address along with post code?#The ticket price is 16.60 pounds.[sep]Would you like me to book that for you?#Thanks, that takes care of everything for me.[sep]Have a good one!#Yes.[sep]The address is 732-734 newmarket road, and the postcode is cb58rs.[sep]Is there anything else I could help you with?\",\n",
       " \"I need lodgings, and I'd like to stay in an expensive guesthouse.#Ok. Thanks for calling the Cambridge TownInfo Centre.[sep]Have a great day!#I would like a 4 star hotel, in an expensive guesthouse please.[sep]Thanks!#It is a cheap place.#What about a moderate priced one instead?#Sorry, nothing before 12:01#I don't have an area preference.#welcome all the time#Do you know what area that is in and whether they have internet?#Okay we have the de luca cucina and bar and the riverside brasserie.[sep]Which one would you like?#Can I please have the address along with post code?#It was a pleasure to help you today.[sep]Thanks for using our service.[sep]Goodbye.#Thanks, that takes care of everything for me.[sep]Have a good one!#the TR1268 will get you there by 13:07, how many tickets?\",\n",
       " \"I need lodgings, and I'd like to stay in an expensive guesthouse.#Booking was successful.[sep]Reference number is : I4AFI8ET .what else do you need?#I would like a 4 star hotel, in an expensive guesthouse please.[sep]Thanks!#You're welcome.[sep]Have a good day!#What about a moderate priced one instead?#I'm happy to be of service, and I hope you enjoy your time in Cambridge!#I don't have an area preference.#Sure thing, that's 01223324600.#Do you know what area that is in and whether they have internet?#You're welcome.[sep]Have a great day!#Can I please have the address along with post code?#the incorrect domain was selected, please fix.#Thanks, that takes care of everything for me.[sep]Have a good one!#There are 29 options.[sep]Would you like a recommendation, or do you wish to narrow the search?\",\n",
       " \"I need lodgings, and I'd like to stay in an expensive guesthouse.#Yes there is one option here.[sep]It is little seoul.[sep]What day and time for your booking?#I would like a 4 star hotel, in an expensive guesthouse please.[sep]Thanks!#I sure can.[sep]I book a white tesla for 15:15.[sep]The reference number is 07560492867.#What about a moderate priced one instead?#Ok, I've booked at Yu Garden for 5 at 15:30 on Saturday.[sep]Your reference number is JDFXWUMM .#I don't have an area preference.#Sure, there are 3.[sep]Is there a particular part of town you prefer?#Do you know what area that is in and whether they have internet?#I have several.[sep]What type of food are you looking for?[sep]I have British, Chinese, Indian and Gastropub food to choose from in this price range.#Can I please have the address along with post code?#And what day do you want to travel?#Thanks, that takes care of everything for me.[sep]Have a good one!#call them through 01223217118\",\n",
       " \"I need lodgings, and I'd like to stay in an expensive guesthouse.#Reference number is : JRAO2H4A.and the price will be 30.29GBP#I would like a 4 star hotel, in an expensive guesthouse please.[sep]Thanks!#You will be picked up by a black Audi.[sep]The contact number is 07866049938.[sep]Is there anything else I can do for you?#What about a moderate priced one instead?#The acorn guest house is in the north in the moderate price range and has a 4 star rating.[sep]Would you like to book a room?#I don't have an area preference.#There are two.[sep]The Ashley hotel and the Lovell Lodge.[sep]Both have internet and parking.[sep]Both are 2 stars.#Do you know what area that is in and whether they have internet?#Okay you're all set.[sep]Your reference number is U37O50HC .[sep]Is there anything else?#Can I please have the address along with post code?#Sure.[sep]What time would you like to leave the restaurant?#Thanks, that takes care of everything for me.[sep]Have a good one!#The phone number is 01223245151 and the post code is CB20QQ.[sep]Is there anything else I can help you with?\"]"
      ]
     },
     "metadata": {},
     "output_type": "display_data"
    }
   ],
   "source": [
    "# 턴을 문장 단위로 구분하여 [sep] 구분자 추가\n",
    "for i, dial_split in tqdm(enumerate(train_df['dial_split']), total=len(train_df['dial_split'])):\n",
    "    new_dial_split = [add_sep_to_dialogue(turn) for turn in dial_split]\n",
    "    train_df['dial_split'][i] = new_dial_split\n",
    "\n",
    "display(train_df['dial_split'][0])"
   ]
  },
  {
   "cell_type": "code",
   "execution_count": 10,
   "metadata": {},
   "outputs": [
    {
     "name": "stderr",
     "output_type": "stream",
     "text": [
      "  0%|          | 0/16698 [00:00<?, ?it/s]"
     ]
    },
    {
     "name": "stderr",
     "output_type": "stream",
     "text": [
      "100%|██████████| 16698/16698 [00:00<00:00, 26540.48it/s]\n"
     ]
    }
   ],
   "source": [
    "# 질문과 대답 리스트 생성\n",
    "q_list = []\n",
    "a_list = []\n",
    "question_keywords = re.compile(r'^(who|what|why|when|where|how|is|are|does|did|do|can|could|will|would|shall|should|might|must|may|won\\'t|can\\'t|isn\\'t|aren\\'t|was|were|has|haven\\'t|had|shall|whom|whose|which)\\b',re.IGNORECASE)\n",
    "intent_keywords = re.compile(r'\\b(like|need|help|want|book|pick|think)\\b', re.IGNORECASE)\n",
    "\n",
    "for dial_split in tqdm(train_df['dial_split'], total=len(train_df['dial_split'])):\n",
    "    dial = dial_split[0]\n",
    "    turns = dial.split('#')\n",
    "    for turn in turns:\n",
    "        if '[sep]' in turn:\n",
    "            sentences = turn.split('[sep]')  # [sep]로 분리된 문장\n",
    "            for sentence in sentences:\n",
    "                if '?' in sentence or question_keywords.match(sentence.strip()) or intent_keywords.search(sentence.strip()):\n",
    "                    q_list.append(sentence)\n",
    "                else:\n",
    "                    a_list.append(sentence)\n",
    "        else:\n",
    "            if '?' in turn or question_keywords.match(turn.lower().strip()) or intent_keywords.search(turn.strip()):\n",
    "                q_list.append(turn)\n",
    "            else:\n",
    "                a_list.append(turn) ;''"
   ]
  },
  {
   "cell_type": "code",
   "execution_count": 11,
   "metadata": {},
   "outputs": [],
   "source": [
    "q_list = list(set(q_list))\n",
    "a_list = list(set(a_list))"
   ]
  },
  {
   "cell_type": "code",
   "execution_count": 12,
   "metadata": {},
   "outputs": [
    {
     "name": "stdout",
     "output_type": "stream",
     "text": [
      "q_list: 60159\n",
      "a_list: 65896\n"
     ]
    }
   ],
   "source": [
    "print(\"q_list:\", len(q_list))\n",
    "# display(q_list)\n",
    "\n",
    "print(\"a_list:\", len(a_list))\n",
    "# display(a_list)"
   ]
  },
  {
   "cell_type": "markdown",
   "metadata": {},
   "source": [
    "### 턴 단위의 대화를 문장 단위로 구분, turn도 문장 단위로 변경하되 동일한 턴은 같은 숫자 부여"
   ]
  },
  {
   "cell_type": "code",
   "execution_count": 13,
   "metadata": {},
   "outputs": [],
   "source": [
    "# 기존 negative samples를 활용하지 않을 경우\n",
    "train_df['dialogue'] = train_df['dialogue'].str.split('|').str[0]\n",
    "train_df.drop(columns=['dial_split'], inplace=True)"
   ]
  },
  {
   "cell_type": "code",
   "execution_count": 14,
   "metadata": {},
   "outputs": [
    {
     "name": "stderr",
     "output_type": "stream",
     "text": [
      "100%|██████████| 16698/16698 [00:03<00:00, 5210.07it/s]\n"
     ]
    }
   ],
   "source": [
    "# 턴을 문장 단위로 구분하여 [sep] 구분자 추가\n",
    "train_df['sep_dial'] = ''\n",
    "for i, dial in tqdm(enumerate(train_df['dialogue']), total=len(train_df['dialogue'])):\n",
    "    sep_dial = add_sep_to_dialogue(dial)\n",
    "    train_df['sep_dial'][i] = sep_dial"
   ]
  },
  {
   "cell_type": "code",
   "execution_count": 15,
   "metadata": {},
   "outputs": [],
   "source": [
    "# [sep] 구분자 개수 세는 함수\n",
    "def count_sep_per_turn(text):\n",
    "    turns = text.split('#')  # #로 대화 턴 분리\n",
    "    sep_counts = [turn.count('[sep]')+1 for turn in turns]  # 각 턴에서 [sep]을 이용해서 문장 개수 세기\n",
    "    return sep_counts"
   ]
  },
  {
   "cell_type": "code",
   "execution_count": 16,
   "metadata": {},
   "outputs": [],
   "source": [
    "train_df['sep_counts_per_turn'] = train_df['sep_dial'].apply(count_sep_per_turn)"
   ]
  },
  {
   "cell_type": "code",
   "execution_count": 17,
   "metadata": {},
   "outputs": [
    {
     "data": {
      "text/html": [
       "<div>\n",
       "<style scoped>\n",
       "    .dataframe tbody tr th:only-of-type {\n",
       "        vertical-align: middle;\n",
       "    }\n",
       "\n",
       "    .dataframe tbody tr th {\n",
       "        vertical-align: top;\n",
       "    }\n",
       "\n",
       "    .dataframe thead th {\n",
       "        text-align: right;\n",
       "    }\n",
       "</style>\n",
       "<table border=\"1\" class=\"dataframe\">\n",
       "  <thead>\n",
       "    <tr style=\"text-align: right;\">\n",
       "      <th></th>\n",
       "      <th>turn</th>\n",
       "      <th>dialogue</th>\n",
       "      <th>label</th>\n",
       "      <th>sep_dial</th>\n",
       "      <th>sep_counts_per_turn</th>\n",
       "    </tr>\n",
       "  </thead>\n",
       "  <tbody>\n",
       "    <tr>\n",
       "      <th>0</th>\n",
       "      <td>10101010101010</td>\n",
       "      <td>I need lodgings, and I'd like to stay in an ex...</td>\n",
       "      <td>0</td>\n",
       "      <td>I need lodgings, and I'd like to stay in an ex...</td>\n",
       "      <td>[1, 1, 2, 2, 1, 2, 1, 2, 1, 1, 1, 1, 2, 1]</td>\n",
       "    </tr>\n",
       "    <tr>\n",
       "      <th>1</th>\n",
       "      <td>1010101010101010</td>\n",
       "      <td>I'm looking for a medium priced Chinese restau...</td>\n",
       "      <td>0</td>\n",
       "      <td>I'm looking for a medium priced Chinese restau...</td>\n",
       "      <td>[1, 2, 1, 2, 3, 3, 2, 1, 2, 1, 1, 2, 1, 1, 2, 3]</td>\n",
       "    </tr>\n",
       "    <tr>\n",
       "      <th>2</th>\n",
       "      <td>101010101010</td>\n",
       "      <td>I would like to eat at an expensive european f...</td>\n",
       "      <td>0</td>\n",
       "      <td>I would like to eat at an expensive european f...</td>\n",
       "      <td>[1, 1, 2, 1, 1, 2, 1, 1, 1, 2, 1, 2]</td>\n",
       "    </tr>\n",
       "  </tbody>\n",
       "</table>\n",
       "</div>"
      ],
      "text/plain": [
       "               turn                                           dialogue  label  \\\n",
       "0    10101010101010  I need lodgings, and I'd like to stay in an ex...      0   \n",
       "1  1010101010101010  I'm looking for a medium priced Chinese restau...      0   \n",
       "2      101010101010  I would like to eat at an expensive european f...      0   \n",
       "\n",
       "                                            sep_dial  \\\n",
       "0  I need lodgings, and I'd like to stay in an ex...   \n",
       "1  I'm looking for a medium priced Chinese restau...   \n",
       "2  I would like to eat at an expensive european f...   \n",
       "\n",
       "                                sep_counts_per_turn  \n",
       "0        [1, 1, 2, 2, 1, 2, 1, 2, 1, 1, 1, 1, 2, 1]  \n",
       "1  [1, 2, 1, 2, 3, 3, 2, 1, 2, 1, 1, 2, 1, 1, 2, 3]  \n",
       "2              [1, 1, 2, 1, 1, 2, 1, 1, 1, 2, 1, 2]  "
      ]
     },
     "execution_count": 17,
     "metadata": {},
     "output_type": "execute_result"
    }
   ],
   "source": [
    "train_df.head(3)"
   ]
  },
  {
   "cell_type": "code",
   "execution_count": 18,
   "metadata": {},
   "outputs": [],
   "source": [
    "# 문장 단위로 turn 수정\n",
    "\n",
    "# 1과 0이 번갈아가며 이루어진 리스트 생성 함수\n",
    "def generate_turn_list(sep_counts_per_turn):\n",
    "    turn_list = []\n",
    "    for i, count in enumerate(sep_counts_per_turn):\n",
    "        if i % 2 == 0:  # 짝수번째\n",
    "            turn_list.extend([1] * count)\n",
    "        else:  # 홀수번째\n",
    "            turn_list.extend([0] * count)\n",
    "    return turn_list\n",
    "\n",
    "train_df['turn'] = train_df['sep_counts_per_turn'].apply(generate_turn_list)"
   ]
  },
  {
   "cell_type": "code",
   "execution_count": 19,
   "metadata": {},
   "outputs": [],
   "source": [
    "def convert_to_binary(turn_list):\n",
    "    turn_str = ''.join(map(str, turn_list))\n",
    "    return turn_str\n",
    "\n",
    "train_df['turn'] = train_df['turn'].apply(convert_to_binary)"
   ]
  },
  {
   "cell_type": "code",
   "execution_count": 20,
   "metadata": {},
   "outputs": [
    {
     "data": {
      "text/html": [
       "<div>\n",
       "<style scoped>\n",
       "    .dataframe tbody tr th:only-of-type {\n",
       "        vertical-align: middle;\n",
       "    }\n",
       "\n",
       "    .dataframe tbody tr th {\n",
       "        vertical-align: top;\n",
       "    }\n",
       "\n",
       "    .dataframe thead th {\n",
       "        text-align: right;\n",
       "    }\n",
       "</style>\n",
       "<table border=\"1\" class=\"dataframe\">\n",
       "  <thead>\n",
       "    <tr style=\"text-align: right;\">\n",
       "      <th></th>\n",
       "      <th>turn</th>\n",
       "      <th>dialogue</th>\n",
       "      <th>label</th>\n",
       "      <th>sep_dial</th>\n",
       "      <th>sep_counts_per_turn</th>\n",
       "    </tr>\n",
       "  </thead>\n",
       "  <tbody>\n",
       "    <tr>\n",
       "      <th>0</th>\n",
       "      <td>1011001001001010110</td>\n",
       "      <td>I need lodgings, and I'd like to stay in an ex...</td>\n",
       "      <td>0</td>\n",
       "      <td>I need lodgings, and I'd like to stay in an ex...</td>\n",
       "      <td>[1, 1, 2, 2, 1, 2, 1, 2, 1, 1, 1, 1, 2, 1]</td>\n",
       "    </tr>\n",
       "    <tr>\n",
       "      <th>1</th>\n",
       "      <td>1001001110001101101001011000</td>\n",
       "      <td>I'm looking for a medium priced Chinese restau...</td>\n",
       "      <td>0</td>\n",
       "      <td>I'm looking for a medium priced Chinese restau...</td>\n",
       "      <td>[1, 2, 1, 2, 3, 3, 2, 1, 2, 1, 1, 2, 1, 1, 2, 3]</td>\n",
       "    </tr>\n",
       "    <tr>\n",
       "      <th>2</th>\n",
       "      <td>1011010010100100</td>\n",
       "      <td>I would like to eat at an expensive european f...</td>\n",
       "      <td>0</td>\n",
       "      <td>I would like to eat at an expensive european f...</td>\n",
       "      <td>[1, 1, 2, 1, 1, 2, 1, 1, 1, 2, 1, 2]</td>\n",
       "    </tr>\n",
       "  </tbody>\n",
       "</table>\n",
       "</div>"
      ],
      "text/plain": [
       "                           turn  \\\n",
       "0           1011001001001010110   \n",
       "1  1001001110001101101001011000   \n",
       "2              1011010010100100   \n",
       "\n",
       "                                            dialogue  label  \\\n",
       "0  I need lodgings, and I'd like to stay in an ex...      0   \n",
       "1  I'm looking for a medium priced Chinese restau...      0   \n",
       "2  I would like to eat at an expensive european f...      0   \n",
       "\n",
       "                                            sep_dial  \\\n",
       "0  I need lodgings, and I'd like to stay in an ex...   \n",
       "1  I'm looking for a medium priced Chinese restau...   \n",
       "2  I would like to eat at an expensive european f...   \n",
       "\n",
       "                                sep_counts_per_turn  \n",
       "0        [1, 1, 2, 2, 1, 2, 1, 2, 1, 1, 1, 1, 2, 1]  \n",
       "1  [1, 2, 1, 2, 3, 3, 2, 1, 2, 1, 1, 2, 1, 1, 2, 3]  \n",
       "2              [1, 1, 2, 1, 1, 2, 1, 1, 1, 2, 1, 2]  "
      ]
     },
     "execution_count": 20,
     "metadata": {},
     "output_type": "execute_result"
    }
   ],
   "source": [
    "train_df.head(3)"
   ]
  },
  {
   "cell_type": "code",
   "execution_count": 21,
   "metadata": {},
   "outputs": [],
   "source": [
    "# [sep]구분자도 모두 #으로 변경하여 문장 단위의 구분으로 dialogue 저장\n",
    "\n",
    "train_df['dialogue'] = train_df['sep_dial'].str.replace('[sep]', '#')\n",
    "train_df.drop(columns=['sep_dial', 'sep_counts_per_turn'], inplace=True)"
   ]
  },
  {
   "cell_type": "code",
   "execution_count": 22,
   "metadata": {},
   "outputs": [
    {
     "data": {
      "text/html": [
       "<div>\n",
       "<style scoped>\n",
       "    .dataframe tbody tr th:only-of-type {\n",
       "        vertical-align: middle;\n",
       "    }\n",
       "\n",
       "    .dataframe tbody tr th {\n",
       "        vertical-align: top;\n",
       "    }\n",
       "\n",
       "    .dataframe thead th {\n",
       "        text-align: right;\n",
       "    }\n",
       "</style>\n",
       "<table border=\"1\" class=\"dataframe\">\n",
       "  <thead>\n",
       "    <tr style=\"text-align: right;\">\n",
       "      <th></th>\n",
       "      <th>turn</th>\n",
       "      <th>dialogue</th>\n",
       "      <th>label</th>\n",
       "    </tr>\n",
       "  </thead>\n",
       "  <tbody>\n",
       "    <tr>\n",
       "      <th>0</th>\n",
       "      <td>1011001001001010110</td>\n",
       "      <td>I need lodgings, and I'd like to stay in an ex...</td>\n",
       "      <td>0</td>\n",
       "    </tr>\n",
       "    <tr>\n",
       "      <th>1</th>\n",
       "      <td>1001001110001101101001011000</td>\n",
       "      <td>I'm looking for a medium priced Chinese restau...</td>\n",
       "      <td>0</td>\n",
       "    </tr>\n",
       "    <tr>\n",
       "      <th>2</th>\n",
       "      <td>1011010010100100</td>\n",
       "      <td>I would like to eat at an expensive european f...</td>\n",
       "      <td>0</td>\n",
       "    </tr>\n",
       "  </tbody>\n",
       "</table>\n",
       "</div>"
      ],
      "text/plain": [
       "                           turn  \\\n",
       "0           1011001001001010110   \n",
       "1  1001001110001101101001011000   \n",
       "2              1011010010100100   \n",
       "\n",
       "                                            dialogue  label  \n",
       "0  I need lodgings, and I'd like to stay in an ex...      0  \n",
       "1  I'm looking for a medium priced Chinese restau...      0  \n",
       "2  I would like to eat at an expensive european f...      0  "
      ]
     },
     "execution_count": 22,
     "metadata": {},
     "output_type": "execute_result"
    }
   ],
   "source": [
    "train_df.head(3)"
   ]
  },
  {
   "cell_type": "markdown",
   "metadata": {},
   "source": [
    "### qa_turn 생성\n",
    "- 질문 문장(1), 질문이 아닌 문장(0)"
   ]
  },
  {
   "cell_type": "code",
   "execution_count": 23,
   "metadata": {},
   "outputs": [],
   "source": [
    "# 포함 여부로 qa_turn 생성\n",
    "# 질문 판단을 위한 조건 추가 시, 이 부분에서 코드 수정\n",
    "question_keywords = re.compile(r'^(who|what|why|when|where|how|is|are|does|did|do|can|could|will|would|shall|should|might|must|may|won\\'t|can\\'t|isn\\'t|aren\\'t|was|were|has|haven\\'t|had|shall|whom|whose|which)\\b',re.IGNORECASE)\n",
    "intent_keywords = re.compile(r'\\b(like|need|help|want|book|pick|think)\\b', re.IGNORECASE)\n",
    "\n",
    "def get_qa_turn(dialogue):\n",
    "    qa_turn = []\n",
    "    for sentence in dialogue.split('#'):\n",
    "        if '?' in sentence or question_keywords.match(sentence.strip()) or intent_keywords.search(sentence.strip()):\n",
    "            qa_turn.append(1)\n",
    "        else:\n",
    "            qa_turn.append(0)\n",
    "    return qa_turn\n",
    "\n",
    "train_df['qa_turn'] = train_df['dialogue'].apply(get_qa_turn)\n",
    "train_df['qa_turn'] = train_df['qa_turn'].apply(convert_to_binary)"
   ]
  },
  {
   "cell_type": "code",
   "execution_count": 24,
   "metadata": {},
   "outputs": [
    {
     "data": {
      "text/html": [
       "<div>\n",
       "<style scoped>\n",
       "    .dataframe tbody tr th:only-of-type {\n",
       "        vertical-align: middle;\n",
       "    }\n",
       "\n",
       "    .dataframe tbody tr th {\n",
       "        vertical-align: top;\n",
       "    }\n",
       "\n",
       "    .dataframe thead th {\n",
       "        text-align: right;\n",
       "    }\n",
       "</style>\n",
       "<table border=\"1\" class=\"dataframe\">\n",
       "  <thead>\n",
       "    <tr style=\"text-align: right;\">\n",
       "      <th></th>\n",
       "      <th>turn</th>\n",
       "      <th>dialogue</th>\n",
       "      <th>label</th>\n",
       "      <th>qa_turn</th>\n",
       "    </tr>\n",
       "  </thead>\n",
       "  <tbody>\n",
       "    <tr>\n",
       "      <th>0</th>\n",
       "      <td>1011001001001010110</td>\n",
       "      <td>I need lodgings, and I'd like to stay in an ex...</td>\n",
       "      <td>0</td>\n",
       "      <td>1110011010011110000</td>\n",
       "    </tr>\n",
       "    <tr>\n",
       "      <th>1</th>\n",
       "      <td>1001001110001101101001011000</td>\n",
       "      <td>I'm looking for a medium priced Chinese restau...</td>\n",
       "      <td>0</td>\n",
       "      <td>0011010110000111110111101000</td>\n",
       "    </tr>\n",
       "    <tr>\n",
       "      <th>2</th>\n",
       "      <td>1011010010100100</td>\n",
       "      <td>I would like to eat at an expensive european f...</td>\n",
       "      <td>0</td>\n",
       "      <td>1101010101100100</td>\n",
       "    </tr>\n",
       "  </tbody>\n",
       "</table>\n",
       "</div>"
      ],
      "text/plain": [
       "                           turn  \\\n",
       "0           1011001001001010110   \n",
       "1  1001001110001101101001011000   \n",
       "2              1011010010100100   \n",
       "\n",
       "                                            dialogue  label  \\\n",
       "0  I need lodgings, and I'd like to stay in an ex...      0   \n",
       "1  I'm looking for a medium priced Chinese restau...      0   \n",
       "2  I would like to eat at an expensive european f...      0   \n",
       "\n",
       "                        qa_turn  \n",
       "0           1110011010011110000  \n",
       "1  0011010110000111110111101000  \n",
       "2              1101010101100100  "
      ]
     },
     "execution_count": 24,
     "metadata": {},
     "output_type": "execute_result"
    }
   ],
   "source": [
    "train_df.head(3)"
   ]
  },
  {
   "cell_type": "markdown",
   "metadata": {},
   "source": [
    "### qan_turn 생성\n",
    "- 대답 문장(0), 질문 문장(1), 질문도 대답도 아닌 문장(2)"
   ]
  },
  {
   "cell_type": "code",
   "execution_count": 25,
   "metadata": {},
   "outputs": [],
   "source": [
    "def generate_qan_turn(dialogue):\n",
    "    qan_turn = []\n",
    "    previous_has_question = False\n",
    "\n",
    "    for sentence in dialogue.split('#'):\n",
    "        if '?' in sentence or question_keywords.match(sentence.strip()) or intent_keywords.search(sentence.strip()):\n",
    "            # 현재 문장이 질문 문장일 경우\n",
    "            qan_turn.append(1)\n",
    "            previous_has_question = True\n",
    "        elif previous_has_question:\n",
    "            # 질문 문장이 아니고 이전 문장에 질문이 있었을 경우\n",
    "            qan_turn.append(0)\n",
    "            previous_has_question = False\n",
    "        else:\n",
    "            # 질문 문장도 아니고 이전 문장에 질문이 없을 경우\n",
    "            qan_turn.append(2)\n",
    "            previous_has_question = False\n",
    "\n",
    "    return qan_turn"
   ]
  },
  {
   "cell_type": "code",
   "execution_count": 26,
   "metadata": {},
   "outputs": [],
   "source": [
    "train_df['qan_turn'] = train_df['dialogue'].apply(generate_qan_turn)\n",
    "train_df['qan_turn'] = train_df['qan_turn'].apply(convert_to_binary)"
   ]
  },
  {
   "cell_type": "code",
   "execution_count": 27,
   "metadata": {},
   "outputs": [
    {
     "data": {
      "text/html": [
       "<div>\n",
       "<style scoped>\n",
       "    .dataframe tbody tr th:only-of-type {\n",
       "        vertical-align: middle;\n",
       "    }\n",
       "\n",
       "    .dataframe tbody tr th {\n",
       "        vertical-align: top;\n",
       "    }\n",
       "\n",
       "    .dataframe thead th {\n",
       "        text-align: right;\n",
       "    }\n",
       "</style>\n",
       "<table border=\"1\" class=\"dataframe\">\n",
       "  <thead>\n",
       "    <tr style=\"text-align: right;\">\n",
       "      <th></th>\n",
       "      <th>turn</th>\n",
       "      <th>dialogue</th>\n",
       "      <th>label</th>\n",
       "      <th>qa_turn</th>\n",
       "      <th>qan_turn</th>\n",
       "    </tr>\n",
       "  </thead>\n",
       "  <tbody>\n",
       "    <tr>\n",
       "      <th>0</th>\n",
       "      <td>1011001001001010110</td>\n",
       "      <td>I need lodgings, and I'd like to stay in an ex...</td>\n",
       "      <td>0</td>\n",
       "      <td>1110011010011110000</td>\n",
       "      <td>1110211010211110222</td>\n",
       "    </tr>\n",
       "    <tr>\n",
       "      <th>1</th>\n",
       "      <td>1001001110001101101001011000</td>\n",
       "      <td>I'm looking for a medium priced Chinese restau...</td>\n",
       "      <td>0</td>\n",
       "      <td>0011010110000111110111101000</td>\n",
       "      <td>2211010110222111110111101022</td>\n",
       "    </tr>\n",
       "    <tr>\n",
       "      <th>2</th>\n",
       "      <td>1011010010100100</td>\n",
       "      <td>I would like to eat at an expensive european f...</td>\n",
       "      <td>0</td>\n",
       "      <td>1101010101100100</td>\n",
       "      <td>1101010101102102</td>\n",
       "    </tr>\n",
       "  </tbody>\n",
       "</table>\n",
       "</div>"
      ],
      "text/plain": [
       "                           turn  \\\n",
       "0           1011001001001010110   \n",
       "1  1001001110001101101001011000   \n",
       "2              1011010010100100   \n",
       "\n",
       "                                            dialogue  label  \\\n",
       "0  I need lodgings, and I'd like to stay in an ex...      0   \n",
       "1  I'm looking for a medium priced Chinese restau...      0   \n",
       "2  I would like to eat at an expensive european f...      0   \n",
       "\n",
       "                        qa_turn                      qan_turn  \n",
       "0           1110011010011110000           1110211010211110222  \n",
       "1  0011010110000111110111101000  2211010110222111110111101022  \n",
       "2              1101010101100100              1101010101102102  "
      ]
     },
     "execution_count": 27,
     "metadata": {},
     "output_type": "execute_result"
    }
   ],
   "source": [
    "train_df.head(3)"
   ]
  },
  {
   "cell_type": "markdown",
   "metadata": {},
   "source": [
    "### negtive sample 생성: 질문 문장 대체 4개, 질문이 아닌 문장 대체 4개"
   ]
  },
  {
   "cell_type": "code",
   "execution_count": 28,
   "metadata": {},
   "outputs": [],
   "source": [
    "def generate_que_negatives(dialogue, q_list):\n",
    "    neg_samples = []\n",
    "    for _ in range(4):\n",
    "        neg_sample = []\n",
    "        for sentence in dialogue.split('#'):\n",
    "            if '?' in sentence or question_keywords.match(sentence.strip()) or intent_keywords.search(sentence.strip()):\n",
    "                # 질문 문장이면 랜덤으로 q_list에서 문장을 선택하여 대체\n",
    "                neg_sample.append(random.choice(q_list))\n",
    "            else:\n",
    "                neg_sample.append(sentence)\n",
    "        # 리스트를 문자열로 변환하여 negative sample에 추가\n",
    "        neg_samples.append('#'.join(neg_sample))\n",
    "    # negative samples를 '|'로 구분하여 이어붙여서 반환\n",
    "    return '|'.join(neg_samples)"
   ]
  },
  {
   "cell_type": "code",
   "execution_count": 29,
   "metadata": {},
   "outputs": [],
   "source": [
    "def generate_notque_negatives(dialogue, a_list):\n",
    "    neg_samples = []\n",
    "    for _ in range(4):\n",
    "        neg_sample = []\n",
    "        for sentence in dialogue.split('#'):\n",
    "            if '?' not in sentence and (not question_keywords.match(sentence.strip())) and (not intent_keywords.search(sentence.strip())):\n",
    "                #  문장이면 랜덤으로 a_list에서 문장을 선택하여 대체\n",
    "                neg_sample.append(random.choice(a_list))\n",
    "            else:\n",
    "                neg_sample.append(sentence)\n",
    "        # 리스트를 문자열로 변환하여 negative sample에 추가\n",
    "        neg_samples.append('#'.join(neg_sample))\n",
    "    # negative samples를 '|'로 구분하여 이어붙여서 반환\n",
    "    return '|'.join(neg_samples)"
   ]
  },
  {
   "cell_type": "code",
   "execution_count": 30,
   "metadata": {},
   "outputs": [],
   "source": [
    "train_df['qa_que_negs'] = train_df['dialogue'].apply(lambda x: generate_que_negatives(x, q_list))\n",
    "train_df['qa_quenot_negs'] = train_df['dialogue'].apply(lambda x: generate_notque_negatives(x, a_list))\n"
   ]
  },
  {
   "cell_type": "code",
   "execution_count": 31,
   "metadata": {},
   "outputs": [],
   "source": [
    "train_df['qa_dialogue'] = train_df['dialogue'] + '|' + train_df['qa_que_negs']\n",
    "train_df['qa_dialogue'] = train_df['qa_dialogue'] + '|' + train_df['qa_quenot_negs']\n",
    "\n",
    "train_df.drop(columns=['qa_que_negs', 'qa_quenot_negs'], inplace=True)"
   ]
  },
  {
   "cell_type": "code",
   "execution_count": 32,
   "metadata": {},
   "outputs": [
    {
     "data": {
      "text/html": [
       "<div>\n",
       "<style scoped>\n",
       "    .dataframe tbody tr th:only-of-type {\n",
       "        vertical-align: middle;\n",
       "    }\n",
       "\n",
       "    .dataframe tbody tr th {\n",
       "        vertical-align: top;\n",
       "    }\n",
       "\n",
       "    .dataframe thead th {\n",
       "        text-align: right;\n",
       "    }\n",
       "</style>\n",
       "<table border=\"1\" class=\"dataframe\">\n",
       "  <thead>\n",
       "    <tr style=\"text-align: right;\">\n",
       "      <th></th>\n",
       "      <th>turn</th>\n",
       "      <th>dialogue</th>\n",
       "      <th>label</th>\n",
       "      <th>qa_turn</th>\n",
       "      <th>qan_turn</th>\n",
       "      <th>qa_dialogue</th>\n",
       "    </tr>\n",
       "  </thead>\n",
       "  <tbody>\n",
       "    <tr>\n",
       "      <th>0</th>\n",
       "      <td>1011001001001010110</td>\n",
       "      <td>I need lodgings, and I'd like to stay in an ex...</td>\n",
       "      <td>0</td>\n",
       "      <td>1110011010011110000</td>\n",
       "      <td>1110211010211110222</td>\n",
       "      <td>I need lodgings, and I'd like to stay in an ex...</td>\n",
       "    </tr>\n",
       "    <tr>\n",
       "      <th>1</th>\n",
       "      <td>1001001110001101101001011000</td>\n",
       "      <td>I'm looking for a medium priced Chinese restau...</td>\n",
       "      <td>0</td>\n",
       "      <td>0011010110000111110111101000</td>\n",
       "      <td>2211010110222111110111101022</td>\n",
       "      <td>I'm looking for a medium priced Chinese restau...</td>\n",
       "    </tr>\n",
       "    <tr>\n",
       "      <th>2</th>\n",
       "      <td>1011010010100100</td>\n",
       "      <td>I would like to eat at an expensive european f...</td>\n",
       "      <td>0</td>\n",
       "      <td>1101010101100100</td>\n",
       "      <td>1101010101102102</td>\n",
       "      <td>I would like to eat at an expensive european f...</td>\n",
       "    </tr>\n",
       "  </tbody>\n",
       "</table>\n",
       "</div>"
      ],
      "text/plain": [
       "                           turn  \\\n",
       "0           1011001001001010110   \n",
       "1  1001001110001101101001011000   \n",
       "2              1011010010100100   \n",
       "\n",
       "                                            dialogue  label  \\\n",
       "0  I need lodgings, and I'd like to stay in an ex...      0   \n",
       "1  I'm looking for a medium priced Chinese restau...      0   \n",
       "2  I would like to eat at an expensive european f...      0   \n",
       "\n",
       "                        qa_turn                      qan_turn  \\\n",
       "0           1110011010011110000           1110211010211110222   \n",
       "1  0011010110000111110111101000  2211010110222111110111101022   \n",
       "2              1101010101100100              1101010101102102   \n",
       "\n",
       "                                         qa_dialogue  \n",
       "0  I need lodgings, and I'd like to stay in an ex...  \n",
       "1  I'm looking for a medium priced Chinese restau...  \n",
       "2  I would like to eat at an expensive european f...  "
      ]
     },
     "execution_count": 32,
     "metadata": {},
     "output_type": "execute_result"
    }
   ],
   "source": [
    "train_df.head(3)"
   ]
  },
  {
   "cell_type": "code",
   "execution_count": 33,
   "metadata": {},
   "outputs": [
    {
     "data": {
      "text/plain": [
       "9"
      ]
     },
     "execution_count": 33,
     "metadata": {},
     "output_type": "execute_result"
    }
   ],
   "source": [
    "len(train_df['qa_dialogue'][0].split('|'))"
   ]
  },
  {
   "cell_type": "markdown",
   "metadata": {},
   "source": [
    "### negtive sample 생성: 질문 문장 대체 4개 + 대답 문장 대체 4개"
   ]
  },
  {
   "cell_type": "code",
   "execution_count": 34,
   "metadata": {},
   "outputs": [],
   "source": [
    "# 대답 문장(0)과 질문도 대답도 아닌 문장(2)를 구분하여, 대답 문장만 다른 문장으로 대체\n",
    "def generate_ans_negatives(dialogue, a_list):\n",
    "    neg_samples = []\n",
    "    previous_has_question = False\n",
    "    for _ in range(4):\n",
    "        neg_sample = []\n",
    "        for sentence in dialogue.split('#'):\n",
    "            if '?' in sentence or question_keywords.match(sentence.strip()) or intent_keywords.search(sentence.strip()):\n",
    "                # 현재 문장이 질문 문장일 경우(1)\n",
    "                previous_has_question = True\n",
    "                neg_sample.append(sentence)\n",
    "            elif previous_has_question:\n",
    "                # 질문 문장이 아니고 이전 문장에 질문이 있었을 경우 -> 대답 문장(0)\n",
    "                previous_has_question = False\n",
    "                neg_sample.append(random.choice(a_list))\n",
    "            else:\n",
    "                # 질문 문장도 아니고 이전 문장에 질문이 없을 경우 -> 질문도 대답도 아닌 문장(2)\n",
    "                neg_sample.append(sentence)\n",
    "                \n",
    "        # 리스트를 문자열로 변환하여 negative sample에 추가\n",
    "        neg_samples.append('#'.join(neg_sample))\n",
    "    # negative samples를 '|'로 구분하여 이어붙여서 반환\n",
    "    return '|'.join(neg_samples)"
   ]
  },
  {
   "cell_type": "code",
   "execution_count": 35,
   "metadata": {},
   "outputs": [],
   "source": [
    "train_df['qa_que_negs'] = train_df['dialogue'].apply(lambda x: generate_que_negatives(x, q_list))\n",
    "train_df['qa_ans_negs'] = train_df['dialogue'].apply(lambda x: generate_ans_negatives(x, a_list))"
   ]
  },
  {
   "cell_type": "code",
   "execution_count": 36,
   "metadata": {},
   "outputs": [],
   "source": [
    "train_df['qan_dialogue'] = train_df['dialogue'] + '|' + train_df['qa_que_negs']\n",
    "train_df['qan_dialogue'] = train_df['qan_dialogue'] + '|' + train_df['qa_ans_negs']\n",
    "\n",
    "train_df.drop(columns=['qa_que_negs', 'qa_ans_negs'], inplace=True)"
   ]
  },
  {
   "cell_type": "code",
   "execution_count": 37,
   "metadata": {},
   "outputs": [
    {
     "data": {
      "text/html": [
       "<div>\n",
       "<style scoped>\n",
       "    .dataframe tbody tr th:only-of-type {\n",
       "        vertical-align: middle;\n",
       "    }\n",
       "\n",
       "    .dataframe tbody tr th {\n",
       "        vertical-align: top;\n",
       "    }\n",
       "\n",
       "    .dataframe thead th {\n",
       "        text-align: right;\n",
       "    }\n",
       "</style>\n",
       "<table border=\"1\" class=\"dataframe\">\n",
       "  <thead>\n",
       "    <tr style=\"text-align: right;\">\n",
       "      <th></th>\n",
       "      <th>turn</th>\n",
       "      <th>dialogue</th>\n",
       "      <th>label</th>\n",
       "      <th>qa_turn</th>\n",
       "      <th>qan_turn</th>\n",
       "      <th>qa_dialogue</th>\n",
       "      <th>qan_dialogue</th>\n",
       "    </tr>\n",
       "  </thead>\n",
       "  <tbody>\n",
       "    <tr>\n",
       "      <th>0</th>\n",
       "      <td>1011001001001010110</td>\n",
       "      <td>I need lodgings, and I'd like to stay in an ex...</td>\n",
       "      <td>0</td>\n",
       "      <td>1110011010011110000</td>\n",
       "      <td>1110211010211110222</td>\n",
       "      <td>I need lodgings, and I'd like to stay in an ex...</td>\n",
       "      <td>I need lodgings, and I'd like to stay in an ex...</td>\n",
       "    </tr>\n",
       "    <tr>\n",
       "      <th>1</th>\n",
       "      <td>1001001110001101101001011000</td>\n",
       "      <td>I'm looking for a medium priced Chinese restau...</td>\n",
       "      <td>0</td>\n",
       "      <td>0011010110000111110111101000</td>\n",
       "      <td>2211010110222111110111101022</td>\n",
       "      <td>I'm looking for a medium priced Chinese restau...</td>\n",
       "      <td>I'm looking for a medium priced Chinese restau...</td>\n",
       "    </tr>\n",
       "    <tr>\n",
       "      <th>2</th>\n",
       "      <td>1011010010100100</td>\n",
       "      <td>I would like to eat at an expensive european f...</td>\n",
       "      <td>0</td>\n",
       "      <td>1101010101100100</td>\n",
       "      <td>1101010101102102</td>\n",
       "      <td>I would like to eat at an expensive european f...</td>\n",
       "      <td>I would like to eat at an expensive european f...</td>\n",
       "    </tr>\n",
       "  </tbody>\n",
       "</table>\n",
       "</div>"
      ],
      "text/plain": [
       "                           turn  \\\n",
       "0           1011001001001010110   \n",
       "1  1001001110001101101001011000   \n",
       "2              1011010010100100   \n",
       "\n",
       "                                            dialogue  label  \\\n",
       "0  I need lodgings, and I'd like to stay in an ex...      0   \n",
       "1  I'm looking for a medium priced Chinese restau...      0   \n",
       "2  I would like to eat at an expensive european f...      0   \n",
       "\n",
       "                        qa_turn                      qan_turn  \\\n",
       "0           1110011010011110000           1110211010211110222   \n",
       "1  0011010110000111110111101000  2211010110222111110111101022   \n",
       "2              1101010101100100              1101010101102102   \n",
       "\n",
       "                                         qa_dialogue  \\\n",
       "0  I need lodgings, and I'd like to stay in an ex...   \n",
       "1  I'm looking for a medium priced Chinese restau...   \n",
       "2  I would like to eat at an expensive european f...   \n",
       "\n",
       "                                        qan_dialogue  \n",
       "0  I need lodgings, and I'd like to stay in an ex...  \n",
       "1  I'm looking for a medium priced Chinese restau...  \n",
       "2  I would like to eat at an expensive european f...  "
      ]
     },
     "execution_count": 37,
     "metadata": {},
     "output_type": "execute_result"
    }
   ],
   "source": [
    "train_df.head(3)"
   ]
  },
  {
   "cell_type": "code",
   "execution_count": 38,
   "metadata": {},
   "outputs": [
    {
     "data": {
      "text/plain": [
       "9"
      ]
     },
     "execution_count": 38,
     "metadata": {},
     "output_type": "execute_result"
    }
   ],
   "source": [
    "len(train_df['qan_dialogue'][0].split('|'))"
   ]
  },
  {
   "cell_type": "markdown",
   "metadata": {},
   "source": [
    "### trainset 정리\n",
    "\n",
    "칼럼명\n",
    "- turn: turn을 반영(대화자1의 turn에 2개의 문장이 있을 경우 11로 할당)\n",
    "- dialogue: 원본 대화 1개\n",
    "- label: .\n",
    "- qa_turn: 질문 문장이면 1, 질문 문장이 아니면 0을 할당\n",
    "- qan_turn: 질문 문장이면 1, 대답 문장이면 0, 질문도 대답도 아닌 문장이면 2를 할당\n",
    "- qa_dialogue: qa_turn을 기반으로, 원본 대화 1개와 질문 문장을 대체한 4개 대화와 질문이 아닌 문장을 대체한 4개 대화로 구성\n",
    "- qan_dialogue: qan_turn을 기반으로, 원본 대화 1개와 질문 문장을 대체한 4개 대화와 대답 문장을 대체한 4개 대화로 구성\n"
   ]
  },
  {
   "cell_type": "code",
   "execution_count": 39,
   "metadata": {},
   "outputs": [
    {
     "data": {
      "text/html": [
       "<div>\n",
       "<style scoped>\n",
       "    .dataframe tbody tr th:only-of-type {\n",
       "        vertical-align: middle;\n",
       "    }\n",
       "\n",
       "    .dataframe tbody tr th {\n",
       "        vertical-align: top;\n",
       "    }\n",
       "\n",
       "    .dataframe thead th {\n",
       "        text-align: right;\n",
       "    }\n",
       "</style>\n",
       "<table border=\"1\" class=\"dataframe\">\n",
       "  <thead>\n",
       "    <tr style=\"text-align: right;\">\n",
       "      <th></th>\n",
       "      <th>turn</th>\n",
       "      <th>dialogue</th>\n",
       "      <th>label</th>\n",
       "      <th>qa_turn</th>\n",
       "      <th>qan_turn</th>\n",
       "      <th>qa_dialogue</th>\n",
       "      <th>qan_dialogue</th>\n",
       "    </tr>\n",
       "  </thead>\n",
       "  <tbody>\n",
       "    <tr>\n",
       "      <th>0</th>\n",
       "      <td>1011001001001010110</td>\n",
       "      <td>I need lodgings, and I'd like to stay in an ex...</td>\n",
       "      <td>0</td>\n",
       "      <td>1110011010011110000</td>\n",
       "      <td>1110211010211110222</td>\n",
       "      <td>I need lodgings, and I'd like to stay in an ex...</td>\n",
       "      <td>I need lodgings, and I'd like to stay in an ex...</td>\n",
       "    </tr>\n",
       "    <tr>\n",
       "      <th>1</th>\n",
       "      <td>1001001110001101101001011000</td>\n",
       "      <td>I'm looking for a medium priced Chinese restau...</td>\n",
       "      <td>0</td>\n",
       "      <td>0011010110000111110111101000</td>\n",
       "      <td>2211010110222111110111101022</td>\n",
       "      <td>I'm looking for a medium priced Chinese restau...</td>\n",
       "      <td>I'm looking for a medium priced Chinese restau...</td>\n",
       "    </tr>\n",
       "    <tr>\n",
       "      <th>2</th>\n",
       "      <td>1011010010100100</td>\n",
       "      <td>I would like to eat at an expensive european f...</td>\n",
       "      <td>0</td>\n",
       "      <td>1101010101100100</td>\n",
       "      <td>1101010101102102</td>\n",
       "      <td>I would like to eat at an expensive european f...</td>\n",
       "      <td>I would like to eat at an expensive european f...</td>\n",
       "    </tr>\n",
       "  </tbody>\n",
       "</table>\n",
       "</div>"
      ],
      "text/plain": [
       "                           turn  \\\n",
       "0           1011001001001010110   \n",
       "1  1001001110001101101001011000   \n",
       "2              1011010010100100   \n",
       "\n",
       "                                            dialogue  label  \\\n",
       "0  I need lodgings, and I'd like to stay in an ex...      0   \n",
       "1  I'm looking for a medium priced Chinese restau...      0   \n",
       "2  I would like to eat at an expensive european f...      0   \n",
       "\n",
       "                        qa_turn                      qan_turn  \\\n",
       "0           1110011010011110000           1110211010211110222   \n",
       "1  0011010110000111110111101000  2211010110222111110111101022   \n",
       "2              1101010101100100              1101010101102102   \n",
       "\n",
       "                                         qa_dialogue  \\\n",
       "0  I need lodgings, and I'd like to stay in an ex...   \n",
       "1  I'm looking for a medium priced Chinese restau...   \n",
       "2  I would like to eat at an expensive european f...   \n",
       "\n",
       "                                        qan_dialogue  \n",
       "0  I need lodgings, and I'd like to stay in an ex...  \n",
       "1  I'm looking for a medium priced Chinese restau...  \n",
       "2  I would like to eat at an expensive european f...  "
      ]
     },
     "execution_count": 39,
     "metadata": {},
     "output_type": "execute_result"
    }
   ],
   "source": [
    "train_df.head(3)"
   ]
  },
  {
   "cell_type": "markdown",
   "metadata": {},
   "source": [
    "### QA 결합: 불균형 해소"
   ]
  },
  {
   "cell_type": "code",
   "execution_count": 40,
   "metadata": {},
   "outputs": [
    {
     "name": "stderr",
     "output_type": "stream",
     "text": [
      "  0%|          | 0/16698 [00:00<?, ?it/s]"
     ]
    },
    {
     "name": "stderr",
     "output_type": "stream",
     "text": [
      "100%|█████████▉| 16697/16698 [00:01<00:00, 12638.25it/s]\n"
     ]
    }
   ],
   "source": [
    "# QA 결합\n",
    "from tqdm import tqdm\n",
    "\n",
    "def comb_qa(df):\n",
    "    new_samples = []\n",
    "    new_turns = []\n",
    "    for qa_turn, sample in zip(df['qa_turn'],tqdm(df['qa_dialogue'])):\n",
    "        dials = sample.split(\"|\")\n",
    "        new_sample = \"\"\n",
    "        for dial in dials:\n",
    "            sentences = dial.split(\"#\")\n",
    "            new_sentences = sentences[0]\n",
    "            new_qa_turn = qa_turn[0]\n",
    "            \n",
    "            for i in range(1, len(qa_turn)):\n",
    "                if qa_turn[i] != qa_turn[i-1]:\n",
    "                    new_qa_turn += qa_turn[i]\n",
    "                    new_sentences += \"#\" + sentences[i]\n",
    "                else:\n",
    "                    new_sentences += \" \" + sentences[i]\n",
    "            new_sample += \"|\" + new_sentences\n",
    "\n",
    "        new_samples.append(new_sample[1:])\n",
    "        new_turns.append(new_qa_turn)\n",
    "\n",
    "    return new_samples, new_turns\n",
    "\n",
    "train_new_samples, train_new_turns = comb_qa(train_df)\n",
    "train_df['comb_qa_dialogue'] = train_new_samples\n",
    "train_df['comb_qa_turn'] = train_new_turns"
   ]
  },
  {
   "cell_type": "code",
   "execution_count": 41,
   "metadata": {},
   "outputs": [
    {
     "data": {
      "text/html": [
       "<div>\n",
       "<style scoped>\n",
       "    .dataframe tbody tr th:only-of-type {\n",
       "        vertical-align: middle;\n",
       "    }\n",
       "\n",
       "    .dataframe tbody tr th {\n",
       "        vertical-align: top;\n",
       "    }\n",
       "\n",
       "    .dataframe thead th {\n",
       "        text-align: right;\n",
       "    }\n",
       "</style>\n",
       "<table border=\"1\" class=\"dataframe\">\n",
       "  <thead>\n",
       "    <tr style=\"text-align: right;\">\n",
       "      <th></th>\n",
       "      <th>comb_qa_turn</th>\n",
       "      <th>dialogue</th>\n",
       "      <th>label</th>\n",
       "    </tr>\n",
       "  </thead>\n",
       "  <tbody>\n",
       "    <tr>\n",
       "      <th>0</th>\n",
       "      <td>10101010</td>\n",
       "      <td>I need lodgings, and I'd like to stay in an ex...</td>\n",
       "      <td>0</td>\n",
       "    </tr>\n",
       "    <tr>\n",
       "      <th>1</th>\n",
       "      <td>0101010101010</td>\n",
       "      <td>I'm looking for a medium priced Chinese restau...</td>\n",
       "      <td>0</td>\n",
       "    </tr>\n",
       "    <tr>\n",
       "      <th>2</th>\n",
       "      <td>101010101010</td>\n",
       "      <td>I would like to eat at an expensive european f...</td>\n",
       "      <td>0</td>\n",
       "    </tr>\n",
       "    <tr>\n",
       "      <th>3</th>\n",
       "      <td>101010101010101010</td>\n",
       "      <td>I feel like visiting a museum, find me one ple...</td>\n",
       "      <td>0</td>\n",
       "    </tr>\n",
       "    <tr>\n",
       "      <th>4</th>\n",
       "      <td>10101010101010</td>\n",
       "      <td>I'd like to find a college to visit in the cen...</td>\n",
       "      <td>0</td>\n",
       "    </tr>\n",
       "    <tr>\n",
       "      <th>...</th>\n",
       "      <td>...</td>\n",
       "      <td>...</td>\n",
       "      <td>...</td>\n",
       "    </tr>\n",
       "    <tr>\n",
       "      <th>16693</th>\n",
       "      <td>10101010</td>\n",
       "      <td>I want to find an expensive restaurant#There a...</td>\n",
       "      <td>0</td>\n",
       "    </tr>\n",
       "    <tr>\n",
       "      <th>16694</th>\n",
       "      <td>010101010</td>\n",
       "      <td>I'm looking for a museum to visit. I have 23 t...</td>\n",
       "      <td>0</td>\n",
       "    </tr>\n",
       "    <tr>\n",
       "      <th>16695</th>\n",
       "      <td>101010101010101010</td>\n",
       "      <td>Can you help me out with finding a restaurant ...</td>\n",
       "      <td>0</td>\n",
       "    </tr>\n",
       "    <tr>\n",
       "      <th>16696</th>\n",
       "      <td>1010101010101010</td>\n",
       "      <td>Hi, I would like a restaurant inthe centre of ...</td>\n",
       "      <td>0</td>\n",
       "    </tr>\n",
       "    <tr>\n",
       "      <th>16697</th>\n",
       "      <td>0101010101</td>\n",
       "      <td>I am looking for places to go here in the cent...</td>\n",
       "      <td>0</td>\n",
       "    </tr>\n",
       "  </tbody>\n",
       "</table>\n",
       "<p>16698 rows × 3 columns</p>\n",
       "</div>"
      ],
      "text/plain": [
       "             comb_qa_turn                                           dialogue  \\\n",
       "0                10101010  I need lodgings, and I'd like to stay in an ex...   \n",
       "1           0101010101010  I'm looking for a medium priced Chinese restau...   \n",
       "2            101010101010  I would like to eat at an expensive european f...   \n",
       "3      101010101010101010  I feel like visiting a museum, find me one ple...   \n",
       "4          10101010101010  I'd like to find a college to visit in the cen...   \n",
       "...                   ...                                                ...   \n",
       "16693            10101010  I want to find an expensive restaurant#There a...   \n",
       "16694           010101010  I'm looking for a museum to visit. I have 23 t...   \n",
       "16695  101010101010101010  Can you help me out with finding a restaurant ...   \n",
       "16696    1010101010101010  Hi, I would like a restaurant inthe centre of ...   \n",
       "16697          0101010101  I am looking for places to go here in the cent...   \n",
       "\n",
       "       label  \n",
       "0          0  \n",
       "1          0  \n",
       "2          0  \n",
       "3          0  \n",
       "4          0  \n",
       "...      ...  \n",
       "16693      0  \n",
       "16694      0  \n",
       "16695      0  \n",
       "16696      0  \n",
       "16697      0  \n",
       "\n",
       "[16698 rows x 3 columns]"
      ]
     },
     "execution_count": 41,
     "metadata": {},
     "output_type": "execute_result"
    }
   ],
   "source": [
    "comb_qa_train_df = pd.DataFrame({\n",
    "    'comb_qa_turn': train_new_turns,\n",
    "    'dialogue': train_new_samples,\n",
    "    'label': train_df['label'].to_list()\n",
    "})\n",
    "comb_qa_train_df"
   ]
  },
  {
   "cell_type": "code",
   "execution_count": 42,
   "metadata": {},
   "outputs": [],
   "source": [
    "# 전체 샘플 9개 확인\n",
    "for i in comb_qa_train_df['dialogue']:\n",
    "    if len(i.split(\"|\")) != 9:\n",
    "        print(i)"
   ]
  },
  {
   "cell_type": "markdown",
   "metadata": {},
   "source": [
    "#### 16개 이상 turn 개수 분석\n",
    "- sgd: 2197개 중 1241개로 여전히 많음(56%)\n",
    "- mwoz: 16698개 중 4998개 30%\n",
    "- selfdialog: 38662개 중 3792개 10%\n",
    "- metalwoz: 60614개 중 270개 0.004%"
   ]
  },
  {
   "cell_type": "code",
   "execution_count": 43,
   "metadata": {},
   "outputs": [
    {
     "data": {
      "text/html": [
       "<div>\n",
       "<style scoped>\n",
       "    .dataframe tbody tr th:only-of-type {\n",
       "        vertical-align: middle;\n",
       "    }\n",
       "\n",
       "    .dataframe tbody tr th {\n",
       "        vertical-align: top;\n",
       "    }\n",
       "\n",
       "    .dataframe thead th {\n",
       "        text-align: right;\n",
       "    }\n",
       "</style>\n",
       "<table border=\"1\" class=\"dataframe\">\n",
       "  <thead>\n",
       "    <tr style=\"text-align: right;\">\n",
       "      <th></th>\n",
       "      <th>comb_qa_turn</th>\n",
       "      <th>dialogue</th>\n",
       "      <th>label</th>\n",
       "      <th>num_turns</th>\n",
       "    </tr>\n",
       "  </thead>\n",
       "  <tbody>\n",
       "    <tr>\n",
       "      <th>3</th>\n",
       "      <td>101010101010101010</td>\n",
       "      <td>I feel like visiting a museum, find me one ple...</td>\n",
       "      <td>0</td>\n",
       "      <td>18</td>\n",
       "    </tr>\n",
       "    <tr>\n",
       "      <th>5</th>\n",
       "      <td>0101010101010101</td>\n",
       "      <td>I'm looking for a restaurant called Saffron Br...</td>\n",
       "      <td>0</td>\n",
       "      <td>16</td>\n",
       "    </tr>\n",
       "    <tr>\n",
       "      <th>10</th>\n",
       "      <td>01010101010101010</td>\n",
       "      <td>Hello, I am looking for a guesthouse in the we...</td>\n",
       "      <td>0</td>\n",
       "      <td>17</td>\n",
       "    </tr>\n",
       "    <tr>\n",
       "      <th>16</th>\n",
       "      <td>10101010101010101010</td>\n",
       "      <td>What trains will leave from cambrige and arriv...</td>\n",
       "      <td>0</td>\n",
       "      <td>20</td>\n",
       "    </tr>\n",
       "    <tr>\n",
       "      <th>17</th>\n",
       "      <td>1010101010101010</td>\n",
       "      <td>I need a restaurant in the east.#I have severa...</td>\n",
       "      <td>0</td>\n",
       "      <td>16</td>\n",
       "    </tr>\n",
       "    <tr>\n",
       "      <th>...</th>\n",
       "      <td>...</td>\n",
       "      <td>...</td>\n",
       "      <td>...</td>\n",
       "      <td>...</td>\n",
       "    </tr>\n",
       "    <tr>\n",
       "      <th>16685</th>\n",
       "      <td>101010101010101010101010</td>\n",
       "      <td>Where is this saffron brasserie located?#it's ...</td>\n",
       "      <td>0</td>\n",
       "      <td>24</td>\n",
       "    </tr>\n",
       "    <tr>\n",
       "      <th>16686</th>\n",
       "      <td>101010101010101010</td>\n",
       "      <td>Can you please recommend a hotel? I don't need...</td>\n",
       "      <td>0</td>\n",
       "      <td>18</td>\n",
       "    </tr>\n",
       "    <tr>\n",
       "      <th>16691</th>\n",
       "      <td>101010101010101010101010</td>\n",
       "      <td>Can you help me find a nice 4 star hotel?#I wo...</td>\n",
       "      <td>0</td>\n",
       "      <td>24</td>\n",
       "    </tr>\n",
       "    <tr>\n",
       "      <th>16695</th>\n",
       "      <td>101010101010101010</td>\n",
       "      <td>Can you help me out with finding a restaurant ...</td>\n",
       "      <td>0</td>\n",
       "      <td>18</td>\n",
       "    </tr>\n",
       "    <tr>\n",
       "      <th>16696</th>\n",
       "      <td>1010101010101010</td>\n",
       "      <td>Hi, I would like a restaurant inthe centre of ...</td>\n",
       "      <td>0</td>\n",
       "      <td>16</td>\n",
       "    </tr>\n",
       "  </tbody>\n",
       "</table>\n",
       "<p>4998 rows × 4 columns</p>\n",
       "</div>"
      ],
      "text/plain": [
       "                   comb_qa_turn  \\\n",
       "3            101010101010101010   \n",
       "5              0101010101010101   \n",
       "10            01010101010101010   \n",
       "16         10101010101010101010   \n",
       "17             1010101010101010   \n",
       "...                         ...   \n",
       "16685  101010101010101010101010   \n",
       "16686        101010101010101010   \n",
       "16691  101010101010101010101010   \n",
       "16695        101010101010101010   \n",
       "16696          1010101010101010   \n",
       "\n",
       "                                                dialogue  label  num_turns  \n",
       "3      I feel like visiting a museum, find me one ple...      0         18  \n",
       "5      I'm looking for a restaurant called Saffron Br...      0         16  \n",
       "10     Hello, I am looking for a guesthouse in the we...      0         17  \n",
       "16     What trains will leave from cambrige and arriv...      0         20  \n",
       "17     I need a restaurant in the east.#I have severa...      0         16  \n",
       "...                                                  ...    ...        ...  \n",
       "16685  Where is this saffron brasserie located?#it's ...      0         24  \n",
       "16686  Can you please recommend a hotel? I don't need...      0         18  \n",
       "16691  Can you help me find a nice 4 star hotel?#I wo...      0         24  \n",
       "16695  Can you help me out with finding a restaurant ...      0         18  \n",
       "16696  Hi, I would like a restaurant inthe centre of ...      0         16  \n",
       "\n",
       "[4998 rows x 4 columns]"
      ]
     },
     "execution_count": 43,
     "metadata": {},
     "output_type": "execute_result"
    }
   ],
   "source": [
    "comb_qa_train_df['num_turns'] = comb_qa_train_df['comb_qa_turn'].apply(len)\n",
    "comb_qa_train_df[comb_qa_train_df['num_turns'] >= 16]  # ['dialogue'].iloc[0]"
   ]
  },
  {
   "cell_type": "code",
   "execution_count": 44,
   "metadata": {},
   "outputs": [
    {
     "name": "stdout",
     "output_type": "stream",
     "text": [
      "Folder '0527_mwoz_comb_qa' created successfully.\n"
     ]
    }
   ],
   "source": [
    "import os\n",
    "\n",
    "# dataset 폴더 생성\n",
    "# case1_folder_path = \"0511_qa_st\"\n",
    "# if not os.path.exists(case1_folder_path):\n",
    "#     os.makedirs(case1_folder_path)\n",
    "#     print(f\"Folder '{case1_folder_path}' created successfully.\")\n",
    "# else:\n",
    "#     print(f\"Folder '{case1_folder_path}' already exists.\")\n",
    "    \n",
    "# case2_folder_path = \"0510_qan_st\"\n",
    "# if not os.path.exists(case2_folder_path):\n",
    "#     os.makedirs(case2_folder_path)\n",
    "#     print(f\"Folder '{case2_folder_path}' created successfully.\")\n",
    "# else:\n",
    "#     print(f\"Folder '{case2_folder_path}' already exists.\")\n",
    "\n",
    "# case3_folder_path = f\"0511_{datasetname}_comb_qa\"\n",
    "# if not os.path.exists(case3_folder_path):\n",
    "#     os.makedirs(case3_folder_path)\n",
    "#     print(f\"Folder '{case3_folder_path}' created successfully.\")\n",
    "# else:\n",
    "#     print(f\"Folder '{case3_folder_path}' already exists.\")\n",
    "\n",
    "case5_folder_path = f\"0527_{datasetname}_comb_qa\"\n",
    "if not os.path.exists(case5_folder_path):\n",
    "    os.makedirs(case5_folder_path)\n",
    "    print(f\"Folder '{case5_folder_path}' created successfully.\")\n",
    "else:\n",
    "    print(f\"Folder '{case5_folder_path}' already exists.\")"
   ]
  },
  {
   "cell_type": "code",
   "execution_count": 45,
   "metadata": {},
   "outputs": [],
   "source": [
    "# case1: \n",
    "# train_case1 = train_df[['turn', 'qa_dialogue', 'label', 'qa_turn']]\n",
    "# train_case1.to_csv(f\"{case1_folder_path}/train.tsv\", sep=\"\\t\", index=False, header=False)\n",
    "\n",
    "# case2: \n",
    "# train_case2 = train_df[['turn', 'qan_dialogue', 'label', 'qan_turn']]\n",
    "# train_case2.to_csv(f\"{case2_folder_path}/train.tsv\", sep=\"\\t\", index=False, header=False)\n",
    "\n",
    "# case3: qa turn 결합\n",
    "train_case5 = comb_qa_train_df[['comb_qa_turn', 'dialogue', 'label']]\n",
    "train_case5.to_csv(f\"{case5_folder_path}/train.tsv\", sep=\"\\t\", index=False, header=False)"
   ]
  },
  {
   "cell_type": "markdown",
   "metadata": {},
   "source": [
    "### dev, test 생성"
   ]
  },
  {
   "cell_type": "code",
   "execution_count": 46,
   "metadata": {},
   "outputs": [],
   "source": [
    "datasetname = 'mwoz' # metalwoz, mwoz, selfdialog, sgd\n",
    "column_names = ['turn', 'dialogue', 'label']\n",
    "path = '/home/jihyeon41/research_dial_embedding/dial2vec_git/dial2vec/datasets/'\n",
    "\n",
    "dev_df = pd.read_csv(f'{path}/{datasetname}/clustering_dev.tsv', sep = '\\t', header=None, names=column_names)\n",
    "test_df = pd.read_csv(f'{path}/{datasetname}/clustering_test.tsv', sep = '\\t', header=None, names=column_names)"
   ]
  },
  {
   "cell_type": "code",
   "execution_count": 47,
   "metadata": {},
   "outputs": [
    {
     "data": {
      "text/html": [
       "<div>\n",
       "<style scoped>\n",
       "    .dataframe tbody tr th:only-of-type {\n",
       "        vertical-align: middle;\n",
       "    }\n",
       "\n",
       "    .dataframe tbody tr th {\n",
       "        vertical-align: top;\n",
       "    }\n",
       "\n",
       "    .dataframe thead th {\n",
       "        text-align: right;\n",
       "    }\n",
       "</style>\n",
       "<table border=\"1\" class=\"dataframe\">\n",
       "  <thead>\n",
       "    <tr style=\"text-align: right;\">\n",
       "      <th></th>\n",
       "      <th>turn</th>\n",
       "      <th>dialogue</th>\n",
       "      <th>label</th>\n",
       "    </tr>\n",
       "  </thead>\n",
       "  <tbody>\n",
       "    <tr>\n",
       "      <th>0</th>\n",
       "      <td>10101010</td>\n",
       "      <td>I need a 19:15 taxi to take me to Avalon.#I ca...</td>\n",
       "      <td>1</td>\n",
       "    </tr>\n",
       "    <tr>\n",
       "      <th>1</th>\n",
       "      <td>10101010</td>\n",
       "      <td>Good day. Might you be able to assist me with ...</td>\n",
       "      <td>1</td>\n",
       "    </tr>\n",
       "  </tbody>\n",
       "</table>\n",
       "</div>"
      ],
      "text/plain": [
       "       turn                                           dialogue  label\n",
       "0  10101010  I need a 19:15 taxi to take me to Avalon.#I ca...      1\n",
       "1  10101010  Good day. Might you be able to assist me with ...      1"
      ]
     },
     "execution_count": 47,
     "metadata": {},
     "output_type": "execute_result"
    }
   ],
   "source": [
    "dev_df.head(2)"
   ]
  },
  {
   "cell_type": "code",
   "execution_count": 48,
   "metadata": {},
   "outputs": [
    {
     "name": "stderr",
     "output_type": "stream",
     "text": [
      "  0%|          | 0/1077 [00:00<?, ?it/s]"
     ]
    },
    {
     "name": "stderr",
     "output_type": "stream",
     "text": [
      "100%|██████████| 1077/1077 [00:00<00:00, 5853.28it/s]\n",
      "100%|██████████| 1084/1084 [00:00<00:00, 5967.82it/s]\n"
     ]
    }
   ],
   "source": [
    "# dev, test의 dialogue 역시 문장 단위로 #구분자로 구분되도록 변경\n",
    "# turn도 문장단위로 변경하되, 동일한 턴은 같은 숫자 부여\n",
    "def sep_sent(df):\n",
    "    df['dialogue'] = df['dialogue'].str.split('|').str[0]\n",
    "\n",
    "    df['sep_dial'] = ''\n",
    "    for i, dial in tqdm(enumerate(df['dialogue']), total=len(df['dialogue'])):\n",
    "        sep_dial = add_sep_to_dialogue(dial)\n",
    "        df['sep_dial'][i] = sep_dial\n",
    "        \n",
    "    df['sep_counts_per_turn'] = df['sep_dial'].apply(count_sep_per_turn)\n",
    "    df['turn'] = df['sep_counts_per_turn'].apply(generate_turn_list)\n",
    "    df['turn'] = df['turn'].apply(convert_to_binary)\n",
    "        \n",
    "    df['dialogue'] = df['sep_dial'].str.replace('[sep]', '#')\n",
    "    df.drop(columns=['sep_dial', 'sep_counts_per_turn'], inplace=True)\n",
    "    return df\n",
    "\n",
    "dev_df = sep_sent(dev_df)\n",
    "test_df = sep_sent(test_df)"
   ]
  },
  {
   "cell_type": "code",
   "execution_count": 49,
   "metadata": {},
   "outputs": [
    {
     "data": {
      "text/html": [
       "<div>\n",
       "<style scoped>\n",
       "    .dataframe tbody tr th:only-of-type {\n",
       "        vertical-align: middle;\n",
       "    }\n",
       "\n",
       "    .dataframe tbody tr th {\n",
       "        vertical-align: top;\n",
       "    }\n",
       "\n",
       "    .dataframe thead th {\n",
       "        text-align: right;\n",
       "    }\n",
       "</style>\n",
       "<table border=\"1\" class=\"dataframe\">\n",
       "  <thead>\n",
       "    <tr style=\"text-align: right;\">\n",
       "      <th></th>\n",
       "      <th>turn</th>\n",
       "      <th>dialogue</th>\n",
       "      <th>label</th>\n",
       "    </tr>\n",
       "  </thead>\n",
       "  <tbody>\n",
       "    <tr>\n",
       "      <th>0</th>\n",
       "      <td>10010001001100</td>\n",
       "      <td>I need a 19:15 taxi to take me to Avalon.#I ca...</td>\n",
       "      <td>1</td>\n",
       "    </tr>\n",
       "    <tr>\n",
       "      <th>1</th>\n",
       "      <td>11001010100</td>\n",
       "      <td>Good day.#Might you be able to assist me with ...</td>\n",
       "      <td>1</td>\n",
       "    </tr>\n",
       "    <tr>\n",
       "      <th>2</th>\n",
       "      <td>1010001001001110001100</td>\n",
       "      <td>I am looking for a restaurant.#Is there a pric...</td>\n",
       "      <td>2</td>\n",
       "    </tr>\n",
       "  </tbody>\n",
       "</table>\n",
       "</div>"
      ],
      "text/plain": [
       "                     turn                                           dialogue  \\\n",
       "0          10010001001100  I need a 19:15 taxi to take me to Avalon.#I ca...   \n",
       "1             11001010100  Good day.#Might you be able to assist me with ...   \n",
       "2  1010001001001110001100  I am looking for a restaurant.#Is there a pric...   \n",
       "\n",
       "   label  \n",
       "0      1  \n",
       "1      1  \n",
       "2      2  "
      ]
     },
     "execution_count": 49,
     "metadata": {},
     "output_type": "execute_result"
    }
   ],
   "source": [
    "dev_df.head(3)"
   ]
  },
  {
   "cell_type": "code",
   "execution_count": 50,
   "metadata": {},
   "outputs": [],
   "source": [
    "dev_df['qa_turn'] = dev_df['dialogue'].apply(get_qa_turn)\n",
    "dev_df['qa_turn'] = dev_df['qa_turn'].apply(convert_to_binary)\n",
    "\n",
    "test_df['qa_turn'] = test_df['dialogue'].apply(get_qa_turn)\n",
    "test_df['qa_turn'] = test_df['qa_turn'].apply(convert_to_binary)"
   ]
  },
  {
   "cell_type": "code",
   "execution_count": 51,
   "metadata": {},
   "outputs": [],
   "source": [
    "dev_df['qan_turn'] = dev_df['dialogue'].apply(generate_qan_turn)\n",
    "dev_df['qan_turn'] = dev_df['qan_turn'].apply(convert_to_binary)\n",
    "\n",
    "test_df['qan_turn'] = test_df['dialogue'].apply(generate_qan_turn)\n",
    "test_df['qan_turn'] = test_df['qan_turn'].apply(convert_to_binary)"
   ]
  },
  {
   "cell_type": "code",
   "execution_count": 52,
   "metadata": {},
   "outputs": [],
   "source": [
    "# dialogue 9개 반복\n",
    "dev_df['dialogue'] = dev_df['dialogue'].apply(lambda x: '|'.join([x] * 9))\n",
    "test_df['dialogue'] = test_df['dialogue'].apply(lambda x: '|'.join([x] * 9))"
   ]
  },
  {
   "cell_type": "code",
   "execution_count": 53,
   "metadata": {},
   "outputs": [
    {
     "data": {
      "text/html": [
       "<div>\n",
       "<style scoped>\n",
       "    .dataframe tbody tr th:only-of-type {\n",
       "        vertical-align: middle;\n",
       "    }\n",
       "\n",
       "    .dataframe tbody tr th {\n",
       "        vertical-align: top;\n",
       "    }\n",
       "\n",
       "    .dataframe thead th {\n",
       "        text-align: right;\n",
       "    }\n",
       "</style>\n",
       "<table border=\"1\" class=\"dataframe\">\n",
       "  <thead>\n",
       "    <tr style=\"text-align: right;\">\n",
       "      <th></th>\n",
       "      <th>turn</th>\n",
       "      <th>dialogue</th>\n",
       "      <th>label</th>\n",
       "      <th>qa_turn</th>\n",
       "      <th>qan_turn</th>\n",
       "    </tr>\n",
       "  </thead>\n",
       "  <tbody>\n",
       "    <tr>\n",
       "      <th>0</th>\n",
       "      <td>1010011011110</td>\n",
       "      <td>I am looking for a train to Ely.#What day are ...</td>\n",
       "      <td>1</td>\n",
       "      <td>0110001000000</td>\n",
       "      <td>2110221022222</td>\n",
       "    </tr>\n",
       "    <tr>\n",
       "      <th>1</th>\n",
       "      <td>1000100010010010100</td>\n",
       "      <td>Heya, can you find me an expensive restaurant ...</td>\n",
       "      <td>2</td>\n",
       "      <td>1001100100110101000</td>\n",
       "      <td>1021102102110101022</td>\n",
       "    </tr>\n",
       "    <tr>\n",
       "      <th>2</th>\n",
       "      <td>101010010</td>\n",
       "      <td>Hey, I'm up south can you give me a place to e...</td>\n",
       "      <td>2</td>\n",
       "      <td>110010000</td>\n",
       "      <td>110210222</td>\n",
       "    </tr>\n",
       "  </tbody>\n",
       "</table>\n",
       "</div>"
      ],
      "text/plain": [
       "                  turn                                           dialogue  \\\n",
       "0        1010011011110  I am looking for a train to Ely.#What day are ...   \n",
       "1  1000100010010010100  Heya, can you find me an expensive restaurant ...   \n",
       "2            101010010  Hey, I'm up south can you give me a place to e...   \n",
       "\n",
       "   label              qa_turn             qan_turn  \n",
       "0      1        0110001000000        2110221022222  \n",
       "1      2  1001100100110101000  1021102102110101022  \n",
       "2      2            110010000            110210222  "
      ]
     },
     "execution_count": 53,
     "metadata": {},
     "output_type": "execute_result"
    }
   ],
   "source": [
    "test_df.head(3)"
   ]
  },
  {
   "cell_type": "code",
   "execution_count": 54,
   "metadata": {},
   "outputs": [
    {
     "data": {
      "text/plain": [
       "9"
      ]
     },
     "execution_count": 54,
     "metadata": {},
     "output_type": "execute_result"
    }
   ],
   "source": [
    "len(test_df['dialogue'][0].split('|'))\n",
    "len(dev_df['dialogue'][0].split('|'))"
   ]
  },
  {
   "cell_type": "code",
   "execution_count": 55,
   "metadata": {},
   "outputs": [
    {
     "name": "stderr",
     "output_type": "stream",
     "text": [
      "100%|█████████▉| 1076/1077 [00:00<00:00, 24145.69it/s]\n"
     ]
    },
    {
     "name": "stderr",
     "output_type": "stream",
     "text": [
      "100%|█████████▉| 1083/1084 [00:00<00:00, 24512.34it/s]\n"
     ]
    }
   ],
   "source": [
    "# QA 결합\n",
    "from tqdm import tqdm\n",
    "\n",
    "def comb_qa(df):\n",
    "    new_samples = []\n",
    "    new_turns = []\n",
    "    for qa_turn, sample in zip(df['qa_turn'],tqdm(df['dialogue'])):\n",
    "        dials = sample.split(\"|\")\n",
    "        new_sample = \"\"\n",
    "        for dial in dials:\n",
    "            sentences = dial.split(\"#\")\n",
    "            new_sentences = sentences[0]\n",
    "            new_qa_turn = qa_turn[0]\n",
    "            \n",
    "            for i in range(1, len(qa_turn)):\n",
    "                if qa_turn[i] != qa_turn[i-1]:\n",
    "                    new_qa_turn += qa_turn[i]\n",
    "                    new_sentences += \"#\" + sentences[i]\n",
    "                else:\n",
    "                    new_sentences += \" \" + sentences[i]\n",
    "            new_sample += \"|\" + new_sentences\n",
    "\n",
    "        new_samples.append(new_sample[1:])\n",
    "        new_turns.append(new_qa_turn)\n",
    "\n",
    "    return new_samples, new_turns\n",
    "\n",
    "dev_new_samples, dev_new_turns = comb_qa(dev_df)\n",
    "dev_df['comb_qa_dialogue'] = dev_new_samples\n",
    "dev_df['comb_qa_turn'] = dev_new_turns\n",
    "\n",
    "test_new_samples, test_new_turns = comb_qa(test_df)\n",
    "test_df['comb_qa_dialogue'] = test_new_samples\n",
    "test_df['comb_qa_turn'] = test_new_turns"
   ]
  },
  {
   "cell_type": "code",
   "execution_count": 56,
   "metadata": {},
   "outputs": [
    {
     "name": "stdout",
     "output_type": "stream",
     "text": [
      "Folder '0527_mwoz_comb_qa' already exists.\n"
     ]
    }
   ],
   "source": [
    "import os\n",
    "\n",
    "# dataset 폴더 생성\n",
    "# case1_folder_path = \"0511_qa_st\"\n",
    "# if not os.path.exists(case1_folder_path):\n",
    "#     os.makedirs(case1_folder_path)\n",
    "#     print(f\"Folder '{case1_folder_path}' created successfully.\")\n",
    "# else:\n",
    "#     print(f\"Folder '{case1_folder_path}' already exists.\")\n",
    "    \n",
    "# case2_folder_path = \"0510_qan_st\"\n",
    "# if not os.path.exists(case2_folder_path):\n",
    "#     os.makedirs(case2_folder_path)\n",
    "#     print(f\"Folder '{case2_folder_path}' created successfully.\")\n",
    "# else:\n",
    "#     print(f\"Folder '{case2_folder_path}' already exists.\")\n",
    "\n",
    "# case3_folder_path = f\"0511_{datasetname}_comb_qa\"\n",
    "# if not os.path.exists(case3_folder_path):\n",
    "#     os.makedirs(case3_folder_path)\n",
    "#     print(f\"Folder '{case3_folder_path}' created successfully.\")\n",
    "# else:\n",
    "#     print(f\"Folder '{case3_folder_path}' already exists.\")\n",
    "    \n",
    "case5_folder_path = f\"0527_{datasetname}_comb_qa\"\n",
    "if not os.path.exists(case5_folder_path):\n",
    "    os.makedirs(case5_folder_path)\n",
    "    print(f\"Folder '{case5_folder_path}' created successfully.\")\n",
    "else:\n",
    "    print(f\"Folder '{case5_folder_path}' already exists.\")"
   ]
  },
  {
   "cell_type": "code",
   "execution_count": 57,
   "metadata": {},
   "outputs": [],
   "source": [
    "# 데이터 저장\n",
    "# case1: 0510_qa_st\n",
    "# dev_case1 = dev_df[['turn', 'dialogue', 'label', 'qa_turn']]\n",
    "# dev_case1.to_csv(f\"{case1_folder_path}/clustering_dev.tsv\", sep=\"\\t\", index=False, header=False)\n",
    "\n",
    "# test_case1 = test_df[['turn', 'dialogue', 'label', 'qa_turn']]\n",
    "# test_case1.to_csv(f\"{case1_folder_path}/clustering_test.tsv\", sep=\"\\t\", index=False, header=False)\n",
    "\n",
    "# # case2: 0510_qan_st\n",
    "# dev_case2 = dev_df[['turn', 'dialogue', 'label', 'qan_turn']]\n",
    "# dev_case2.to_csv(f\"{case2_folder_path}/clustering_dev.tsv\", sep=\"\\t\", index=False, header=False)\n",
    "\n",
    "# test_case2 = test_df[['turn', 'dialogue', 'label', 'qan_turn']]\n",
    "# test_case2.to_csv(f\"{case2_folder_path}/clustering_test.tsv\", sep=\"\\t\", index=False, header=False)\n",
    "\n",
    "# case3: 0511_comb_qa\n",
    "# dev_case3 = dev_df[['comb_qa_turn', 'comb_qa_dialogue', 'label']]\n",
    "# dev_case3.to_csv(f\"{case3_folder_path}/clustering_dev.tsv\", sep=\"\\t\", index=False, header=False)\n",
    "\n",
    "# test_case3 = test_df[['comb_qa_turn', 'comb_qa_dialogue', 'label']]\n",
    "# test_case3.to_csv(f\"{case3_folder_path}/clustering_test.tsv\", sep=\"\\t\", index=False, header=False)\n",
    "\n",
    "# case5: 0520_sgd_comb_qa, 0520_mwoz_comb_qa\n",
    "dev_case5 = dev_df[['comb_qa_turn', 'comb_qa_dialogue', 'label']]\n",
    "dev_case5.to_csv(f\"{case5_folder_path}/clustering_dev.tsv\", sep=\"\\t\", index=False, header=False)\n",
    "\n",
    "test_case5 = test_df[['comb_qa_turn', 'comb_qa_dialogue', 'label']]\n",
    "test_case5.to_csv(f\"{case5_folder_path}/clustering_test.tsv\", sep=\"\\t\", index=False, header=False)"
   ]
  },
  {
   "cell_type": "code",
   "execution_count": 58,
   "metadata": {},
   "outputs": [
    {
     "data": {
      "text/html": [
       "<div>\n",
       "<style scoped>\n",
       "    .dataframe tbody tr th:only-of-type {\n",
       "        vertical-align: middle;\n",
       "    }\n",
       "\n",
       "    .dataframe tbody tr th {\n",
       "        vertical-align: top;\n",
       "    }\n",
       "\n",
       "    .dataframe thead th {\n",
       "        text-align: right;\n",
       "    }\n",
       "</style>\n",
       "<table border=\"1\" class=\"dataframe\">\n",
       "  <thead>\n",
       "    <tr style=\"text-align: right;\">\n",
       "      <th></th>\n",
       "      <th>comb_qa_turn</th>\n",
       "      <th>comb_qa_dialogue</th>\n",
       "      <th>label</th>\n",
       "    </tr>\n",
       "  </thead>\n",
       "  <tbody>\n",
       "    <tr>\n",
       "      <th>0</th>\n",
       "      <td>01010</td>\n",
       "      <td>I am looking for a train to Ely.#What day are ...</td>\n",
       "      <td>1</td>\n",
       "    </tr>\n",
       "    <tr>\n",
       "      <th>1</th>\n",
       "      <td>101010101010</td>\n",
       "      <td>Heya, can you find me an expensive restaurant ...</td>\n",
       "      <td>2</td>\n",
       "    </tr>\n",
       "    <tr>\n",
       "      <th>2</th>\n",
       "      <td>1010</td>\n",
       "      <td>Hey, I'm up south can you give me a place to e...</td>\n",
       "      <td>2</td>\n",
       "    </tr>\n",
       "    <tr>\n",
       "      <th>3</th>\n",
       "      <td>010101010</td>\n",
       "      <td>I am looking for a 4 star place to stay.#What ...</td>\n",
       "      <td>3</td>\n",
       "    </tr>\n",
       "    <tr>\n",
       "      <th>4</th>\n",
       "      <td>101010</td>\n",
       "      <td>I would like to eat in the Center of town at a...</td>\n",
       "      <td>2</td>\n",
       "    </tr>\n",
       "    <tr>\n",
       "      <th>...</th>\n",
       "      <td>...</td>\n",
       "      <td>...</td>\n",
       "      <td>...</td>\n",
       "    </tr>\n",
       "    <tr>\n",
       "      <th>1079</th>\n",
       "      <td>101</td>\n",
       "      <td>I'm looking for the information on a restauran...</td>\n",
       "      <td>2</td>\n",
       "    </tr>\n",
       "    <tr>\n",
       "      <th>1080</th>\n",
       "      <td>010101010101010</td>\n",
       "      <td>Hi there. I'll be coming into the centre of to...</td>\n",
       "      <td>3</td>\n",
       "    </tr>\n",
       "    <tr>\n",
       "      <th>1081</th>\n",
       "      <td>010101010</td>\n",
       "      <td>I'm looking for a restaurant in the centre of ...</td>\n",
       "      <td>2</td>\n",
       "    </tr>\n",
       "    <tr>\n",
       "      <th>1082</th>\n",
       "      <td>10</td>\n",
       "      <td>I need a taxi to go to saigon city and arrive ...</td>\n",
       "      <td>5</td>\n",
       "    </tr>\n",
       "    <tr>\n",
       "      <th>1083</th>\n",
       "      <td>10101010</td>\n",
       "      <td>I need help finding an expensive place to eat ...</td>\n",
       "      <td>2</td>\n",
       "    </tr>\n",
       "  </tbody>\n",
       "</table>\n",
       "<p>1084 rows × 3 columns</p>\n",
       "</div>"
      ],
      "text/plain": [
       "         comb_qa_turn                                   comb_qa_dialogue  \\\n",
       "0               01010  I am looking for a train to Ely.#What day are ...   \n",
       "1        101010101010  Heya, can you find me an expensive restaurant ...   \n",
       "2                1010  Hey, I'm up south can you give me a place to e...   \n",
       "3           010101010  I am looking for a 4 star place to stay.#What ...   \n",
       "4              101010  I would like to eat in the Center of town at a...   \n",
       "...               ...                                                ...   \n",
       "1079              101  I'm looking for the information on a restauran...   \n",
       "1080  010101010101010  Hi there. I'll be coming into the centre of to...   \n",
       "1081        010101010  I'm looking for a restaurant in the centre of ...   \n",
       "1082               10  I need a taxi to go to saigon city and arrive ...   \n",
       "1083         10101010  I need help finding an expensive place to eat ...   \n",
       "\n",
       "      label  \n",
       "0         1  \n",
       "1         2  \n",
       "2         2  \n",
       "3         3  \n",
       "4         2  \n",
       "...     ...  \n",
       "1079      2  \n",
       "1080      3  \n",
       "1081      2  \n",
       "1082      5  \n",
       "1083      2  \n",
       "\n",
       "[1084 rows x 3 columns]"
      ]
     },
     "execution_count": 58,
     "metadata": {},
     "output_type": "execute_result"
    }
   ],
   "source": [
    "test_case5"
   ]
  },
  {
   "cell_type": "markdown",
   "metadata": {},
   "source": [
    "---"
   ]
  },
  {
   "cell_type": "markdown",
   "metadata": {},
   "source": [
    "### 질문 턴의 위치를 바꾼 positive 생성"
   ]
  },
  {
   "cell_type": "code",
   "execution_count": 59,
   "metadata": {},
   "outputs": [],
   "source": [
    "datasetname = '0527_mwoz_comb_qa' # metalwoz, mwoz, selfdialog, sgd\n",
    "column_names = ['qa_turn', 'dialogue', 'label']\n",
    "path = '/home/jihyeon41/research_dial_embedding/dial2vec_git/dial2vec/datasets/'\n",
    "\n",
    "train_df = pd.read_csv(f'{path}{datasetname}/train.tsv', sep = '\\t', header=None, names=column_names)"
   ]
  },
  {
   "cell_type": "code",
   "execution_count": 60,
   "metadata": {},
   "outputs": [
    {
     "data": {
      "text/plain": [
       "9"
      ]
     },
     "execution_count": 60,
     "metadata": {},
     "output_type": "execute_result"
    }
   ],
   "source": [
    "len(train_df['dialogue'][0].split('|'))"
   ]
  },
  {
   "cell_type": "code",
   "execution_count": 61,
   "metadata": {},
   "outputs": [],
   "source": [
    "def shuffle_questions(df):\n",
    "    # 첫 번째 대화 추출\n",
    "    anchor = df['dialogue'].split('|')[0]\n",
    "    turns = anchor.split('#')\n",
    "    qa_turns = df['qa_turn']\n",
    "    \n",
    "    # 질문 턴과 대답 턴 분리\n",
    "    questions = []\n",
    "    answers = []\n",
    "    for i, turn in enumerate(turns):\n",
    "        if qa_turns[i] == '1':\n",
    "            questions.append(turn)\n",
    "        else:\n",
    "            answers.append(turn)\n",
    "            \n",
    "    # 질문 턴 섞기\n",
    "    random.shuffle(questions)\n",
    "    \n",
    "    # 섞인 질문 턴과 대답 턴 다시 조합\n",
    "    shuffled_turns = []\n",
    "    q_index = 0\n",
    "    a_index = 0\n",
    "    for i in range(len(turns)):\n",
    "        if qa_turns[i] == '1':\n",
    "            shuffled_turns.append(questions[q_index])\n",
    "            q_index += 1\n",
    "        else:\n",
    "            shuffled_turns.append(answers[a_index])\n",
    "            a_index += 1\n",
    "            \n",
    "    # 섞인 대화 다시 조합\n",
    "    shuffled_dialogue = '#'.join(shuffled_turns)\n",
    "    \n",
    "    # 첫 번째 대화와 두 번째 대화 사이에 삽입\n",
    "    dialogues = df['dialogue'].split('|')\n",
    "    updated_dialogue = '|'.join([dialogues[0], shuffled_dialogue] + dialogues[1:])\n",
    "    \n",
    "    return updated_dialogue"
   ]
  },
  {
   "cell_type": "code",
   "execution_count": 62,
   "metadata": {},
   "outputs": [],
   "source": [
    "train_df['dialogue'] = train_df.apply(shuffle_questions, axis=1)"
   ]
  },
  {
   "cell_type": "code",
   "execution_count": 63,
   "metadata": {},
   "outputs": [
    {
     "data": {
      "text/plain": [
       "10"
      ]
     },
     "execution_count": 63,
     "metadata": {},
     "output_type": "execute_result"
    }
   ],
   "source": [
    "len(train_df['dialogue'][0].split('|'))"
   ]
  },
  {
   "cell_type": "code",
   "execution_count": 65,
   "metadata": {},
   "outputs": [
    {
     "name": "stdout",
     "output_type": "stream",
     "text": [
      "Folder '0527_mwoz_anc_q_shuffle' created successfully.\n"
     ]
    }
   ],
   "source": [
    "import os\n",
    "\n",
    "case4_folder_path = f\"0527_mwoz_anc_q_shuffle\" # 폴더명 변경 필요\n",
    "if not os.path.exists(case4_folder_path):\n",
    "    os.makedirs(case4_folder_path)\n",
    "    print(f\"Folder '{case4_folder_path}' created successfully.\")\n",
    "else:\n",
    "    print(f\"Folder '{case4_folder_path}' already exists.\")"
   ]
  },
  {
   "cell_type": "code",
   "execution_count": 66,
   "metadata": {},
   "outputs": [],
   "source": [
    "train_df.to_csv(f\"{case4_folder_path}/train.tsv\", sep=\"\\t\", index=False, header=False)"
   ]
  },
  {
   "cell_type": "code",
   "execution_count": 67,
   "metadata": {},
   "outputs": [],
   "source": [
    "# dev, test도 데이터 10개로 다시 수정\n",
    "\n",
    "dev_df = pd.read_csv(f'{path}{datasetname}/clustering_dev.tsv', sep = '\\t', header=None, names=column_names)\n",
    "test_df = pd.read_csv(f'{path}{datasetname}/clustering_test.tsv', sep = '\\t', header=None, names=column_names)"
   ]
  },
  {
   "cell_type": "code",
   "execution_count": 68,
   "metadata": {},
   "outputs": [
    {
     "data": {
      "text/plain": [
       "9"
      ]
     },
     "execution_count": 68,
     "metadata": {},
     "output_type": "execute_result"
    }
   ],
   "source": [
    "len(dev_df['dialogue'][0].split('|'))"
   ]
  },
  {
   "cell_type": "code",
   "execution_count": 69,
   "metadata": {},
   "outputs": [],
   "source": [
    "def repeat_dialogue(df):\n",
    "    dialogues = df.split('|')\n",
    "    dialogues.append(dialogues[0])  # 같은 대화를 하나 더 추가\n",
    "    updated_dialogue = '|'.join(dialogues)\n",
    "    return updated_dialogue"
   ]
  },
  {
   "cell_type": "code",
   "execution_count": 70,
   "metadata": {},
   "outputs": [],
   "source": [
    "dev_df['dialogue'] = dev_df['dialogue'].apply(repeat_dialogue)\n",
    "test_df['dialogue'] = test_df['dialogue'].apply(repeat_dialogue)"
   ]
  },
  {
   "cell_type": "code",
   "execution_count": 71,
   "metadata": {},
   "outputs": [
    {
     "data": {
      "text/plain": [
       "10"
      ]
     },
     "execution_count": 71,
     "metadata": {},
     "output_type": "execute_result"
    }
   ],
   "source": [
    "len(dev_df['dialogue'][0].split('|'))"
   ]
  },
  {
   "cell_type": "code",
   "execution_count": 72,
   "metadata": {},
   "outputs": [],
   "source": [
    "dev_df.to_csv(f\"{case4_folder_path}/clustering_dev.tsv\", sep=\"\\t\", index=False, header=False)\n",
    "test_df.to_csv(f\"{case4_folder_path}/clustering_test.tsv\", sep=\"\\t\", index=False, header=False)"
   ]
  },
  {
   "cell_type": "markdown",
   "metadata": {},
   "source": [
    "----"
   ]
  }
 ],
 "metadata": {
  "kernelspec": {
   "display_name": "kosimcse",
   "language": "python",
   "name": "python3"
  },
  "language_info": {
   "codemirror_mode": {
    "name": "ipython",
    "version": 3
   },
   "file_extension": ".py",
   "mimetype": "text/x-python",
   "name": "python",
   "nbconvert_exporter": "python",
   "pygments_lexer": "ipython3",
   "version": "3.8.18"
  }
 },
 "nbformat": 4,
 "nbformat_minor": 2
}
