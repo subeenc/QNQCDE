{
 "cells": [
  {
   "cell_type": "code",
   "execution_count": 2,
   "metadata": {},
   "outputs": [],
   "source": [
    "import pandas as pd\n",
    "import torch"
   ]
  },
  {
   "cell_type": "code",
   "execution_count": null,
   "metadata": {},
   "outputs": [],
   "source": [
    "pd.read_csv('./datasets/sgd_train_with_pairs.csv')"
   ]
  },
  {
   "cell_type": "code",
   "execution_count": 4,
   "metadata": {},
   "outputs": [
    {
     "name": "stdout",
     "output_type": "stream",
     "text": [
      "embeddings: tensor([[ 0.3094, -1.4945,  0.9923,  0.7489, -1.3655, -1.2782,  0.5782,  2.0492,\n",
      "         -0.5092, -0.1286],\n",
      "        [-0.4491,  0.7470,  0.2118, -2.7413,  1.5259,  0.8199,  0.3332, -0.1293,\n",
      "         -0.1795,  0.8300],\n",
      "        [ 0.6163, -0.9916,  0.5512,  0.2576,  0.7258,  1.6834, -0.8070,  0.7381,\n",
      "         -0.4729,  1.7310]]) torch.Size([3, 10])\n"
     ]
    }
   ],
   "source": [
    "n = 3\n",
    "embeddings = torch.randn(n, 10)  # n개의 문장 임베딩, 각 임베딩은 embedding_dim 차원을 가짐\n",
    "print('embeddings:', embeddings, embeddings.shape)"
   ]
  },
  {
   "cell_type": "code",
   "execution_count": 8,
   "metadata": {},
   "outputs": [
    {
     "name": "stdout",
     "output_type": "stream",
     "text": [
      "embeddings: tensor([[-2.0773, -0.3115,  0.5964,  0.0521,  1.7028, -0.0261,  1.3615,  1.3756,\n",
      "         -0.1964,  0.5257],\n",
      "        [-0.4080, -1.3828,  0.3107, -0.1372,  1.9525,  0.5175, -1.5691,  0.0940,\n",
      "          1.3728,  0.2455],\n",
      "        [-0.5965, -1.0867,  2.5683, -0.5368,  0.2017, -1.7209, -2.2451, -0.0408,\n",
      "          0.2427,  0.3305]])\n",
      "cos_sim: tensor([[1.0000, 0.2340, 0.0346],\n",
      "        [0.2340, 1.0000, 0.4540],\n",
      "        [0.0346, 0.4540, 1.0000]])\n"
     ]
    }
   ],
   "source": [
    "n = 3\n",
    "embeddings = torch.randn(n, 10)  # n개의 문장 임베딩, 각 임베딩은 embedding_dim 차원을 가짐\n",
    "print('embeddings:', embeddings)\n",
    "\n",
    "# 코사인 유사도 계산\n",
    "import torch.nn.functional as F\n",
    "cos_sim = F.cosine_similarity(embeddings.unsqueeze(1), embeddings.unsqueeze(0), dim=2)\n",
    "print('cos_sim:', cos_sim)"
   ]
  },
  {
   "cell_type": "code",
   "execution_count": 2,
   "metadata": {},
   "outputs": [
    {
     "name": "stdout",
     "output_type": "stream",
     "text": [
      "torch.Size([4, 4, 768])\n",
      "tensor([[[-0.0753,  0.1531,  0.1153,  ...,  0.1332,  0.0609, -0.1888],\n",
      "         [ 0.2131,  0.0373,  0.0101,  ...,  0.0649, -0.0306,  0.1454],\n",
      "         [ 0.0531, -0.1456, -0.2365,  ..., -0.1979, -0.0118,  0.0456],\n",
      "         [ 0.0507,  0.0801,  0.1205,  ..., -0.0647,  0.0330,  0.0523]],\n",
      "\n",
      "        [[ 0.1088,  0.1431, -0.0577,  ...,  0.0714,  0.1611,  0.1437],\n",
      "         [ 0.2466, -0.1049, -0.0710,  ...,  0.1450, -0.0757, -0.0310],\n",
      "         [ 0.1171, -0.0182, -0.2757,  ..., -0.1255, -0.1087, -0.0798],\n",
      "         [ 0.0087,  0.0354, -0.1808,  ..., -0.0838, -0.0389, -0.0156]],\n",
      "\n",
      "        [[-0.0452,  0.0029, -0.1244,  ...,  0.0429,  0.1486,  0.2898],\n",
      "         [ 0.1430,  0.0356, -0.0354,  ..., -0.2478, -0.0468,  0.0667],\n",
      "         [-0.2457,  0.1178,  0.0770,  ...,  0.0905,  0.0673, -0.0276],\n",
      "         [-0.2026, -0.0485,  0.0946,  ..., -0.0428, -0.0315,  0.0331]],\n",
      "\n",
      "        [[ 0.1222, -0.1330,  0.1197,  ..., -0.0299, -0.0168, -0.0286],\n",
      "         [ 0.0227, -0.1190,  0.0848,  ..., -0.0396,  0.1849,  0.0377],\n",
      "         [ 0.0395,  0.1163,  0.1286,  ..., -0.1175, -0.0660, -0.0870],\n",
      "         [ 0.0814, -0.0110,  0.2036,  ..., -0.0494,  0.0722, -0.2059]]])\n"
     ]
    }
   ],
   "source": [
    "import torch\n",
    "last_hidden_state = torch.randn(4, 4, 64, 768)  # (batch_size, sequence_length, num_layers, hidden_size)\n",
    "\n",
    "# 각 문장 벡터를 풀링하여 (4, 4, 768)로 변환합니다.\n",
    "# 여기서는 간단하게 평균 풀링을 사용합니다.\n",
    "pooled_output = torch.mean(last_hidden_state, dim=2)\n",
    "print(pooled_output.shape)\n",
    "print(pooled_output)"
   ]
  }
 ],
 "metadata": {
  "kernelspec": {
   "display_name": "kosimcse",
   "language": "python",
   "name": "python3"
  },
  "language_info": {
   "codemirror_mode": {
    "name": "ipython",
    "version": 3
   },
   "file_extension": ".py",
   "mimetype": "text/x-python",
   "name": "python",
   "nbconvert_exporter": "python",
   "pygments_lexer": "ipython3",
   "version": "3.8.18"
  }
 },
 "nbformat": 4,
 "nbformat_minor": 2
}
